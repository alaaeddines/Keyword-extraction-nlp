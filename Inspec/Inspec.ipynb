{
  "nbformat": 4,
  "nbformat_minor": 0,
  "metadata": {
    "colab": {
      "name": "Inspec.ipynb",
      "provenance": [],
      "collapsed_sections": []
    },
    "kernelspec": {
      "name": "python3",
      "display_name": "Python 3"
    },
    "language_info": {
      "name": "python"
    }
  },
  "cells": [
    {
      "cell_type": "markdown",
      "source": [
        "## Installing the required dependencies"
      ],
      "metadata": {
        "id": "ZpG9s236aJ0A"
      }
    },
    {
      "cell_type": "code",
      "source": [
        "!pip install -U pip setuptools wheel\n",
        "\n",
        "!pip install -U spacy\n",
        "\n",
        "!python -m spacy download en_core_web_sm\n",
        "\n",
        "!pip install git+https://github.com/boudinfl/pke.git\n",
        "!pip install matplotlib"
      ],
      "metadata": {
        "colab": {
          "base_uri": "https://localhost:8080/",
          "height": 1000
        },
        "id": "UN-FsbzPY7vV",
        "outputId": "c98494ed-664d-4fc5-b9a8-18a1e4ad57bf"
      },
      "execution_count": null,
      "outputs": [
        {
          "output_type": "stream",
          "name": "stdout",
          "text": [
            "Requirement already satisfied: pip in /usr/local/lib/python3.7/dist-packages (21.1.3)\n",
            "Collecting pip\n",
            "  Downloading pip-22.0.4-py3-none-any.whl (2.1 MB)\n",
            "\u001b[K     |████████████████████████████████| 2.1 MB 4.2 MB/s \n",
            "\u001b[?25hRequirement already satisfied: setuptools in /usr/local/lib/python3.7/dist-packages (57.4.0)\n",
            "Collecting setuptools\n",
            "  Downloading setuptools-62.1.0-py3-none-any.whl (1.1 MB)\n",
            "\u001b[K     |████████████████████████████████| 1.1 MB 33.2 MB/s \n",
            "\u001b[?25hRequirement already satisfied: wheel in /usr/local/lib/python3.7/dist-packages (0.37.1)\n",
            "Installing collected packages: setuptools, pip\n",
            "  Attempting uninstall: setuptools\n",
            "    Found existing installation: setuptools 57.4.0\n",
            "    Uninstalling setuptools-57.4.0:\n",
            "      Successfully uninstalled setuptools-57.4.0\n",
            "  Attempting uninstall: pip\n",
            "    Found existing installation: pip 21.1.3\n",
            "    Uninstalling pip-21.1.3:\n",
            "      Successfully uninstalled pip-21.1.3\n",
            "\u001b[31mERROR: pip's dependency resolver does not currently take into account all the packages that are installed. This behaviour is the source of the following dependency conflicts.\n",
            "tensorflow 2.8.0 requires tf-estimator-nightly==2.8.0.dev2021122109, which is not installed.\n",
            "datascience 0.10.6 requires folium==0.2.1, but you have folium 0.8.3 which is incompatible.\u001b[0m\n",
            "Successfully installed pip-22.0.4 setuptools-62.1.0\n"
          ]
        },
        {
          "output_type": "display_data",
          "data": {
            "application/vnd.colab-display-data+json": {
              "pip_warning": {
                "packages": [
                  "pkg_resources"
                ]
              }
            }
          },
          "metadata": {}
        },
        {
          "output_type": "stream",
          "name": "stdout",
          "text": [
            "Requirement already satisfied: spacy in /usr/local/lib/python3.7/dist-packages (2.2.4)\n",
            "Collecting spacy\n",
            "  Downloading spacy-3.2.4-cp37-cp37m-manylinux_2_17_x86_64.manylinux2014_x86_64.whl (6.0 MB)\n",
            "\u001b[2K     \u001b[90m━━━━━━━━━━━━━━━━━━━━━━━━━━━━━━━━━━━━━━━━\u001b[0m \u001b[32m6.0/6.0 MB\u001b[0m \u001b[31m40.3 MB/s\u001b[0m eta \u001b[36m0:00:00\u001b[0m\n",
            "\u001b[?25hRequirement already satisfied: typing-extensions<4.0.0.0,>=3.7.4 in /usr/local/lib/python3.7/dist-packages (from spacy) (3.10.0.2)\n",
            "Requirement already satisfied: tqdm<5.0.0,>=4.38.0 in /usr/local/lib/python3.7/dist-packages (from spacy) (4.63.0)\n",
            "Requirement already satisfied: requests<3.0.0,>=2.13.0 in /usr/local/lib/python3.7/dist-packages (from spacy) (2.23.0)\n",
            "Requirement already satisfied: wasabi<1.1.0,>=0.8.1 in /usr/local/lib/python3.7/dist-packages (from spacy) (0.9.0)\n",
            "Requirement already satisfied: murmurhash<1.1.0,>=0.28.0 in /usr/local/lib/python3.7/dist-packages (from spacy) (1.0.6)\n",
            "Requirement already satisfied: preshed<3.1.0,>=3.0.2 in /usr/local/lib/python3.7/dist-packages (from spacy) (3.0.6)\n",
            "Collecting srsly<3.0.0,>=2.4.1\n",
            "  Downloading srsly-2.4.2-cp37-cp37m-manylinux_2_17_x86_64.manylinux2014_x86_64.whl (451 kB)\n",
            "\u001b[2K     \u001b[90m━━━━━━━━━━━━━━━━━━━━━━━━━━━━━━━━━━━━━━\u001b[0m \u001b[32m452.0/452.0 KB\u001b[0m \u001b[31m31.0 MB/s\u001b[0m eta \u001b[36m0:00:00\u001b[0m\n",
            "\u001b[?25hCollecting thinc<8.1.0,>=8.0.12\n",
            "  Downloading thinc-8.0.15-cp37-cp37m-manylinux_2_17_x86_64.manylinux2014_x86_64.whl (653 kB)\n",
            "\u001b[2K     \u001b[90m━━━━━━━━━━━━━━━━━━━━━━━━━━━━━━━━━━━━━━\u001b[0m \u001b[32m653.3/653.3 KB\u001b[0m \u001b[31m40.7 MB/s\u001b[0m eta \u001b[36m0:00:00\u001b[0m\n",
            "\u001b[?25hCollecting pydantic!=1.8,!=1.8.1,<1.9.0,>=1.7.4\n",
            "  Downloading pydantic-1.8.2-cp37-cp37m-manylinux2014_x86_64.whl (10.1 MB)\n",
            "\u001b[2K     \u001b[90m━━━━━━━━━━━━━━━━━━━━━━━━━━━━━━━━━━━━━━━━\u001b[0m \u001b[32m10.1/10.1 MB\u001b[0m \u001b[31m64.1 MB/s\u001b[0m eta \u001b[36m0:00:00\u001b[0m\n",
            "\u001b[?25hRequirement already satisfied: blis<0.8.0,>=0.4.0 in /usr/local/lib/python3.7/dist-packages (from spacy) (0.4.1)\n",
            "Collecting typer<0.5.0,>=0.3.0\n",
            "  Downloading typer-0.4.1-py3-none-any.whl (27 kB)\n",
            "Collecting spacy-legacy<3.1.0,>=3.0.8\n",
            "  Downloading spacy_legacy-3.0.9-py2.py3-none-any.whl (20 kB)\n",
            "Requirement already satisfied: numpy>=1.15.0 in /usr/local/lib/python3.7/dist-packages (from spacy) (1.21.5)\n",
            "Requirement already satisfied: cymem<2.1.0,>=2.0.2 in /usr/local/lib/python3.7/dist-packages (from spacy) (2.0.6)\n",
            "Collecting catalogue<2.1.0,>=2.0.6\n",
            "  Downloading catalogue-2.0.7-py3-none-any.whl (17 kB)\n",
            "Collecting langcodes<4.0.0,>=3.2.0\n",
            "  Downloading langcodes-3.3.0-py3-none-any.whl (181 kB)\n",
            "\u001b[2K     \u001b[90m━━━━━━━━━━━━━━━━━━━━━━━━━━━━━━━━━━━━━━\u001b[0m \u001b[32m181.6/181.6 KB\u001b[0m \u001b[31m15.7 MB/s\u001b[0m eta \u001b[36m0:00:00\u001b[0m\n",
            "\u001b[?25hRequirement already satisfied: jinja2 in /usr/local/lib/python3.7/dist-packages (from spacy) (2.11.3)\n",
            "Requirement already satisfied: setuptools in /usr/local/lib/python3.7/dist-packages (from spacy) (62.1.0)\n",
            "Requirement already satisfied: click<8.1.0 in /usr/local/lib/python3.7/dist-packages (from spacy) (7.1.2)\n",
            "Collecting spacy-loggers<2.0.0,>=1.0.0\n",
            "  Downloading spacy_loggers-1.0.2-py3-none-any.whl (7.2 kB)\n",
            "Collecting pathy>=0.3.5\n",
            "  Downloading pathy-0.6.1-py3-none-any.whl (42 kB)\n",
            "\u001b[2K     \u001b[90m━━━━━━━━━━━━━━━━━━━━━━━━━━━━━━━━━━━━━━━━\u001b[0m \u001b[32m42.8/42.8 KB\u001b[0m \u001b[31m3.5 MB/s\u001b[0m eta \u001b[36m0:00:00\u001b[0m\n",
            "\u001b[?25hRequirement already satisfied: packaging>=20.0 in /usr/local/lib/python3.7/dist-packages (from spacy) (21.3)\n",
            "Requirement already satisfied: zipp>=0.5 in /usr/local/lib/python3.7/dist-packages (from catalogue<2.1.0,>=2.0.6->spacy) (3.7.0)\n",
            "Requirement already satisfied: pyparsing!=3.0.5,>=2.0.2 in /usr/local/lib/python3.7/dist-packages (from packaging>=20.0->spacy) (3.0.7)\n",
            "Requirement already satisfied: smart-open<6.0.0,>=5.0.0 in /usr/local/lib/python3.7/dist-packages (from pathy>=0.3.5->spacy) (5.2.1)\n",
            "Requirement already satisfied: chardet<4,>=3.0.2 in /usr/local/lib/python3.7/dist-packages (from requests<3.0.0,>=2.13.0->spacy) (3.0.4)\n",
            "Requirement already satisfied: idna<3,>=2.5 in /usr/local/lib/python3.7/dist-packages (from requests<3.0.0,>=2.13.0->spacy) (2.10)\n",
            "Requirement already satisfied: urllib3!=1.25.0,!=1.25.1,<1.26,>=1.21.1 in /usr/local/lib/python3.7/dist-packages (from requests<3.0.0,>=2.13.0->spacy) (1.24.3)\n",
            "Requirement already satisfied: certifi>=2017.4.17 in /usr/local/lib/python3.7/dist-packages (from requests<3.0.0,>=2.13.0->spacy) (2021.10.8)\n",
            "Requirement already satisfied: MarkupSafe>=0.23 in /usr/local/lib/python3.7/dist-packages (from jinja2->spacy) (2.0.1)\n",
            "Installing collected packages: typer, spacy-loggers, spacy-legacy, pydantic, langcodes, catalogue, srsly, pathy, thinc, spacy\n",
            "  Attempting uninstall: catalogue\n",
            "    Found existing installation: catalogue 1.0.0\n",
            "    Uninstalling catalogue-1.0.0:\n",
            "      Successfully uninstalled catalogue-1.0.0\n",
            "  Attempting uninstall: srsly\n",
            "    Found existing installation: srsly 1.0.5\n",
            "    Uninstalling srsly-1.0.5:\n",
            "      Successfully uninstalled srsly-1.0.5\n",
            "  Attempting uninstall: thinc\n",
            "    Found existing installation: thinc 7.4.0\n",
            "    Uninstalling thinc-7.4.0:\n",
            "      Successfully uninstalled thinc-7.4.0\n",
            "  Attempting uninstall: spacy\n",
            "    Found existing installation: spacy 2.2.4\n",
            "    Uninstalling spacy-2.2.4:\n",
            "      Successfully uninstalled spacy-2.2.4\n",
            "Successfully installed catalogue-2.0.7 langcodes-3.3.0 pathy-0.6.1 pydantic-1.8.2 spacy-3.2.4 spacy-legacy-3.0.9 spacy-loggers-1.0.2 srsly-2.4.2 thinc-8.0.15 typer-0.4.1\n",
            "\u001b[33mWARNING: Running pip as the 'root' user can result in broken permissions and conflicting behaviour with the system package manager. It is recommended to use a virtual environment instead: https://pip.pypa.io/warnings/venv\u001b[0m\u001b[33m\n",
            "\u001b[0mCollecting en-core-web-sm==3.2.0\n",
            "  Downloading https://github.com/explosion/spacy-models/releases/download/en_core_web_sm-3.2.0/en_core_web_sm-3.2.0-py3-none-any.whl (13.9 MB)\n",
            "\u001b[2K     \u001b[90m━━━━━━━━━━━━━━━━━━━━━━━━━━━━━━━━━━━━━━━━\u001b[0m \u001b[32m13.9/13.9 MB\u001b[0m \u001b[31m10.5 MB/s\u001b[0m eta \u001b[36m0:00:00\u001b[0m\n",
            "\u001b[?25hRequirement already satisfied: spacy<3.3.0,>=3.2.0 in /usr/local/lib/python3.7/dist-packages (from en-core-web-sm==3.2.0) (3.2.4)\n",
            "Requirement already satisfied: langcodes<4.0.0,>=3.2.0 in /usr/local/lib/python3.7/dist-packages (from spacy<3.3.0,>=3.2.0->en-core-web-sm==3.2.0) (3.3.0)\n",
            "Requirement already satisfied: spacy-loggers<2.0.0,>=1.0.0 in /usr/local/lib/python3.7/dist-packages (from spacy<3.3.0,>=3.2.0->en-core-web-sm==3.2.0) (1.0.2)\n",
            "Requirement already satisfied: numpy>=1.15.0 in /usr/local/lib/python3.7/dist-packages (from spacy<3.3.0,>=3.2.0->en-core-web-sm==3.2.0) (1.21.5)\n",
            "Requirement already satisfied: preshed<3.1.0,>=3.0.2 in /usr/local/lib/python3.7/dist-packages (from spacy<3.3.0,>=3.2.0->en-core-web-sm==3.2.0) (3.0.6)\n",
            "Requirement already satisfied: click<8.1.0 in /usr/local/lib/python3.7/dist-packages (from spacy<3.3.0,>=3.2.0->en-core-web-sm==3.2.0) (7.1.2)\n",
            "Requirement already satisfied: requests<3.0.0,>=2.13.0 in /usr/local/lib/python3.7/dist-packages (from spacy<3.3.0,>=3.2.0->en-core-web-sm==3.2.0) (2.23.0)\n",
            "Requirement already satisfied: typer<0.5.0,>=0.3.0 in /usr/local/lib/python3.7/dist-packages (from spacy<3.3.0,>=3.2.0->en-core-web-sm==3.2.0) (0.4.1)\n",
            "Requirement already satisfied: thinc<8.1.0,>=8.0.12 in /usr/local/lib/python3.7/dist-packages (from spacy<3.3.0,>=3.2.0->en-core-web-sm==3.2.0) (8.0.15)\n",
            "Requirement already satisfied: wasabi<1.1.0,>=0.8.1 in /usr/local/lib/python3.7/dist-packages (from spacy<3.3.0,>=3.2.0->en-core-web-sm==3.2.0) (0.9.0)\n",
            "Requirement already satisfied: packaging>=20.0 in /usr/local/lib/python3.7/dist-packages (from spacy<3.3.0,>=3.2.0->en-core-web-sm==3.2.0) (21.3)\n",
            "Requirement already satisfied: setuptools in /usr/local/lib/python3.7/dist-packages (from spacy<3.3.0,>=3.2.0->en-core-web-sm==3.2.0) (62.1.0)\n",
            "Requirement already satisfied: jinja2 in /usr/local/lib/python3.7/dist-packages (from spacy<3.3.0,>=3.2.0->en-core-web-sm==3.2.0) (2.11.3)\n",
            "Requirement already satisfied: srsly<3.0.0,>=2.4.1 in /usr/local/lib/python3.7/dist-packages (from spacy<3.3.0,>=3.2.0->en-core-web-sm==3.2.0) (2.4.2)\n",
            "Requirement already satisfied: pydantic!=1.8,!=1.8.1,<1.9.0,>=1.7.4 in /usr/local/lib/python3.7/dist-packages (from spacy<3.3.0,>=3.2.0->en-core-web-sm==3.2.0) (1.8.2)\n",
            "Requirement already satisfied: murmurhash<1.1.0,>=0.28.0 in /usr/local/lib/python3.7/dist-packages (from spacy<3.3.0,>=3.2.0->en-core-web-sm==3.2.0) (1.0.6)\n",
            "Requirement already satisfied: tqdm<5.0.0,>=4.38.0 in /usr/local/lib/python3.7/dist-packages (from spacy<3.3.0,>=3.2.0->en-core-web-sm==3.2.0) (4.63.0)\n",
            "Requirement already satisfied: pathy>=0.3.5 in /usr/local/lib/python3.7/dist-packages (from spacy<3.3.0,>=3.2.0->en-core-web-sm==3.2.0) (0.6.1)\n",
            "Requirement already satisfied: catalogue<2.1.0,>=2.0.6 in /usr/local/lib/python3.7/dist-packages (from spacy<3.3.0,>=3.2.0->en-core-web-sm==3.2.0) (2.0.7)\n",
            "Requirement already satisfied: blis<0.8.0,>=0.4.0 in /usr/local/lib/python3.7/dist-packages (from spacy<3.3.0,>=3.2.0->en-core-web-sm==3.2.0) (0.4.1)\n",
            "Requirement already satisfied: typing-extensions<4.0.0.0,>=3.7.4 in /usr/local/lib/python3.7/dist-packages (from spacy<3.3.0,>=3.2.0->en-core-web-sm==3.2.0) (3.10.0.2)\n",
            "Requirement already satisfied: cymem<2.1.0,>=2.0.2 in /usr/local/lib/python3.7/dist-packages (from spacy<3.3.0,>=3.2.0->en-core-web-sm==3.2.0) (2.0.6)\n",
            "Requirement already satisfied: spacy-legacy<3.1.0,>=3.0.8 in /usr/local/lib/python3.7/dist-packages (from spacy<3.3.0,>=3.2.0->en-core-web-sm==3.2.0) (3.0.9)\n",
            "Requirement already satisfied: zipp>=0.5 in /usr/local/lib/python3.7/dist-packages (from catalogue<2.1.0,>=2.0.6->spacy<3.3.0,>=3.2.0->en-core-web-sm==3.2.0) (3.7.0)\n",
            "Requirement already satisfied: pyparsing!=3.0.5,>=2.0.2 in /usr/local/lib/python3.7/dist-packages (from packaging>=20.0->spacy<3.3.0,>=3.2.0->en-core-web-sm==3.2.0) (3.0.7)\n",
            "Requirement already satisfied: smart-open<6.0.0,>=5.0.0 in /usr/local/lib/python3.7/dist-packages (from pathy>=0.3.5->spacy<3.3.0,>=3.2.0->en-core-web-sm==3.2.0) (5.2.1)\n",
            "Requirement already satisfied: urllib3!=1.25.0,!=1.25.1,<1.26,>=1.21.1 in /usr/local/lib/python3.7/dist-packages (from requests<3.0.0,>=2.13.0->spacy<3.3.0,>=3.2.0->en-core-web-sm==3.2.0) (1.24.3)\n",
            "Requirement already satisfied: certifi>=2017.4.17 in /usr/local/lib/python3.7/dist-packages (from requests<3.0.0,>=2.13.0->spacy<3.3.0,>=3.2.0->en-core-web-sm==3.2.0) (2021.10.8)\n",
            "Requirement already satisfied: chardet<4,>=3.0.2 in /usr/local/lib/python3.7/dist-packages (from requests<3.0.0,>=2.13.0->spacy<3.3.0,>=3.2.0->en-core-web-sm==3.2.0) (3.0.4)\n",
            "Requirement already satisfied: idna<3,>=2.5 in /usr/local/lib/python3.7/dist-packages (from requests<3.0.0,>=2.13.0->spacy<3.3.0,>=3.2.0->en-core-web-sm==3.2.0) (2.10)\n",
            "Requirement already satisfied: MarkupSafe>=0.23 in /usr/local/lib/python3.7/dist-packages (from jinja2->spacy<3.3.0,>=3.2.0->en-core-web-sm==3.2.0) (2.0.1)\n",
            "Installing collected packages: en-core-web-sm\n",
            "  Attempting uninstall: en-core-web-sm\n",
            "    Found existing installation: en-core-web-sm 2.2.5\n",
            "    Uninstalling en-core-web-sm-2.2.5:\n",
            "      Successfully uninstalled en-core-web-sm-2.2.5\n",
            "Successfully installed en-core-web-sm-3.2.0\n",
            "\u001b[33mWARNING: Running pip as the 'root' user can result in broken permissions and conflicting behaviour with the system package manager. It is recommended to use a virtual environment instead: https://pip.pypa.io/warnings/venv\u001b[0m\u001b[33m\n",
            "\u001b[0m\u001b[38;5;2m✔ Download and installation successful\u001b[0m\n",
            "You can now load the package via spacy.load('en_core_web_sm')\n",
            "Collecting git+https://github.com/boudinfl/pke.git\n",
            "  Cloning https://github.com/boudinfl/pke.git to /tmp/pip-req-build-fs4il1ld\n",
            "  Running command git clone --filter=blob:none --quiet https://github.com/boudinfl/pke.git /tmp/pip-req-build-fs4il1ld\n",
            "  Resolved https://github.com/boudinfl/pke.git to commit 69337af9f9e72a25af6d7991eaa9869f1322dd72\n",
            "  Preparing metadata (setup.py) ... \u001b[?25l\u001b[?25hdone\n",
            "Requirement already satisfied: nltk in /usr/local/lib/python3.7/dist-packages (from pke==2.0.0) (3.2.5)\n",
            "Requirement already satisfied: networkx in /usr/local/lib/python3.7/dist-packages (from pke==2.0.0) (2.6.3)\n",
            "Requirement already satisfied: numpy in /usr/local/lib/python3.7/dist-packages (from pke==2.0.0) (1.21.5)\n",
            "Requirement already satisfied: scipy in /usr/local/lib/python3.7/dist-packages (from pke==2.0.0) (1.4.1)\n",
            "Requirement already satisfied: sklearn in /usr/local/lib/python3.7/dist-packages (from pke==2.0.0) (0.0)\n",
            "Collecting unidecode\n",
            "  Downloading Unidecode-1.3.4-py3-none-any.whl (235 kB)\n",
            "\u001b[2K     \u001b[90m━━━━━━━━━━━━━━━━━━━━━━━━━━━━━━━━━━━━━━━\u001b[0m \u001b[32m235.9/235.9 KB\u001b[0m \u001b[31m4.9 MB/s\u001b[0m eta \u001b[36m0:00:00\u001b[0m\n",
            "\u001b[?25hRequirement already satisfied: future in /usr/local/lib/python3.7/dist-packages (from pke==2.0.0) (0.16.0)\n",
            "Requirement already satisfied: joblib in /usr/local/lib/python3.7/dist-packages (from pke==2.0.0) (1.1.0)\n",
            "Requirement already satisfied: spacy>=3.2.3 in /usr/local/lib/python3.7/dist-packages (from pke==2.0.0) (3.2.4)\n",
            "Requirement already satisfied: spacy-legacy<3.1.0,>=3.0.8 in /usr/local/lib/python3.7/dist-packages (from spacy>=3.2.3->pke==2.0.0) (3.0.9)\n",
            "Requirement already satisfied: requests<3.0.0,>=2.13.0 in /usr/local/lib/python3.7/dist-packages (from spacy>=3.2.3->pke==2.0.0) (2.23.0)\n",
            "Requirement already satisfied: srsly<3.0.0,>=2.4.1 in /usr/local/lib/python3.7/dist-packages (from spacy>=3.2.3->pke==2.0.0) (2.4.2)\n",
            "Requirement already satisfied: pydantic!=1.8,!=1.8.1,<1.9.0,>=1.7.4 in /usr/local/lib/python3.7/dist-packages (from spacy>=3.2.3->pke==2.0.0) (1.8.2)\n",
            "Requirement already satisfied: wasabi<1.1.0,>=0.8.1 in /usr/local/lib/python3.7/dist-packages (from spacy>=3.2.3->pke==2.0.0) (0.9.0)\n",
            "Requirement already satisfied: cymem<2.1.0,>=2.0.2 in /usr/local/lib/python3.7/dist-packages (from spacy>=3.2.3->pke==2.0.0) (2.0.6)\n",
            "Requirement already satisfied: click<8.1.0 in /usr/local/lib/python3.7/dist-packages (from spacy>=3.2.3->pke==2.0.0) (7.1.2)\n",
            "Requirement already satisfied: typer<0.5.0,>=0.3.0 in /usr/local/lib/python3.7/dist-packages (from spacy>=3.2.3->pke==2.0.0) (0.4.1)\n",
            "Requirement already satisfied: blis<0.8.0,>=0.4.0 in /usr/local/lib/python3.7/dist-packages (from spacy>=3.2.3->pke==2.0.0) (0.4.1)\n",
            "Requirement already satisfied: langcodes<4.0.0,>=3.2.0 in /usr/local/lib/python3.7/dist-packages (from spacy>=3.2.3->pke==2.0.0) (3.3.0)\n",
            "Requirement already satisfied: setuptools in /usr/local/lib/python3.7/dist-packages (from spacy>=3.2.3->pke==2.0.0) (62.1.0)\n",
            "Requirement already satisfied: catalogue<2.1.0,>=2.0.6 in /usr/local/lib/python3.7/dist-packages (from spacy>=3.2.3->pke==2.0.0) (2.0.7)\n",
            "Requirement already satisfied: packaging>=20.0 in /usr/local/lib/python3.7/dist-packages (from spacy>=3.2.3->pke==2.0.0) (21.3)\n",
            "Requirement already satisfied: preshed<3.1.0,>=3.0.2 in /usr/local/lib/python3.7/dist-packages (from spacy>=3.2.3->pke==2.0.0) (3.0.6)\n",
            "Requirement already satisfied: murmurhash<1.1.0,>=0.28.0 in /usr/local/lib/python3.7/dist-packages (from spacy>=3.2.3->pke==2.0.0) (1.0.6)\n",
            "Requirement already satisfied: thinc<8.1.0,>=8.0.12 in /usr/local/lib/python3.7/dist-packages (from spacy>=3.2.3->pke==2.0.0) (8.0.15)\n",
            "Requirement already satisfied: pathy>=0.3.5 in /usr/local/lib/python3.7/dist-packages (from spacy>=3.2.3->pke==2.0.0) (0.6.1)\n",
            "Requirement already satisfied: typing-extensions<4.0.0.0,>=3.7.4 in /usr/local/lib/python3.7/dist-packages (from spacy>=3.2.3->pke==2.0.0) (3.10.0.2)\n",
            "Requirement already satisfied: jinja2 in /usr/local/lib/python3.7/dist-packages (from spacy>=3.2.3->pke==2.0.0) (2.11.3)\n",
            "Requirement already satisfied: tqdm<5.0.0,>=4.38.0 in /usr/local/lib/python3.7/dist-packages (from spacy>=3.2.3->pke==2.0.0) (4.63.0)\n",
            "Requirement already satisfied: spacy-loggers<2.0.0,>=1.0.0 in /usr/local/lib/python3.7/dist-packages (from spacy>=3.2.3->pke==2.0.0) (1.0.2)\n",
            "Requirement already satisfied: six in /usr/local/lib/python3.7/dist-packages (from nltk->pke==2.0.0) (1.15.0)\n",
            "Requirement already satisfied: scikit-learn in /usr/local/lib/python3.7/dist-packages (from sklearn->pke==2.0.0) (1.0.2)\n",
            "Requirement already satisfied: zipp>=0.5 in /usr/local/lib/python3.7/dist-packages (from catalogue<2.1.0,>=2.0.6->spacy>=3.2.3->pke==2.0.0) (3.7.0)\n",
            "Requirement already satisfied: pyparsing!=3.0.5,>=2.0.2 in /usr/local/lib/python3.7/dist-packages (from packaging>=20.0->spacy>=3.2.3->pke==2.0.0) (3.0.7)\n",
            "Requirement already satisfied: smart-open<6.0.0,>=5.0.0 in /usr/local/lib/python3.7/dist-packages (from pathy>=0.3.5->spacy>=3.2.3->pke==2.0.0) (5.2.1)\n",
            "Requirement already satisfied: chardet<4,>=3.0.2 in /usr/local/lib/python3.7/dist-packages (from requests<3.0.0,>=2.13.0->spacy>=3.2.3->pke==2.0.0) (3.0.4)\n",
            "Requirement already satisfied: urllib3!=1.25.0,!=1.25.1,<1.26,>=1.21.1 in /usr/local/lib/python3.7/dist-packages (from requests<3.0.0,>=2.13.0->spacy>=3.2.3->pke==2.0.0) (1.24.3)\n",
            "Requirement already satisfied: certifi>=2017.4.17 in /usr/local/lib/python3.7/dist-packages (from requests<3.0.0,>=2.13.0->spacy>=3.2.3->pke==2.0.0) (2021.10.8)\n",
            "Requirement already satisfied: idna<3,>=2.5 in /usr/local/lib/python3.7/dist-packages (from requests<3.0.0,>=2.13.0->spacy>=3.2.3->pke==2.0.0) (2.10)\n",
            "Requirement already satisfied: MarkupSafe>=0.23 in /usr/local/lib/python3.7/dist-packages (from jinja2->spacy>=3.2.3->pke==2.0.0) (2.0.1)\n",
            "Requirement already satisfied: threadpoolctl>=2.0.0 in /usr/local/lib/python3.7/dist-packages (from scikit-learn->sklearn->pke==2.0.0) (3.1.0)\n",
            "Building wheels for collected packages: pke\n",
            "  Building wheel for pke (setup.py) ... \u001b[?25l\u001b[?25hdone\n",
            "  Created wheel for pke: filename=pke-2.0.0-py3-none-any.whl size=6160197 sha256=52c884c30e2049688a9fdcd937f032fe14c82165c0a1586ee523e85499d8096a\n",
            "  Stored in directory: /tmp/pip-ephem-wheel-cache-ew_6ixwu/wheels/fa/b3/09/612ee93bf3ee4164bcd5783e742942cdfc892a86039d3e0a33\n",
            "Successfully built pke\n",
            "Installing collected packages: unidecode, pke\n",
            "Successfully installed pke-2.0.0 unidecode-1.3.4\n",
            "\u001b[33mWARNING: Running pip as the 'root' user can result in broken permissions and conflicting behaviour with the system package manager. It is recommended to use a virtual environment instead: https://pip.pypa.io/warnings/venv\u001b[0m\u001b[33m\n",
            "\u001b[0mRequirement already satisfied: matplotlib in /usr/local/lib/python3.7/dist-packages (3.2.2)\n",
            "Requirement already satisfied: python-dateutil>=2.1 in /usr/local/lib/python3.7/dist-packages (from matplotlib) (2.8.2)\n",
            "Requirement already satisfied: numpy>=1.11 in /usr/local/lib/python3.7/dist-packages (from matplotlib) (1.21.5)\n",
            "Requirement already satisfied: cycler>=0.10 in /usr/local/lib/python3.7/dist-packages (from matplotlib) (0.11.0)\n",
            "Requirement already satisfied: pyparsing!=2.0.4,!=2.1.2,!=2.1.6,>=2.0.1 in /usr/local/lib/python3.7/dist-packages (from matplotlib) (3.0.7)\n",
            "Requirement already satisfied: kiwisolver>=1.0.1 in /usr/local/lib/python3.7/dist-packages (from matplotlib) (1.4.0)\n",
            "Requirement already satisfied: typing-extensions in /usr/local/lib/python3.7/dist-packages (from kiwisolver>=1.0.1->matplotlib) (3.10.0.2)\n",
            "Requirement already satisfied: six>=1.5 in /usr/local/lib/python3.7/dist-packages (from python-dateutil>=2.1->matplotlib) (1.15.0)\n",
            "\u001b[33mWARNING: Running pip as the 'root' user can result in broken permissions and conflicting behaviour with the system package manager. It is recommended to use a virtual environment instead: https://pip.pypa.io/warnings/venv\u001b[0m\u001b[33m\n",
            "\u001b[0m"
          ]
        }
      ]
    },
    {
      "cell_type": "markdown",
      "source": [
        "# Importing the required libraries"
      ],
      "metadata": {
        "id": "9Jv6VnBdarcw"
      }
    },
    {
      "cell_type": "code",
      "source": [
        "import numpy as np\n",
        "import pandas as pd\n",
        "import pke\n",
        "import spacy\n",
        "spacy.load('en_core_web_sm')\n",
        "import string\n",
        "import nltk\n",
        "nltk.download(\"stopwords\")\n",
        "from nltk.corpus import stopwords\n"
      ],
      "metadata": {
        "id": "GuhfdGs7aeSh",
        "colab": {
          "base_uri": "https://localhost:8080/"
        },
        "outputId": "34c94b69-df3f-4834-8b8b-550b89e7f7bf"
      },
      "execution_count": 1,
      "outputs": [
        {
          "output_type": "stream",
          "name": "stdout",
          "text": [
            "[nltk_data] Downloading package stopwords to /root/nltk_data...\n",
            "[nltk_data]   Unzipping corpora/stopwords.zip.\n"
          ]
        }
      ]
    },
    {
      "cell_type": "markdown",
      "source": [
        "# **Initializing the dataset**"
      ],
      "metadata": {
        "id": "DHw7SO9BYJSK"
      }
    },
    {
      "cell_type": "code",
      "source": [
        "df1 = pd.read_csv(\"inspec_text.csv\")\n",
        "df2 = pd.read_csv(\"inspec_keys.csv\", sep = \"delimiter\")\n",
        "\n",
        "# Merge the two tables\n",
        "\n",
        "df1[\"Key\"] = df2\n",
        "df = df1\n",
        "\n",
        "df[\"Key\"] = df[\"Key\"].str.replace('\"', \"\")\n",
        "df[\"Text\"] = df[\"Text\"].str.replace(\"[\", \"\")\n",
        "df[\"Text\"] = df[\"Text\"].str.replace(\"]\", \"\")\n",
        "df[\"Text\"] = df[\"Text\"].str.replace(\"?\", \"\")\n",
        "df[\"Text\"] = df[\"Text\"].str.replace(\",\", \"\")\n",
        "df[\"Text\"] = df[\"Text\"].str.lower()\n",
        "\n",
        "\n",
        "#Display the dataset\n",
        "df.head()"
      ],
      "metadata": {
        "colab": {
          "base_uri": "https://localhost:8080/",
          "height": 365
        },
        "id": "PMdN2n_9SYIa",
        "outputId": "ec5ca5b4-dbe3-451f-d636-48b2deae8cc5"
      },
      "execution_count": 7,
      "outputs": [
        {
          "output_type": "stream",
          "name": "stderr",
          "text": [
            "/usr/local/lib/python3.7/dist-packages/pandas/util/_decorators.py:311: ParserWarning: Falling back to the 'python' engine because the 'c' engine does not support regex separators (separators > 1 char and different from '\\s+' are interpreted as regex); you can avoid this warning by specifying engine='python'.\n",
            "  return func(*args, **kwargs)\n",
            "/usr/local/lib/python3.7/dist-packages/ipykernel_launcher.py:10: FutureWarning: The default value of regex will change from True to False in a future version. In addition, single character regular expressions will *not* be treated as literal strings when regex=True.\n",
            "  # Remove the CWD from sys.path while we load stuff.\n",
            "/usr/local/lib/python3.7/dist-packages/ipykernel_launcher.py:11: FutureWarning: The default value of regex will change from True to False in a future version. In addition, single character regular expressions will *not* be treated as literal strings when regex=True.\n",
            "  # This is added back by InteractiveShellApp.init_path()\n",
            "/usr/local/lib/python3.7/dist-packages/ipykernel_launcher.py:12: FutureWarning: The default value of regex will change from True to False in a future version. In addition, single character regular expressions will *not* be treated as literal strings when regex=True.\n",
            "  if sys.path[0] == '':\n"
          ]
        },
        {
          "output_type": "execute_result",
          "data": {
            "text/plain": [
              "                                                Text  \\\n",
              "0  separate accounts go mainstream investmentnew ...   \n",
              "1  does classicism explain universality arguments...   \n",
              "2  a conflict between language and atomistic info...   \n",
              "3  selective representing and world-makingwe disc...   \n",
              "4  lob's theorem as a limitation on mechanism\"we ...   \n",
              "\n",
              "                                                 Key  \n",
              "0  classicism,universality,classical component of...  \n",
              "1  philosophy of mind,information-based semantics...  \n",
              "2  world-making,selective representing,mental rep...  \n",
              "3  lob theorem,limitation on mechanism,epistemic ...  \n",
              "4  individual rationality,human behavior,game the...  "
            ],
            "text/html": [
              "\n",
              "  <div id=\"df-733ae6e8-fcf7-4f98-9afd-9c2d56e0f964\">\n",
              "    <div class=\"colab-df-container\">\n",
              "      <div>\n",
              "<style scoped>\n",
              "    .dataframe tbody tr th:only-of-type {\n",
              "        vertical-align: middle;\n",
              "    }\n",
              "\n",
              "    .dataframe tbody tr th {\n",
              "        vertical-align: top;\n",
              "    }\n",
              "\n",
              "    .dataframe thead th {\n",
              "        text-align: right;\n",
              "    }\n",
              "</style>\n",
              "<table border=\"1\" class=\"dataframe\">\n",
              "  <thead>\n",
              "    <tr style=\"text-align: right;\">\n",
              "      <th></th>\n",
              "      <th>Text</th>\n",
              "      <th>Key</th>\n",
              "    </tr>\n",
              "  </thead>\n",
              "  <tbody>\n",
              "    <tr>\n",
              "      <th>0</th>\n",
              "      <td>separate accounts go mainstream investmentnew ...</td>\n",
              "      <td>classicism,universality,classical component of...</td>\n",
              "    </tr>\n",
              "    <tr>\n",
              "      <th>1</th>\n",
              "      <td>does classicism explain universality arguments...</td>\n",
              "      <td>philosophy of mind,information-based semantics...</td>\n",
              "    </tr>\n",
              "    <tr>\n",
              "      <th>2</th>\n",
              "      <td>a conflict between language and atomistic info...</td>\n",
              "      <td>world-making,selective representing,mental rep...</td>\n",
              "    </tr>\n",
              "    <tr>\n",
              "      <th>3</th>\n",
              "      <td>selective representing and world-makingwe disc...</td>\n",
              "      <td>lob theorem,limitation on mechanism,epistemic ...</td>\n",
              "    </tr>\n",
              "    <tr>\n",
              "      <th>4</th>\n",
              "      <td>lob's theorem as a limitation on mechanism\"we ...</td>\n",
              "      <td>individual rationality,human behavior,game the...</td>\n",
              "    </tr>\n",
              "  </tbody>\n",
              "</table>\n",
              "</div>\n",
              "      <button class=\"colab-df-convert\" onclick=\"convertToInteractive('df-733ae6e8-fcf7-4f98-9afd-9c2d56e0f964')\"\n",
              "              title=\"Convert this dataframe to an interactive table.\"\n",
              "              style=\"display:none;\">\n",
              "        \n",
              "  <svg xmlns=\"http://www.w3.org/2000/svg\" height=\"24px\"viewBox=\"0 0 24 24\"\n",
              "       width=\"24px\">\n",
              "    <path d=\"M0 0h24v24H0V0z\" fill=\"none\"/>\n",
              "    <path d=\"M18.56 5.44l.94 2.06.94-2.06 2.06-.94-2.06-.94-.94-2.06-.94 2.06-2.06.94zm-11 1L8.5 8.5l.94-2.06 2.06-.94-2.06-.94L8.5 2.5l-.94 2.06-2.06.94zm10 10l.94 2.06.94-2.06 2.06-.94-2.06-.94-.94-2.06-.94 2.06-2.06.94z\"/><path d=\"M17.41 7.96l-1.37-1.37c-.4-.4-.92-.59-1.43-.59-.52 0-1.04.2-1.43.59L10.3 9.45l-7.72 7.72c-.78.78-.78 2.05 0 2.83L4 21.41c.39.39.9.59 1.41.59.51 0 1.02-.2 1.41-.59l7.78-7.78 2.81-2.81c.8-.78.8-2.07 0-2.86zM5.41 20L4 18.59l7.72-7.72 1.47 1.35L5.41 20z\"/>\n",
              "  </svg>\n",
              "      </button>\n",
              "      \n",
              "  <style>\n",
              "    .colab-df-container {\n",
              "      display:flex;\n",
              "      flex-wrap:wrap;\n",
              "      gap: 12px;\n",
              "    }\n",
              "\n",
              "    .colab-df-convert {\n",
              "      background-color: #E8F0FE;\n",
              "      border: none;\n",
              "      border-radius: 50%;\n",
              "      cursor: pointer;\n",
              "      display: none;\n",
              "      fill: #1967D2;\n",
              "      height: 32px;\n",
              "      padding: 0 0 0 0;\n",
              "      width: 32px;\n",
              "    }\n",
              "\n",
              "    .colab-df-convert:hover {\n",
              "      background-color: #E2EBFA;\n",
              "      box-shadow: 0px 1px 2px rgba(60, 64, 67, 0.3), 0px 1px 3px 1px rgba(60, 64, 67, 0.15);\n",
              "      fill: #174EA6;\n",
              "    }\n",
              "\n",
              "    [theme=dark] .colab-df-convert {\n",
              "      background-color: #3B4455;\n",
              "      fill: #D2E3FC;\n",
              "    }\n",
              "\n",
              "    [theme=dark] .colab-df-convert:hover {\n",
              "      background-color: #434B5C;\n",
              "      box-shadow: 0px 1px 3px 1px rgba(0, 0, 0, 0.15);\n",
              "      filter: drop-shadow(0px 1px 2px rgba(0, 0, 0, 0.3));\n",
              "      fill: #FFFFFF;\n",
              "    }\n",
              "  </style>\n",
              "\n",
              "      <script>\n",
              "        const buttonEl =\n",
              "          document.querySelector('#df-733ae6e8-fcf7-4f98-9afd-9c2d56e0f964 button.colab-df-convert');\n",
              "        buttonEl.style.display =\n",
              "          google.colab.kernel.accessAllowed ? 'block' : 'none';\n",
              "\n",
              "        async function convertToInteractive(key) {\n",
              "          const element = document.querySelector('#df-733ae6e8-fcf7-4f98-9afd-9c2d56e0f964');\n",
              "          const dataTable =\n",
              "            await google.colab.kernel.invokeFunction('convertToInteractive',\n",
              "                                                     [key], {});\n",
              "          if (!dataTable) return;\n",
              "\n",
              "          const docLinkHtml = 'Like what you see? Visit the ' +\n",
              "            '<a target=\"_blank\" href=https://colab.research.google.com/notebooks/data_table.ipynb>data table notebook</a>'\n",
              "            + ' to learn more about interactive tables.';\n",
              "          element.innerHTML = '';\n",
              "          dataTable['output_type'] = 'display_data';\n",
              "          await google.colab.output.renderOutput(dataTable, element);\n",
              "          const docLink = document.createElement('div');\n",
              "          docLink.innerHTML = docLinkHtml;\n",
              "          element.appendChild(docLink);\n",
              "        }\n",
              "      </script>\n",
              "    </div>\n",
              "  </div>\n",
              "  "
            ]
          },
          "metadata": {},
          "execution_count": 7
        }
      ]
    },
    {
      "cell_type": "markdown",
      "source": [
        "# Implementation of the algorithms:"
      ],
      "metadata": {
        "id": "4lVA4QgjbWDj"
      }
    },
    {
      "cell_type": "markdown",
      "source": [
        "# **Unsupervised**"
      ],
      "metadata": {
        "id": "OkujGEKebbvq"
      }
    },
    {
      "cell_type": "markdown",
      "source": [
        "## **Statistical Methods**"
      ],
      "metadata": {
        "id": "lQ3fFg8ybrDb"
      }
    },
    {
      "cell_type": "markdown",
      "source": [
        "### **TF-IDF algorithm**"
      ],
      "metadata": {
        "id": "_lBHmuBBcc1B"
      }
    },
    {
      "cell_type": "code",
      "source": [
        "# 1. create a TfIdf extractor.\n",
        "extractor = pke.unsupervised.TfIdf()\n",
        "keywords_tfidf = []\n",
        "for index, row in df.iterrows():\n",
        "  \n",
        "  # 2. load the content of the document.\n",
        "  extractor.load_document(input = row[\"Text\"],\n",
        "                          language='en',\n",
        "                          normalization=None)\n",
        "\n",
        "  # 3. select {1-3}-grams not containing punctuation marks as candidates.\n",
        "  extractor.candidate_selection()\n",
        "\n",
        "  # 4. weight the candidates using a `tf` x `idf`\n",
        "  df = pke.load_document_frequency_file(input_file = \"df-semeval2010.tsv.gz\")\n",
        "  extractor.candidate_weighting(df=df)\n",
        "\n",
        "  # 5. get the 3-highest scored candidates as keyphrases\n",
        "  keyphrases = extractor.get_n_best(n=3)\n",
        "  keywords_tfidf.append(keyphrases)\n"
      ],
      "metadata": {
        "id": "PB1SEMrgaQX0"
      },
      "execution_count": null,
      "outputs": []
    },
    {
      "cell_type": "code",
      "source": [
        "with open(\"key_inspec_tfidf.txt\", \"w\") as external_file:\n",
        "  for keyphrase in keywords_tfidf:   \n",
        "    print(keyphrase, file=external_file)\n",
        "  external_file.close()"
      ],
      "metadata": {
        "id": "_EqPNXrBao3-"
      },
      "execution_count": null,
      "outputs": []
    },
    {
      "cell_type": "markdown",
      "source": [
        "### **KP-Miner algorithm**"
      ],
      "metadata": {
        "id": "Y8X-rnIoeIl9"
      }
    },
    {
      "cell_type": "code",
      "source": [
        "# 1. create a KPMiner extractor.\n",
        "extractor = pke.unsupervised.KPMiner()\n",
        "keywords_kpminer = []\n",
        "for index, row in df.iterrows():\n",
        "# 2. load the content of the document.\n",
        "  extractor.load_document(input=row[\"Text\"],\n",
        "                        language='en',\n",
        "                        normalization=None)\n",
        "\n",
        "\n",
        "# 3. select {1-5}-grams that do not contain punctuation marks or\n",
        "#    stopwords as keyphrase candidates. Set the least allowable seen\n",
        "#    frequency to 5 and the number of words after which candidates are\n",
        "#    filtered out to 200.\n",
        "\n",
        "  extractor.candidate_selection(lasf=1, cutoff=400)\n",
        "\n",
        "# 4. weight the candidates using KPMiner weighting function.\n",
        "  df = pke.load_document_frequency_file(input_file='df-semeval2010.tsv.gz')\n",
        "  alpha = 2.3\n",
        "  sigma = 3.0\n",
        "  extractor.candidate_weighting(df=df, alpha=alpha, sigma=sigma)\n",
        "\n",
        "# 5. get the 3-highest scored candidates as keyphrases\n",
        "  keyphrases = extractor.get_n_best(n=3)\n",
        "  keywords_kpminer.append(keyphrases)\n"
      ],
      "metadata": {
        "id": "jXLEahgSeZcF"
      },
      "execution_count": null,
      "outputs": []
    },
    {
      "cell_type": "code",
      "source": [
        "with open(\"key_inspec_KPMiner.txt\", \"w\") as external_file:\n",
        "  for keyphrase in keywords_kpminer:   \n",
        "    print(keyphrase, file=external_file)\n",
        "  external_file.close()"
      ],
      "metadata": {
        "id": "yB5KJ5VIJm1o"
      },
      "execution_count": null,
      "outputs": []
    },
    {
      "cell_type": "markdown",
      "source": [
        "## **Graph-Based Methods**"
      ],
      "metadata": {
        "id": "KkG9jWUUh3Vo"
      }
    },
    {
      "cell_type": "markdown",
      "source": [
        "### **Text Rank algorithm**"
      ],
      "metadata": {
        "id": "cNKdEuNniKEF"
      }
    },
    {
      "cell_type": "code",
      "source": [
        "# define the set of valid Part-of-Speeches\n",
        "pos = {'NOUN', 'PROPN', 'ADJ'}\n",
        "\n",
        "# 1. create a TextRank extractor.\n",
        "extractor = pke.unsupervised.TextRank()\n",
        "\n",
        "keywords_textrank = []\n",
        "for index, row in df.iterrows():\n",
        "\n",
        "  # 2. load the content of the document.\n",
        "  extractor.load_document(input=row[\"Text\"],\n",
        "                          language='en',\n",
        "                          normalization=None)\n",
        "\n",
        "  # 3. build the graph representation of the document and rank the words.\n",
        "  #    Keyphrase candidates are composed from the 33-percent\n",
        "  #    highest-ranked words.\n",
        "  extractor.candidate_weighting(window=2,\n",
        "                                pos=pos,\n",
        "                                top_percent=0.33)\n",
        "\n",
        "  # 4. get the 3-highest scored candidates as keyphrases\n",
        "  keyphrases = extractor.get_n_best(n=3)\n",
        "  keywords_textrank.append(keyphrases)\n"
      ],
      "metadata": {
        "id": "CfOKDe_WiaQz"
      },
      "execution_count": null,
      "outputs": []
    },
    {
      "cell_type": "code",
      "source": [
        "with open(\"key_inspec_textrank.txt\", \"w\") as external_file:\n",
        "  for keyphrase in keywords_textrank:   \n",
        "    print(keyphrase, file=external_file)\n",
        "  external_file.close()"
      ],
      "metadata": {
        "id": "IhgQJuuka5tA"
      },
      "execution_count": null,
      "outputs": []
    },
    {
      "cell_type": "markdown",
      "source": [
        "### **Single Rank algorithm**"
      ],
      "metadata": {
        "id": "16loOd75jhi9"
      }
    },
    {
      "cell_type": "code",
      "source": [
        "# define the set of valid Part-of-Speeches\n",
        "pos = {'NOUN', 'PROPN', 'ADJ'}\n",
        "\n",
        "# 1. create a SingleRank extractor.\n",
        "extractor = pke.unsupervised.SingleRank()\n",
        "\n",
        "keywords_singlerank = []\n",
        "for index, row in df.iterrows():\n",
        "  # 2. load the content of the document.\n",
        "  extractor.load_document(input = row[\"Text\"],\n",
        "                          language='en',\n",
        "                          normalization=None)\n",
        "\n",
        "  # 3. select the longest sequences of nouns and adjectives as candidates.\n",
        "  extractor.candidate_selection(pos=pos)\n",
        "\n",
        "  # 4. weight the candidates using the sum of their word's scores that are\n",
        "  #    computed using random walk. In the graph, nodes are words of\n",
        "  #    certain part-of-speech (nouns and adjectives) that are connected if\n",
        "  #    they occur in a window of 10 words.\n",
        "  extractor.candidate_weighting(window=10,\n",
        "                                pos=pos)\n",
        "\n",
        "  # 5. get the 3-highest scored candidates as keyphrases\n",
        "  keyphrases = extractor.get_n_best(n=3)\n",
        "  keywords_singlerank.append(keyphrases)\n"
      ],
      "metadata": {
        "id": "acU3eyQLjmhb"
      },
      "execution_count": null,
      "outputs": []
    },
    {
      "cell_type": "code",
      "source": [
        "with open(\"key_inspec_singlerank.txt\", \"w\") as external_file:\n",
        "  for keyphrase in keywords_singlerank:   \n",
        "    print(keyphrase, file=external_file)\n",
        "  external_file.close()"
      ],
      "metadata": {
        "id": "c4v-b-JFJ38y"
      },
      "execution_count": null,
      "outputs": []
    },
    {
      "cell_type": "markdown",
      "source": [
        "### **Topic Rank algorithm**"
      ],
      "metadata": {
        "id": "zX-or1wsmjI-"
      }
    },
    {
      "cell_type": "code",
      "source": [
        "# 1. create a TopicRank extractor.\n",
        "extractor = pke.unsupervised.TopicRank()\n",
        "\n",
        "keywords_topicrank = []\n",
        "\n",
        "for index, row in df.iterrows():\n",
        "  # 2. load the content of the document.\n",
        "  extractor.load_document(input = row[\"Text\"])\n",
        "\n",
        "  # 3. select the longest sequences of nouns and adjectives, that do\n",
        "  #    not contain punctuation marks or stopwords as candidates.\n",
        "  pos = {'NOUN', 'PROPN', 'ADJ'}\n",
        "  stoplist = list(string.punctuation)\n",
        "  stoplist += ['-lrb-', '-rrb-', '-lcb-', '-rcb-', '-lsb-', '-rsb-']\n",
        "  stoplist += stopwords.words('english')\n",
        "  extractor.candidate_selection(pos=pos)\n",
        "\n",
        "  # 4. build topics by grouping candidates with HAC (average linkage,\n",
        "  #    threshold of 1/4 of shared stems). Weight the topics using random\n",
        "  #    walk, and select the first occuring candidate from each topic.\n",
        "  extractor.candidate_weighting(threshold=0.74, method='average')\n",
        "\n",
        "  # 5. get the 3-highest scored candidates as keyphrases\n",
        "  keyphrases = extractor.get_n_best(n=3)\n",
        "  keywords_topicrank.append(keyphrases)\n"
      ],
      "metadata": {
        "id": "LMsg7Iz1nB4b"
      },
      "execution_count": null,
      "outputs": []
    },
    {
      "cell_type": "code",
      "source": [
        "with open(\"key_inspec_topicrank.txt\", \"w\") as external_file:\n",
        "  for keyphrase in keywords_topicrank:   \n",
        "    print(keyphrase, file=external_file)\n",
        "  external_file.close()"
      ],
      "metadata": {
        "id": "SQQEfmuYJ-7J"
      },
      "execution_count": null,
      "outputs": []
    },
    {
      "cell_type": "markdown",
      "source": [
        "### **Position Rank algorithm**"
      ],
      "metadata": {
        "id": "mQYVJKWGpRBr"
      }
    },
    {
      "cell_type": "code",
      "source": [
        "# define the valid Part-of-Speeches to occur in the graph\n",
        "pos = {'NOUN', 'PROPN', 'ADJ'}\n",
        "\n",
        "# define the grammar for selecting the keyphrase candidates\n",
        "grammar = \"NP: {<ADJ>*<NOUN|PROPN>+}\"\n",
        "extractor = pke.unsupervised.PositionRank()\n",
        "keywords_positionrank = []\n",
        "for index, row in df.iterrows():\n",
        "# 1. create a PositionRank extractor.\n",
        "\n",
        "# 2. load the content of the document.\n",
        "  extractor.load_document(input=row[\"Text\"],\n",
        "                        language='en',\n",
        "                        normalization=None)\n",
        "\n",
        "# 3. select the noun phrases up to 3 words as keyphrase candidates.\n",
        "  extractor.candidate_selection(grammar=grammar,\n",
        "                              maximum_word_number=3)\n",
        "\n",
        "# 4. weight the candidates using the sum of their word's scores that are\n",
        "#    computed using random walk biaised with the position of the words\n",
        "#    in the document. In the graph, nodes are words (nouns and\n",
        "#    adjectives only) that are connected if they occur in a window of\n",
        "#    10 words.\n",
        "  extractor.candidate_weighting(window=10,\n",
        "                              pos=pos)\n",
        "\n",
        "# 5. get the 3-highest scored candidates as keyphrases\n",
        "  keyphrases = extractor.get_n_best(n=3)\n",
        "  keywords_positionrank.append(keyphrases)\n"
      ],
      "metadata": {
        "id": "7iOLqr3XpYS0"
      },
      "execution_count": null,
      "outputs": []
    },
    {
      "cell_type": "code",
      "source": [
        "with open(\"key_inspec_positionrank.txt\", \"w\") as external_file:\n",
        "  for keyphrase in keywords_positionrank:   \n",
        "    print(keyphrase, file=external_file)\n",
        "  external_file.close()"
      ],
      "metadata": {
        "id": "mQSGbD6VKHH5"
      },
      "execution_count": null,
      "outputs": []
    },
    {
      "cell_type": "markdown",
      "source": [
        "# **Supervised**"
      ],
      "metadata": {
        "id": "9slwquBXqbxc"
      }
    },
    {
      "cell_type": "markdown",
      "source": [
        "## **Binary**"
      ],
      "metadata": {
        "id": "AcsJKe_IrBNJ"
      }
    },
    {
      "cell_type": "markdown",
      "source": [
        "### **KEA algorithm**"
      ],
      "metadata": {
        "id": "-v6QktWgrKye"
      }
    },
    {
      "cell_type": "code",
      "source": [
        "# define a list of stopwords\n",
        "stoplist = stopwords.words('english')\n",
        "\n",
        "# 1. create a Kea extractor.\n",
        "extractor = pke.supervised.Kea()\n",
        "keywords_kea = []\n",
        "for index, row in df.iterrows():\n",
        "# 2. load the content of the document.\n",
        "  extractor.load_document(input=row[\"Text\"],\n",
        "                        language='en',\n",
        "                        normalization=None)\n",
        "\n",
        "# 3. select 1-3 grams that do not start or end with a stopword as\n",
        "#    candidates. Candidates that contain punctuation marks as words\n",
        "#    are discarded.\n",
        "  extractor.candidate_selection()\n",
        "\n",
        "# 4. classify candidates as keyphrase or not keyphrase.\n",
        "  df = pke.load_document_frequency_file(input_file='df-semeval2010.tsv.gz')\n",
        "  model_file = 'Kea-semeval2010.py3.pickle'\n",
        "  extractor.candidate_weighting(model_file=model_file,\n",
        "                              df=df)\n",
        "\n",
        "# 5. get the 3-highest scored candidates as keyphrases\n",
        "  keyphrases = extractor.get_n_best(n=3)\n",
        "  keywords_kea.append(keyphrases)\n"
      ],
      "metadata": {
        "id": "Y2GyMbYQrIIU"
      },
      "execution_count": null,
      "outputs": []
    },
    {
      "cell_type": "code",
      "source": [
        "with open(\"key_inspec_kea.txt\", \"w\") as external_file:\n",
        "  for keyphrase in keywords_kea:   \n",
        "    print(keyphrase, file=external_file)\n",
        "  external_file.close()"
      ],
      "metadata": {
        "id": "dXEIgfVyKUCM"
      },
      "execution_count": null,
      "outputs": []
    },
    {
      "cell_type": "markdown",
      "source": [
        "# **YAKE! algorithm**"
      ],
      "metadata": {
        "id": "d6Y4EiKjr0ek"
      }
    },
    {
      "cell_type": "code",
      "source": [
        "# 1. create a YAKE extractor.\n",
        "extractor = pke.unsupervised.YAKE()\n",
        "\n",
        "keywords_yake = []\n",
        "for index, row in df.iterrows():\n",
        "# 2. load the content of the document.\n",
        "\n",
        "  extractor.load_document(input=row[\"Text\"],language='en')\n",
        "\n",
        "\n",
        "# 3. select {1-3}-grams not containing punctuation marks and not\n",
        "#    beginning/ending with a stopword as candidates.\n",
        "  stoplist = stopwords.words('english')\n",
        "  extractor.candidate_selection(n=3)\n",
        "\n",
        "# 4. weight the candidates using YAKE weighting scheme, a window (in\n",
        "#    words) for computing left/right contexts can be specified.\n",
        "  window = 2\n",
        "  use_stems = False # use stems instead of words for weighting\n",
        "  extractor.candidate_weighting(window=2)\n",
        "\n",
        "# 5. get the 3-highest scored candidates as keyphrases.\n",
        "#    redundant keyphrases are removed from the output using levenshtein\n",
        "#    distance and a threshold.\n",
        "  threshold = 0.8\n",
        "  keyphrases = extractor.get_n_best(n=3, threshold=threshold)\n",
        "  keywords_yake.append(keyphrases)\n",
        "\n"
      ],
      "metadata": {
        "id": "jgemcNzzsCwM"
      },
      "execution_count": null,
      "outputs": []
    },
    {
      "cell_type": "code",
      "source": [
        "with open(\"key_inspec_yake.txt\", \"w\") as external_file:\n",
        "  for keyphrase in keywords_yake:   \n",
        "    print(keyphrase, file=external_file)\n",
        "  external_file.close()"
      ],
      "metadata": {
        "id": "7nl7HtBRKYl0"
      },
      "execution_count": null,
      "outputs": []
    },
    {
      "cell_type": "markdown",
      "source": [
        "# Data Preprocessing"
      ],
      "metadata": {
        "id": "QVZeb-mKFVLu"
      }
    },
    {
      "cell_type": "code",
      "source": [
        "import re"
      ],
      "metadata": {
        "id": "kjDOmxBFy8_Z"
      },
      "execution_count": null,
      "outputs": []
    },
    {
      "cell_type": "code",
      "source": [
        "list=[\"inspec_kpminer.txt\",\"inspec_positionrank.txt\",\"inspec_yake.txt\",\"inspec_kea.txt\",\"inspec_tfidf.txt\",\"inspec_topicrank.txt\",\"inspec_textrank.txt\",\"inspec_singlerank.txt\"]\n",
        "for file in list:\n",
        "  with open(f'{file}', 'r') as infile,open(f'key_{file}', 'w') as outfile:\n",
        "      data = infile.read()\n",
        "      data = re.sub(r\"[0-9]\", \"\", data)\n",
        "      data = data.replace(\"(\", \"\").replace(\"),\", \"\").replace(\".\",\"\").replace(\"'\",\"\").replace(\"  \",\" \").replace(\"[\",\"\").replace(\"]\",\"\").replace(\", )\",\"\")\n",
        "      outfile.write(data)"
      ],
      "metadata": {
        "id": "ZKfnYbalSgds"
      },
      "execution_count": null,
      "outputs": []
    },
    {
      "cell_type": "code",
      "source": [
        "import pandas as pd\n",
        "df1 = pd.read_csv(\"inspec_text.csv\")\n",
        "df2 = pd.read_csv(\"inspec_keys.csv\", sep = \"delimiter\")\n",
        "df3=pd.read_csv(\"key_inspec_tfidf.txt\",sep = \"delimiter\", header=None)\n",
        "df4=pd.read_csv(\"key_inspec_textrank.txt\",sep = \"delimiter\", header=None)\n",
        "df5=pd.read_csv(\"key_inspec_topicrank.txt\",sep = \"delimiter\", header=None)\n",
        "df6=pd.read_csv(\"key_inspec_singlerank.txt\",sep = \"delimiter\", header=None)\n",
        "df7=pd.read_csv(\"key_inspec_positionrank.txt\",sep = \"delimiter\", header=None)\n",
        "df8=pd.read_csv(\"key_inspec_kea.txt\",sep = \"delimiter\", header=None)\n",
        "df9=pd.read_csv(\"key_inspec_kpminer.txt\",sep = \"delimiter\", header=None)\n",
        "df10=pd.read_csv(\"key_inspec_yake.txt\",sep = \"delimiter\", header=None)\n",
        "# Merge all the tables\n",
        "\n",
        "df1[\"Key\"] = df2\n",
        "df1[\"key_tfidf\"]=df3\n",
        "df1[\"key_textrank\"]=df4\n",
        "df1[\"key_topicrank\"]=df5\n",
        "df1[\"key_singlerank\"]=df6\n",
        "df1[\"key_positionrank\"]=df7\n",
        "df1[\"key_kea\"]=df8\n",
        "df1[\"key_KPMiner\"]=df9\n",
        "df1[\"key_yake\"]=df10\n",
        "df = df1\n",
        "\n",
        "#Display the dataset\n",
        "df.head()"
      ],
      "metadata": {
        "colab": {
          "base_uri": "https://localhost:8080/",
          "height": 548
        },
        "id": "QFMbs1iLSkRW",
        "outputId": "0cdbf1d0-840a-4da9-b4a5-82388b20a532"
      },
      "execution_count": null,
      "outputs": [
        {
          "output_type": "stream",
          "name": "stderr",
          "text": [
            "/usr/local/lib/python3.7/dist-packages/pandas/util/_decorators.py:311: ParserWarning: Falling back to the 'python' engine because the 'c' engine does not support regex separators (separators > 1 char and different from '\\s+' are interpreted as regex); you can avoid this warning by specifying engine='python'.\n",
            "  return func(*args, **kwargs)\n"
          ]
        },
        {
          "output_type": "execute_result",
          "data": {
            "text/plain": [
              "                                                Text  \\\n",
              "0  Separate accounts go mainstream [investment],N...   \n",
              "1  Does classicism explain universality? Argument...   \n",
              "2  A conflict between language and atomistic info...   \n",
              "3  Selective representing and world-making,We dis...   \n",
              "4  Lob's theorem as a limitation on mechanism,\"We...   \n",
              "\n",
              "                                                 Key  \\\n",
              "0  classicism,universality,classical component of...   \n",
              "1  philosophy of mind,Information-Based Semantics...   \n",
              "2  world-making,selective representing,mental rep...   \n",
              "3  Lob Theorem,limitation on mechanism,epistemic ...   \n",
              "4  individual rationality,human behavior,game the...   \n",
              "\n",
              "                                           key_tfidf  \\\n",
              "0  separate, separate accounts, accounts, mainstr...   \n",
              "1  universality, classical, classicism, cognition...   \n",
              "2  thesis, atomism, relations, ibs, representatio...   \n",
              "3  selective, representing, selective representin...   \n",
              "4  lob, observer, limitation, argue, mechanism, e...   \n",
              "\n",
              "                                        key_textrank  \\\n",
              "0         investment,new entrants, separate accounts   \n",
              "1  classical symbol, syntax-sensitive rules, conn...   \n",
              "2  simple symbols, conflict ibs, content atomism,...   \n",
              "3  selective representing-the, realist conception...   \n",
              "4  identifiable formal, particular type, particul...   \n",
              "\n",
              "                                       key_topicrank  \\\n",
              "0  tools, advisers, independent, web-based platfo...   \n",
              "1  classicism, universality, human cognition, cap...   \n",
              "2  thesis, contents, content atomism, relations, ...   \n",
              "3  selective representing, organisms, selective r...   \n",
              "4  mechanism, theorem, lob, epistemic authority, ...   \n",
              "\n",
              "                                      key_singlerank  \\\n",
              "0  separate-account industry, investment,new entr...   \n",
              "1  classical symbol systems, pure classical, univ...   \n",
              "2  content atomism, cognitive states such, cognit...   \n",
              "3  selective representing-the idea, selective rep...   \n",
              "4  human-like epistemic agents, epistemic authori...   \n",
              "\n",
              "                                    key_positionrank  \\\n",
              "0  separate accounts, investment,new entrants, se...   \n",
              "1  pure classical, classical symbol systems, univ...   \n",
              "2  conflict ibs, atomistic information, fred dret...   \n",
              "3  selective representing-the idea, selective rep...   \n",
              "4  lob, theorem, limitation, mechanism,\"we, parti...   \n",
              "\n",
              "                                             key_kea  \\\n",
              "0  separate, separate accounts, accounts, mainstr...   \n",
              "1  universality, classical, classicism, cognition...   \n",
              "2  thesis, atomism, relations, ibs, representatio...   \n",
              "3  selective, representing, selective representin...   \n",
              "4  lob, observer, limitation, argue, mechanism, e...   \n",
              "\n",
              "                                         key_KPMiner  \\\n",
              "0  separate accounts, separate-account industry, ...   \n",
              "1  universality, classical, classicism, cognition...   \n",
              "2  thesis, atomism, relations, ibs, representatio...   \n",
              "3  selective, selective representing, mind-indepe...   \n",
              "4  lob, observer, limitation, argue, mechanism, e...   \n",
              "\n",
              "                                            key_yake  \n",
              "0  web-based platforms, money managers, separate ...  \n",
              "1  classicism explain universality, universality,...  \n",
              "2  information-based semantics, fred dretske, jer...  \n",
              "3  selective representing-the idea, organisms evo...  \n",
              "4  theorem implies, theorem, lob, human-like epis...  "
            ],
            "text/html": [
              "\n",
              "  <div id=\"df-e44ed92c-cfcc-4436-8083-2b60713be00d\">\n",
              "    <div class=\"colab-df-container\">\n",
              "      <div>\n",
              "<style scoped>\n",
              "    .dataframe tbody tr th:only-of-type {\n",
              "        vertical-align: middle;\n",
              "    }\n",
              "\n",
              "    .dataframe tbody tr th {\n",
              "        vertical-align: top;\n",
              "    }\n",
              "\n",
              "    .dataframe thead th {\n",
              "        text-align: right;\n",
              "    }\n",
              "</style>\n",
              "<table border=\"1\" class=\"dataframe\">\n",
              "  <thead>\n",
              "    <tr style=\"text-align: right;\">\n",
              "      <th></th>\n",
              "      <th>Text</th>\n",
              "      <th>Key</th>\n",
              "      <th>key_tfidf</th>\n",
              "      <th>key_textrank</th>\n",
              "      <th>key_topicrank</th>\n",
              "      <th>key_singlerank</th>\n",
              "      <th>key_positionrank</th>\n",
              "      <th>key_kea</th>\n",
              "      <th>key_KPMiner</th>\n",
              "      <th>key_yake</th>\n",
              "    </tr>\n",
              "  </thead>\n",
              "  <tbody>\n",
              "    <tr>\n",
              "      <th>0</th>\n",
              "      <td>Separate accounts go mainstream [investment],N...</td>\n",
              "      <td>classicism,universality,classical component of...</td>\n",
              "      <td>separate, separate accounts, accounts, mainstr...</td>\n",
              "      <td>investment,new entrants, separate accounts</td>\n",
              "      <td>tools, advisers, independent, web-based platfo...</td>\n",
              "      <td>separate-account industry, investment,new entr...</td>\n",
              "      <td>separate accounts, investment,new entrants, se...</td>\n",
              "      <td>separate, separate accounts, accounts, mainstr...</td>\n",
              "      <td>separate accounts, separate-account industry, ...</td>\n",
              "      <td>web-based platforms, money managers, separate ...</td>\n",
              "    </tr>\n",
              "    <tr>\n",
              "      <th>1</th>\n",
              "      <td>Does classicism explain universality? Argument...</td>\n",
              "      <td>philosophy of mind,Information-Based Semantics...</td>\n",
              "      <td>universality, classical, classicism, cognition...</td>\n",
              "      <td>classical symbol, syntax-sensitive rules, conn...</td>\n",
              "      <td>classicism, universality, human cognition, cap...</td>\n",
              "      <td>classical symbol systems, pure classical, univ...</td>\n",
              "      <td>pure classical, classical symbol systems, univ...</td>\n",
              "      <td>universality, classical, classicism, cognition...</td>\n",
              "      <td>universality, classical, classicism, cognition...</td>\n",
              "      <td>classicism explain universality, universality,...</td>\n",
              "    </tr>\n",
              "    <tr>\n",
              "      <th>2</th>\n",
              "      <td>A conflict between language and atomistic info...</td>\n",
              "      <td>world-making,selective representing,mental rep...</td>\n",
              "      <td>thesis, atomism, relations, ibs, representatio...</td>\n",
              "      <td>simple symbols, conflict ibs, content atomism,...</td>\n",
              "      <td>thesis, contents, content atomism, relations, ...</td>\n",
              "      <td>content atomism, cognitive states such, cognit...</td>\n",
              "      <td>conflict ibs, atomistic information, fred dret...</td>\n",
              "      <td>thesis, atomism, relations, ibs, representatio...</td>\n",
              "      <td>thesis, atomism, relations, ibs, representatio...</td>\n",
              "      <td>information-based semantics, fred dretske, jer...</td>\n",
              "    </tr>\n",
              "    <tr>\n",
              "      <th>3</th>\n",
              "      <td>Selective representing and world-making,We dis...</td>\n",
              "      <td>Lob Theorem,limitation on mechanism,epistemic ...</td>\n",
              "      <td>selective, representing, selective representin...</td>\n",
              "      <td>selective representing-the, realist conception...</td>\n",
              "      <td>selective representing, organisms, selective r...</td>\n",
              "      <td>selective representing-the idea, selective rep...</td>\n",
              "      <td>selective representing-the idea, selective rep...</td>\n",
              "      <td>selective, representing, selective representin...</td>\n",
              "      <td>selective, selective representing, mind-indepe...</td>\n",
              "      <td>selective representing-the idea, organisms evo...</td>\n",
              "    </tr>\n",
              "    <tr>\n",
              "      <th>4</th>\n",
              "      <td>Lob's theorem as a limitation on mechanism,\"We...</td>\n",
              "      <td>individual rationality,human behavior,game the...</td>\n",
              "      <td>lob, observer, limitation, argue, mechanism, e...</td>\n",
              "      <td>identifiable formal, particular type, particul...</td>\n",
              "      <td>mechanism, theorem, lob, epistemic authority, ...</td>\n",
              "      <td>human-like epistemic agents, epistemic authori...</td>\n",
              "      <td>lob, theorem, limitation, mechanism,\"we, parti...</td>\n",
              "      <td>lob, observer, limitation, argue, mechanism, e...</td>\n",
              "      <td>lob, observer, limitation, argue, mechanism, e...</td>\n",
              "      <td>theorem implies, theorem, lob, human-like epis...</td>\n",
              "    </tr>\n",
              "  </tbody>\n",
              "</table>\n",
              "</div>\n",
              "      <button class=\"colab-df-convert\" onclick=\"convertToInteractive('df-e44ed92c-cfcc-4436-8083-2b60713be00d')\"\n",
              "              title=\"Convert this dataframe to an interactive table.\"\n",
              "              style=\"display:none;\">\n",
              "        \n",
              "  <svg xmlns=\"http://www.w3.org/2000/svg\" height=\"24px\"viewBox=\"0 0 24 24\"\n",
              "       width=\"24px\">\n",
              "    <path d=\"M0 0h24v24H0V0z\" fill=\"none\"/>\n",
              "    <path d=\"M18.56 5.44l.94 2.06.94-2.06 2.06-.94-2.06-.94-.94-2.06-.94 2.06-2.06.94zm-11 1L8.5 8.5l.94-2.06 2.06-.94-2.06-.94L8.5 2.5l-.94 2.06-2.06.94zm10 10l.94 2.06.94-2.06 2.06-.94-2.06-.94-.94-2.06-.94 2.06-2.06.94z\"/><path d=\"M17.41 7.96l-1.37-1.37c-.4-.4-.92-.59-1.43-.59-.52 0-1.04.2-1.43.59L10.3 9.45l-7.72 7.72c-.78.78-.78 2.05 0 2.83L4 21.41c.39.39.9.59 1.41.59.51 0 1.02-.2 1.41-.59l7.78-7.78 2.81-2.81c.8-.78.8-2.07 0-2.86zM5.41 20L4 18.59l7.72-7.72 1.47 1.35L5.41 20z\"/>\n",
              "  </svg>\n",
              "      </button>\n",
              "      \n",
              "  <style>\n",
              "    .colab-df-container {\n",
              "      display:flex;\n",
              "      flex-wrap:wrap;\n",
              "      gap: 12px;\n",
              "    }\n",
              "\n",
              "    .colab-df-convert {\n",
              "      background-color: #E8F0FE;\n",
              "      border: none;\n",
              "      border-radius: 50%;\n",
              "      cursor: pointer;\n",
              "      display: none;\n",
              "      fill: #1967D2;\n",
              "      height: 32px;\n",
              "      padding: 0 0 0 0;\n",
              "      width: 32px;\n",
              "    }\n",
              "\n",
              "    .colab-df-convert:hover {\n",
              "      background-color: #E2EBFA;\n",
              "      box-shadow: 0px 1px 2px rgba(60, 64, 67, 0.3), 0px 1px 3px 1px rgba(60, 64, 67, 0.15);\n",
              "      fill: #174EA6;\n",
              "    }\n",
              "\n",
              "    [theme=dark] .colab-df-convert {\n",
              "      background-color: #3B4455;\n",
              "      fill: #D2E3FC;\n",
              "    }\n",
              "\n",
              "    [theme=dark] .colab-df-convert:hover {\n",
              "      background-color: #434B5C;\n",
              "      box-shadow: 0px 1px 3px 1px rgba(0, 0, 0, 0.15);\n",
              "      filter: drop-shadow(0px 1px 2px rgba(0, 0, 0, 0.3));\n",
              "      fill: #FFFFFF;\n",
              "    }\n",
              "  </style>\n",
              "\n",
              "      <script>\n",
              "        const buttonEl =\n",
              "          document.querySelector('#df-e44ed92c-cfcc-4436-8083-2b60713be00d button.colab-df-convert');\n",
              "        buttonEl.style.display =\n",
              "          google.colab.kernel.accessAllowed ? 'block' : 'none';\n",
              "\n",
              "        async function convertToInteractive(key) {\n",
              "          const element = document.querySelector('#df-e44ed92c-cfcc-4436-8083-2b60713be00d');\n",
              "          const dataTable =\n",
              "            await google.colab.kernel.invokeFunction('convertToInteractive',\n",
              "                                                     [key], {});\n",
              "          if (!dataTable) return;\n",
              "\n",
              "          const docLinkHtml = 'Like what you see? Visit the ' +\n",
              "            '<a target=\"_blank\" href=https://colab.research.google.com/notebooks/data_table.ipynb>data table notebook</a>'\n",
              "            + ' to learn more about interactive tables.';\n",
              "          element.innerHTML = '';\n",
              "          dataTable['output_type'] = 'display_data';\n",
              "          await google.colab.output.renderOutput(dataTable, element);\n",
              "          const docLink = document.createElement('div');\n",
              "          docLink.innerHTML = docLinkHtml;\n",
              "          element.appendChild(docLink);\n",
              "        }\n",
              "      </script>\n",
              "    </div>\n",
              "  </div>\n",
              "  "
            ]
          },
          "metadata": {},
          "execution_count": 19
        }
      ]
    },
    {
      "cell_type": "markdown",
      "source": [
        "# Evaluation F1 Score "
      ],
      "metadata": {
        "id": "jBWg4CdebG_l"
      }
    },
    {
      "cell_type": "code",
      "source": [
        "from sklearn.metrics import f1_score\n",
        "\n",
        "df = pd.read_csv(\"inspec_text.csv\")\n",
        "df2 = pd.read_csv(\"inspec_keys.csv\", sep = \"delimiter\")\n",
        "\n",
        "\n",
        "\n",
        "df[\"Key\"] = df2\n",
        "df[\"key_tfidf\"]=[f1_score(k, df3.values.tolist(), average='macro')  for k in df2.values.tolist()]\n",
        "df[\"key_textrank\"]=[f1_score(k, df4.values.tolist(), average='macro')  for k in df2.values.tolist()]\n",
        "df[\"key_topicrank\"]=[f1_score(k, df5.values.tolist(), average='macro')  for k in df2.values.tolist()]\n",
        "df[\"key_singlerank\"]=[f1_score(k, df6.values.tolist(), average='macro')  for k in df2.values.tolist()]\n",
        "df[\"key_positionrank\"]=[f1_score(k, df7.values.tolist(), average='macro')  for k in df2.values.tolist()]\n",
        "df[\"key_kea\"]=[f1_score(k, df8.values.tolist(), average='macro')  for k in df2.values.tolist()]\n",
        "df[\"key_KPMiner\"]=[f1_score(k, df9.values.tolist(), average='macro')  for k in df2.values.tolist()]\n",
        "df[\"key_yake\"]=[f1_score(k, df10.values.tolist(), average='macro')  for k in df2.values.tolist()]\n",
        "df_fin = df\n",
        "\n",
        "#Display the dataset\n",
        "df_fin.head()"
      ],
      "metadata": {
        "colab": {
          "base_uri": "https://localhost:8080/",
          "height": 357
        },
        "id": "6H4QXQV4Ss9o",
        "outputId": "30417686-ec8f-4174-d846-fb07362f1d14"
      },
      "execution_count": null,
      "outputs": [
        {
          "output_type": "stream",
          "name": "stderr",
          "text": [
            "/usr/local/lib/python3.7/dist-packages/pandas/util/_decorators.py:311: ParserWarning: Falling back to the 'python' engine because the 'c' engine does not support regex separators (separators > 1 char and different from '\\s+' are interpreted as regex); you can avoid this warning by specifying engine='python'.\n",
            "  return func(*args, **kwargs)\n"
          ]
        },
        {
          "output_type": "execute_result",
          "data": {
            "text/plain": [
              "        Separate accounts go mainstream [investment]  \\\n",
              "0  New entrants are shaking up the separate-accou...   \n",
              "1  \\tWeb-based platforms that give advisers the t...   \n",
              "2                                   \\tmoney managers   \n",
              "3  Does classicism explain universality? Argument...   \n",
              "4                                \\tcomponent of mind   \n",
              "\n",
              "                                                 Key  key_tfidf  key_textrank  \\\n",
              "0  classicism,universality,classical component of...   0.167516      0.384862   \n",
              "1  philosophy of mind,Information-Based Semantics...   0.000154      0.433208   \n",
              "2  world-making,selective representing,mental rep...   0.058150      0.352413   \n",
              "3  Lob Theorem,limitation on mechanism,epistemic ...   0.314396      0.233082   \n",
              "4  individual rationality,human behavior,game the...   0.447226      0.446228   \n",
              "\n",
              "   key_topicrank  key_singlerank  key_positionrank   key_kea  key_KPMiner  \\\n",
              "0       0.427431        0.060107          0.405758  0.415933     0.210590   \n",
              "1       0.369200        0.165796          0.308411  0.424268     0.192254   \n",
              "2       0.270179        0.345800          0.338215  0.192560     0.237568   \n",
              "3       0.177040        0.014236          0.189688  0.031453     0.164483   \n",
              "4       0.199438        0.422453          0.107050  0.150939     0.121319   \n",
              "\n",
              "   key_yake  \n",
              "0  0.107248  \n",
              "1  0.348618  \n",
              "2  0.294434  \n",
              "3  0.397296  \n",
              "4  0.431726  "
            ],
            "text/html": [
              "\n",
              "  <div id=\"df-907ec724-cde2-4d64-a293-42bb6590f3f9\">\n",
              "    <div class=\"colab-df-container\">\n",
              "      <div>\n",
              "<style scoped>\n",
              "    .dataframe tbody tr th:only-of-type {\n",
              "        vertical-align: middle;\n",
              "    }\n",
              "\n",
              "    .dataframe tbody tr th {\n",
              "        vertical-align: top;\n",
              "    }\n",
              "\n",
              "    .dataframe thead th {\n",
              "        text-align: right;\n",
              "    }\n",
              "</style>\n",
              "<table border=\"1\" class=\"dataframe\">\n",
              "  <thead>\n",
              "    <tr style=\"text-align: right;\">\n",
              "      <th></th>\n",
              "      <th>Separate accounts go mainstream [investment]</th>\n",
              "      <th>Key</th>\n",
              "      <th>key_tfidf</th>\n",
              "      <th>key_textrank</th>\n",
              "      <th>key_topicrank</th>\n",
              "      <th>key_singlerank</th>\n",
              "      <th>key_positionrank</th>\n",
              "      <th>key_kea</th>\n",
              "      <th>key_KPMiner</th>\n",
              "      <th>key_yake</th>\n",
              "    </tr>\n",
              "  </thead>\n",
              "  <tbody>\n",
              "    <tr>\n",
              "      <th>0</th>\n",
              "      <td>New entrants are shaking up the separate-accou...</td>\n",
              "      <td>classicism,universality,classical component of...</td>\n",
              "      <td>0.167516</td>\n",
              "      <td>0.384862</td>\n",
              "      <td>0.427431</td>\n",
              "      <td>0.060107</td>\n",
              "      <td>0.405758</td>\n",
              "      <td>0.415933</td>\n",
              "      <td>0.210590</td>\n",
              "      <td>0.107248</td>\n",
              "    </tr>\n",
              "    <tr>\n",
              "      <th>1</th>\n",
              "      <td>\\tWeb-based platforms that give advisers the t...</td>\n",
              "      <td>philosophy of mind,Information-Based Semantics...</td>\n",
              "      <td>0.000154</td>\n",
              "      <td>0.433208</td>\n",
              "      <td>0.369200</td>\n",
              "      <td>0.165796</td>\n",
              "      <td>0.308411</td>\n",
              "      <td>0.424268</td>\n",
              "      <td>0.192254</td>\n",
              "      <td>0.348618</td>\n",
              "    </tr>\n",
              "    <tr>\n",
              "      <th>2</th>\n",
              "      <td>\\tmoney managers</td>\n",
              "      <td>world-making,selective representing,mental rep...</td>\n",
              "      <td>0.058150</td>\n",
              "      <td>0.352413</td>\n",
              "      <td>0.270179</td>\n",
              "      <td>0.345800</td>\n",
              "      <td>0.338215</td>\n",
              "      <td>0.192560</td>\n",
              "      <td>0.237568</td>\n",
              "      <td>0.294434</td>\n",
              "    </tr>\n",
              "    <tr>\n",
              "      <th>3</th>\n",
              "      <td>Does classicism explain universality? Argument...</td>\n",
              "      <td>Lob Theorem,limitation on mechanism,epistemic ...</td>\n",
              "      <td>0.314396</td>\n",
              "      <td>0.233082</td>\n",
              "      <td>0.177040</td>\n",
              "      <td>0.014236</td>\n",
              "      <td>0.189688</td>\n",
              "      <td>0.031453</td>\n",
              "      <td>0.164483</td>\n",
              "      <td>0.397296</td>\n",
              "    </tr>\n",
              "    <tr>\n",
              "      <th>4</th>\n",
              "      <td>\\tcomponent of mind</td>\n",
              "      <td>individual rationality,human behavior,game the...</td>\n",
              "      <td>0.447226</td>\n",
              "      <td>0.446228</td>\n",
              "      <td>0.199438</td>\n",
              "      <td>0.422453</td>\n",
              "      <td>0.107050</td>\n",
              "      <td>0.150939</td>\n",
              "      <td>0.121319</td>\n",
              "      <td>0.431726</td>\n",
              "    </tr>\n",
              "  </tbody>\n",
              "</table>\n",
              "</div>\n",
              "      <button class=\"colab-df-convert\" onclick=\"convertToInteractive('df-907ec724-cde2-4d64-a293-42bb6590f3f9')\"\n",
              "              title=\"Convert this dataframe to an interactive table.\"\n",
              "              style=\"display:none;\">\n",
              "        \n",
              "  <svg xmlns=\"http://www.w3.org/2000/svg\" height=\"24px\"viewBox=\"0 0 24 24\"\n",
              "       width=\"24px\">\n",
              "    <path d=\"M0 0h24v24H0V0z\" fill=\"none\"/>\n",
              "    <path d=\"M18.56 5.44l.94 2.06.94-2.06 2.06-.94-2.06-.94-.94-2.06-.94 2.06-2.06.94zm-11 1L8.5 8.5l.94-2.06 2.06-.94-2.06-.94L8.5 2.5l-.94 2.06-2.06.94zm10 10l.94 2.06.94-2.06 2.06-.94-2.06-.94-.94-2.06-.94 2.06-2.06.94z\"/><path d=\"M17.41 7.96l-1.37-1.37c-.4-.4-.92-.59-1.43-.59-.52 0-1.04.2-1.43.59L10.3 9.45l-7.72 7.72c-.78.78-.78 2.05 0 2.83L4 21.41c.39.39.9.59 1.41.59.51 0 1.02-.2 1.41-.59l7.78-7.78 2.81-2.81c.8-.78.8-2.07 0-2.86zM5.41 20L4 18.59l7.72-7.72 1.47 1.35L5.41 20z\"/>\n",
              "  </svg>\n",
              "      </button>\n",
              "      \n",
              "  <style>\n",
              "    .colab-df-container {\n",
              "      display:flex;\n",
              "      flex-wrap:wrap;\n",
              "      gap: 12px;\n",
              "    }\n",
              "\n",
              "    .colab-df-convert {\n",
              "      background-color: #E8F0FE;\n",
              "      border: none;\n",
              "      border-radius: 50%;\n",
              "      cursor: pointer;\n",
              "      display: none;\n",
              "      fill: #1967D2;\n",
              "      height: 32px;\n",
              "      padding: 0 0 0 0;\n",
              "      width: 32px;\n",
              "    }\n",
              "\n",
              "    .colab-df-convert:hover {\n",
              "      background-color: #E2EBFA;\n",
              "      box-shadow: 0px 1px 2px rgba(60, 64, 67, 0.3), 0px 1px 3px 1px rgba(60, 64, 67, 0.15);\n",
              "      fill: #174EA6;\n",
              "    }\n",
              "\n",
              "    [theme=dark] .colab-df-convert {\n",
              "      background-color: #3B4455;\n",
              "      fill: #D2E3FC;\n",
              "    }\n",
              "\n",
              "    [theme=dark] .colab-df-convert:hover {\n",
              "      background-color: #434B5C;\n",
              "      box-shadow: 0px 1px 3px 1px rgba(0, 0, 0, 0.15);\n",
              "      filter: drop-shadow(0px 1px 2px rgba(0, 0, 0, 0.3));\n",
              "      fill: #FFFFFF;\n",
              "    }\n",
              "  </style>\n",
              "\n",
              "      <script>\n",
              "        const buttonEl =\n",
              "          document.querySelector('#df-907ec724-cde2-4d64-a293-42bb6590f3f9 button.colab-df-convert');\n",
              "        buttonEl.style.display =\n",
              "          google.colab.kernel.accessAllowed ? 'block' : 'none';\n",
              "\n",
              "        async function convertToInteractive(key) {\n",
              "          const element = document.querySelector('#df-907ec724-cde2-4d64-a293-42bb6590f3f9');\n",
              "          const dataTable =\n",
              "            await google.colab.kernel.invokeFunction('convertToInteractive',\n",
              "                                                     [key], {});\n",
              "          if (!dataTable) return;\n",
              "\n",
              "          const docLinkHtml = 'Like what you see? Visit the ' +\n",
              "            '<a target=\"_blank\" href=https://colab.research.google.com/notebooks/data_table.ipynb>data table notebook</a>'\n",
              "            + ' to learn more about interactive tables.';\n",
              "          element.innerHTML = '';\n",
              "          dataTable['output_type'] = 'display_data';\n",
              "          await google.colab.output.renderOutput(dataTable, element);\n",
              "          const docLink = document.createElement('div');\n",
              "          docLink.innerHTML = docLinkHtml;\n",
              "          element.appendChild(docLink);\n",
              "        }\n",
              "      </script>\n",
              "    </div>\n",
              "  </div>\n",
              "  "
            ]
          },
          "metadata": {},
          "execution_count": 29
        }
      ]
    },
    {
      "cell_type": "code",
      "source": [
        "import pandas as pd\n",
        "d = {'key_tfidf': [df[\"key_tfidf\"].mean()], 'key_textrank': [df[\"key_textrank\"].mean()], 'key_topicrank': [df[\"key_topicrank\"].mean()], 'key_singlerank': [df[\"key_singlerank\"].mean()], 'key_positionrank': [df[\"key_positionrank\"].mean()], 'key_kea': [df[\"key_kea\"].mean()], 'key_KPMiner': [df[\"key_KPMiner\"].mean()], 'key_yake': [df[\"key_yake\"].mean()]}\n",
        "df_score = pd.DataFrame(data=d)\n",
        "df_score.head()"
      ],
      "metadata": {
        "colab": {
          "base_uri": "https://localhost:8080/",
          "height": 81
        },
        "id": "ZeXlcWG61uLF",
        "outputId": "26d25f7d-e9b8-4a94-e449-86c17b75fb47"
      },
      "execution_count": null,
      "outputs": [
        {
          "output_type": "execute_result",
          "data": {
            "text/plain": [
              "   key_tfidf  key_textrank  key_topicrank  key_singlerank  key_positionrank  \\\n",
              "0    0.15432      0.102366       0.242197        0.359631          0.310233   \n",
              "\n",
              "    key_kea  key_KPMiner  key_yake  \n",
              "0  0.135477     0.098722   0.39321  "
            ],
            "text/html": [
              "\n",
              "  <div id=\"df-8ab64e1c-1381-4c4c-83ce-4b85dc773f25\">\n",
              "    <div class=\"colab-df-container\">\n",
              "      <div>\n",
              "<style scoped>\n",
              "    .dataframe tbody tr th:only-of-type {\n",
              "        vertical-align: middle;\n",
              "    }\n",
              "\n",
              "    .dataframe tbody tr th {\n",
              "        vertical-align: top;\n",
              "    }\n",
              "\n",
              "    .dataframe thead th {\n",
              "        text-align: right;\n",
              "    }\n",
              "</style>\n",
              "<table border=\"1\" class=\"dataframe\">\n",
              "  <thead>\n",
              "    <tr style=\"text-align: right;\">\n",
              "      <th></th>\n",
              "      <th>key_tfidf</th>\n",
              "      <th>key_textrank</th>\n",
              "      <th>key_topicrank</th>\n",
              "      <th>key_singlerank</th>\n",
              "      <th>key_positionrank</th>\n",
              "      <th>key_kea</th>\n",
              "      <th>key_KPMiner</th>\n",
              "      <th>key_yake</th>\n",
              "    </tr>\n",
              "  </thead>\n",
              "  <tbody>\n",
              "    <tr>\n",
              "      <th>0</th>\n",
              "      <td>0.15432</td>\n",
              "      <td>0.102366</td>\n",
              "      <td>0.242197</td>\n",
              "      <td>0.359631</td>\n",
              "      <td>0.310233</td>\n",
              "      <td>0.135477</td>\n",
              "      <td>0.098722</td>\n",
              "      <td>0.39321</td>\n",
              "    </tr>\n",
              "  </tbody>\n",
              "</table>\n",
              "</div>\n",
              "      <button class=\"colab-df-convert\" onclick=\"convertToInteractive('df-8ab64e1c-1381-4c4c-83ce-4b85dc773f25')\"\n",
              "              title=\"Convert this dataframe to an interactive table.\"\n",
              "              style=\"display:none;\">\n",
              "        \n",
              "  <svg xmlns=\"http://www.w3.org/2000/svg\" height=\"24px\"viewBox=\"0 0 24 24\"\n",
              "       width=\"24px\">\n",
              "    <path d=\"M0 0h24v24H0V0z\" fill=\"none\"/>\n",
              "    <path d=\"M18.56 5.44l.94 2.06.94-2.06 2.06-.94-2.06-.94-.94-2.06-.94 2.06-2.06.94zm-11 1L8.5 8.5l.94-2.06 2.06-.94-2.06-.94L8.5 2.5l-.94 2.06-2.06.94zm10 10l.94 2.06.94-2.06 2.06-.94-2.06-.94-.94-2.06-.94 2.06-2.06.94z\"/><path d=\"M17.41 7.96l-1.37-1.37c-.4-.4-.92-.59-1.43-.59-.52 0-1.04.2-1.43.59L10.3 9.45l-7.72 7.72c-.78.78-.78 2.05 0 2.83L4 21.41c.39.39.9.59 1.41.59.51 0 1.02-.2 1.41-.59l7.78-7.78 2.81-2.81c.8-.78.8-2.07 0-2.86zM5.41 20L4 18.59l7.72-7.72 1.47 1.35L5.41 20z\"/>\n",
              "  </svg>\n",
              "      </button>\n",
              "      \n",
              "  <style>\n",
              "    .colab-df-container {\n",
              "      display:flex;\n",
              "      flex-wrap:wrap;\n",
              "      gap: 12px;\n",
              "    }\n",
              "\n",
              "    .colab-df-convert {\n",
              "      background-color: #E8F0FE;\n",
              "      border: none;\n",
              "      border-radius: 50%;\n",
              "      cursor: pointer;\n",
              "      display: none;\n",
              "      fill: #1967D2;\n",
              "      height: 32px;\n",
              "      padding: 0 0 0 0;\n",
              "      width: 32px;\n",
              "    }\n",
              "\n",
              "    .colab-df-convert:hover {\n",
              "      background-color: #E2EBFA;\n",
              "      box-shadow: 0px 1px 2px rgba(60, 64, 67, 0.3), 0px 1px 3px 1px rgba(60, 64, 67, 0.15);\n",
              "      fill: #174EA6;\n",
              "    }\n",
              "\n",
              "    [theme=dark] .colab-df-convert {\n",
              "      background-color: #3B4455;\n",
              "      fill: #D2E3FC;\n",
              "    }\n",
              "\n",
              "    [theme=dark] .colab-df-convert:hover {\n",
              "      background-color: #434B5C;\n",
              "      box-shadow: 0px 1px 3px 1px rgba(0, 0, 0, 0.15);\n",
              "      filter: drop-shadow(0px 1px 2px rgba(0, 0, 0, 0.3));\n",
              "      fill: #FFFFFF;\n",
              "    }\n",
              "  </style>\n",
              "\n",
              "      <script>\n",
              "        const buttonEl =\n",
              "          document.querySelector('#df-8ab64e1c-1381-4c4c-83ce-4b85dc773f25 button.colab-df-convert');\n",
              "        buttonEl.style.display =\n",
              "          google.colab.kernel.accessAllowed ? 'block' : 'none';\n",
              "\n",
              "        async function convertToInteractive(key) {\n",
              "          const element = document.querySelector('#df-8ab64e1c-1381-4c4c-83ce-4b85dc773f25');\n",
              "          const dataTable =\n",
              "            await google.colab.kernel.invokeFunction('convertToInteractive',\n",
              "                                                     [key], {});\n",
              "          if (!dataTable) return;\n",
              "\n",
              "          const docLinkHtml = 'Like what you see? Visit the ' +\n",
              "            '<a target=\"_blank\" href=https://colab.research.google.com/notebooks/data_table.ipynb>data table notebook</a>'\n",
              "            + ' to learn more about interactive tables.';\n",
              "          element.innerHTML = '';\n",
              "          dataTable['output_type'] = 'display_data';\n",
              "          await google.colab.output.renderOutput(dataTable, element);\n",
              "          const docLink = document.createElement('div');\n",
              "          docLink.innerHTML = docLinkHtml;\n",
              "          element.appendChild(docLink);\n",
              "        }\n",
              "      </script>\n",
              "    </div>\n",
              "  </div>\n",
              "  "
            ]
          },
          "metadata": {},
          "execution_count": 3
        }
      ]
    },
    {
      "cell_type": "code",
      "source": [
        ""
      ],
      "metadata": {
        "id": "DvkWIt2Whl3s"
      },
      "execution_count": null,
      "outputs": []
    }
  ]
}