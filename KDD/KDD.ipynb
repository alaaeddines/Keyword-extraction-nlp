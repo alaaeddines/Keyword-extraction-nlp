{
  "nbformat": 4,
  "nbformat_minor": 0,
  "metadata": {
    "colab": {
      "name": "KDD.ipynb",
      "provenance": [],
      "collapsed_sections": []
    },
    "kernelspec": {
      "name": "python3",
      "display_name": "Python 3"
    },
    "language_info": {
      "name": "python"
    }
  },
  "cells": [
    {
      "cell_type": "markdown",
      "source": [
        "## Installing the required dependencies"
      ],
      "metadata": {
        "id": "ZpG9s236aJ0A"
      }
    },
    {
      "cell_type": "code",
      "source": [
        "!pip install -U pip setuptools wheel\n",
        "\n",
        "!pip install -U spacy\n",
        "\n",
        "!python -m spacy download en_core_web_sm\n",
        "\n",
        "!pip install git+https://github.com/boudinfl/pke.git\n",
        "!pip install matplotlib"
      ],
      "metadata": {
        "colab": {
          "base_uri": "https://localhost:8080/"
        },
        "id": "UN-FsbzPY7vV",
        "outputId": "0015e6b5-3cef-4e60-f654-f068a09d2642"
      },
      "execution_count": null,
      "outputs": [
        {
          "output_type": "stream",
          "name": "stdout",
          "text": [
            "Requirement already satisfied: pip in /usr/local/lib/python3.7/dist-packages (22.0.4)\n",
            "Requirement already satisfied: setuptools in /usr/local/lib/python3.7/dist-packages (62.1.0)\n",
            "Requirement already satisfied: wheel in /usr/local/lib/python3.7/dist-packages (0.37.1)\n",
            "\u001b[33mWARNING: Running pip as the 'root' user can result in broken permissions and conflicting behaviour with the system package manager. It is recommended to use a virtual environment instead: https://pip.pypa.io/warnings/venv\u001b[0m\u001b[33m\n",
            "\u001b[0mRequirement already satisfied: spacy in /usr/local/lib/python3.7/dist-packages (3.2.4)\n",
            "Requirement already satisfied: click<8.1.0 in /usr/local/lib/python3.7/dist-packages (from spacy) (7.1.2)\n",
            "Requirement already satisfied: wasabi<1.1.0,>=0.8.1 in /usr/local/lib/python3.7/dist-packages (from spacy) (0.9.0)\n",
            "Requirement already satisfied: catalogue<2.1.0,>=2.0.6 in /usr/local/lib/python3.7/dist-packages (from spacy) (2.0.7)\n",
            "Requirement already satisfied: thinc<8.1.0,>=8.0.12 in /usr/local/lib/python3.7/dist-packages (from spacy) (8.0.15)\n",
            "Requirement already satisfied: pydantic!=1.8,!=1.8.1,<1.9.0,>=1.7.4 in /usr/local/lib/python3.7/dist-packages (from spacy) (1.8.2)\n",
            "Requirement already satisfied: requests<3.0.0,>=2.13.0 in /usr/local/lib/python3.7/dist-packages (from spacy) (2.23.0)\n",
            "Requirement already satisfied: tqdm<5.0.0,>=4.38.0 in /usr/local/lib/python3.7/dist-packages (from spacy) (4.63.0)\n",
            "Requirement already satisfied: numpy>=1.15.0 in /usr/local/lib/python3.7/dist-packages (from spacy) (1.21.5)\n",
            "Requirement already satisfied: murmurhash<1.1.0,>=0.28.0 in /usr/local/lib/python3.7/dist-packages (from spacy) (1.0.6)\n",
            "Requirement already satisfied: setuptools in /usr/local/lib/python3.7/dist-packages (from spacy) (62.1.0)\n",
            "Requirement already satisfied: jinja2 in /usr/local/lib/python3.7/dist-packages (from spacy) (2.11.3)\n",
            "Requirement already satisfied: blis<0.8.0,>=0.4.0 in /usr/local/lib/python3.7/dist-packages (from spacy) (0.4.1)\n",
            "Requirement already satisfied: typer<0.5.0,>=0.3.0 in /usr/local/lib/python3.7/dist-packages (from spacy) (0.4.1)\n",
            "Requirement already satisfied: typing-extensions<4.0.0.0,>=3.7.4 in /usr/local/lib/python3.7/dist-packages (from spacy) (3.10.0.2)\n",
            "Requirement already satisfied: spacy-loggers<2.0.0,>=1.0.0 in /usr/local/lib/python3.7/dist-packages (from spacy) (1.0.2)\n",
            "Requirement already satisfied: pathy>=0.3.5 in /usr/local/lib/python3.7/dist-packages (from spacy) (0.6.1)\n",
            "Requirement already satisfied: spacy-legacy<3.1.0,>=3.0.8 in /usr/local/lib/python3.7/dist-packages (from spacy) (3.0.9)\n",
            "Requirement already satisfied: packaging>=20.0 in /usr/local/lib/python3.7/dist-packages (from spacy) (21.3)\n",
            "Requirement already satisfied: cymem<2.1.0,>=2.0.2 in /usr/local/lib/python3.7/dist-packages (from spacy) (2.0.6)\n",
            "Requirement already satisfied: preshed<3.1.0,>=3.0.2 in /usr/local/lib/python3.7/dist-packages (from spacy) (3.0.6)\n",
            "Requirement already satisfied: langcodes<4.0.0,>=3.2.0 in /usr/local/lib/python3.7/dist-packages (from spacy) (3.3.0)\n",
            "Requirement already satisfied: srsly<3.0.0,>=2.4.1 in /usr/local/lib/python3.7/dist-packages (from spacy) (2.4.2)\n",
            "Requirement already satisfied: zipp>=0.5 in /usr/local/lib/python3.7/dist-packages (from catalogue<2.1.0,>=2.0.6->spacy) (3.7.0)\n",
            "Requirement already satisfied: pyparsing!=3.0.5,>=2.0.2 in /usr/local/lib/python3.7/dist-packages (from packaging>=20.0->spacy) (3.0.7)\n",
            "Requirement already satisfied: smart-open<6.0.0,>=5.0.0 in /usr/local/lib/python3.7/dist-packages (from pathy>=0.3.5->spacy) (5.2.1)\n",
            "Requirement already satisfied: chardet<4,>=3.0.2 in /usr/local/lib/python3.7/dist-packages (from requests<3.0.0,>=2.13.0->spacy) (3.0.4)\n",
            "Requirement already satisfied: certifi>=2017.4.17 in /usr/local/lib/python3.7/dist-packages (from requests<3.0.0,>=2.13.0->spacy) (2021.10.8)\n",
            "Requirement already satisfied: idna<3,>=2.5 in /usr/local/lib/python3.7/dist-packages (from requests<3.0.0,>=2.13.0->spacy) (2.10)\n",
            "Requirement already satisfied: urllib3!=1.25.0,!=1.25.1,<1.26,>=1.21.1 in /usr/local/lib/python3.7/dist-packages (from requests<3.0.0,>=2.13.0->spacy) (1.24.3)\n",
            "Requirement already satisfied: MarkupSafe>=0.23 in /usr/local/lib/python3.7/dist-packages (from jinja2->spacy) (2.0.1)\n",
            "\u001b[33mWARNING: Running pip as the 'root' user can result in broken permissions and conflicting behaviour with the system package manager. It is recommended to use a virtual environment instead: https://pip.pypa.io/warnings/venv\u001b[0m\u001b[33m\n",
            "\u001b[0mCollecting en-core-web-sm==3.2.0\n",
            "  Downloading https://github.com/explosion/spacy-models/releases/download/en_core_web_sm-3.2.0/en_core_web_sm-3.2.0-py3-none-any.whl (13.9 MB)\n",
            "\u001b[2K     \u001b[90m━━━━━━━━━━━━━━━━━━━━━━━━━━━━━━━━━━━━━━━━\u001b[0m \u001b[32m13.9/13.9 MB\u001b[0m \u001b[31m14.6 MB/s\u001b[0m eta \u001b[36m0:00:00\u001b[0m\n",
            "\u001b[?25hRequirement already satisfied: spacy<3.3.0,>=3.2.0 in /usr/local/lib/python3.7/dist-packages (from en-core-web-sm==3.2.0) (3.2.4)\n",
            "Requirement already satisfied: catalogue<2.1.0,>=2.0.6 in /usr/local/lib/python3.7/dist-packages (from spacy<3.3.0,>=3.2.0->en-core-web-sm==3.2.0) (2.0.7)\n",
            "Requirement already satisfied: spacy-legacy<3.1.0,>=3.0.8 in /usr/local/lib/python3.7/dist-packages (from spacy<3.3.0,>=3.2.0->en-core-web-sm==3.2.0) (3.0.9)\n",
            "Requirement already satisfied: packaging>=20.0 in /usr/local/lib/python3.7/dist-packages (from spacy<3.3.0,>=3.2.0->en-core-web-sm==3.2.0) (21.3)\n",
            "Requirement already satisfied: pathy>=0.3.5 in /usr/local/lib/python3.7/dist-packages (from spacy<3.3.0,>=3.2.0->en-core-web-sm==3.2.0) (0.6.1)\n",
            "Requirement already satisfied: blis<0.8.0,>=0.4.0 in /usr/local/lib/python3.7/dist-packages (from spacy<3.3.0,>=3.2.0->en-core-web-sm==3.2.0) (0.4.1)\n",
            "Requirement already satisfied: cymem<2.1.0,>=2.0.2 in /usr/local/lib/python3.7/dist-packages (from spacy<3.3.0,>=3.2.0->en-core-web-sm==3.2.0) (2.0.6)\n",
            "Requirement already satisfied: langcodes<4.0.0,>=3.2.0 in /usr/local/lib/python3.7/dist-packages (from spacy<3.3.0,>=3.2.0->en-core-web-sm==3.2.0) (3.3.0)\n",
            "Requirement already satisfied: requests<3.0.0,>=2.13.0 in /usr/local/lib/python3.7/dist-packages (from spacy<3.3.0,>=3.2.0->en-core-web-sm==3.2.0) (2.23.0)\n",
            "Requirement already satisfied: srsly<3.0.0,>=2.4.1 in /usr/local/lib/python3.7/dist-packages (from spacy<3.3.0,>=3.2.0->en-core-web-sm==3.2.0) (2.4.2)\n",
            "Requirement already satisfied: murmurhash<1.1.0,>=0.28.0 in /usr/local/lib/python3.7/dist-packages (from spacy<3.3.0,>=3.2.0->en-core-web-sm==3.2.0) (1.0.6)\n",
            "Requirement already satisfied: wasabi<1.1.0,>=0.8.1 in /usr/local/lib/python3.7/dist-packages (from spacy<3.3.0,>=3.2.0->en-core-web-sm==3.2.0) (0.9.0)\n",
            "Requirement already satisfied: preshed<3.1.0,>=3.0.2 in /usr/local/lib/python3.7/dist-packages (from spacy<3.3.0,>=3.2.0->en-core-web-sm==3.2.0) (3.0.6)\n",
            "Requirement already satisfied: setuptools in /usr/local/lib/python3.7/dist-packages (from spacy<3.3.0,>=3.2.0->en-core-web-sm==3.2.0) (62.1.0)\n",
            "Requirement already satisfied: click<8.1.0 in /usr/local/lib/python3.7/dist-packages (from spacy<3.3.0,>=3.2.0->en-core-web-sm==3.2.0) (7.1.2)\n",
            "Requirement already satisfied: pydantic!=1.8,!=1.8.1,<1.9.0,>=1.7.4 in /usr/local/lib/python3.7/dist-packages (from spacy<3.3.0,>=3.2.0->en-core-web-sm==3.2.0) (1.8.2)\n",
            "Requirement already satisfied: thinc<8.1.0,>=8.0.12 in /usr/local/lib/python3.7/dist-packages (from spacy<3.3.0,>=3.2.0->en-core-web-sm==3.2.0) (8.0.15)\n",
            "Requirement already satisfied: spacy-loggers<2.0.0,>=1.0.0 in /usr/local/lib/python3.7/dist-packages (from spacy<3.3.0,>=3.2.0->en-core-web-sm==3.2.0) (1.0.2)\n",
            "Requirement already satisfied: jinja2 in /usr/local/lib/python3.7/dist-packages (from spacy<3.3.0,>=3.2.0->en-core-web-sm==3.2.0) (2.11.3)\n",
            "Requirement already satisfied: typer<0.5.0,>=0.3.0 in /usr/local/lib/python3.7/dist-packages (from spacy<3.3.0,>=3.2.0->en-core-web-sm==3.2.0) (0.4.1)\n",
            "Requirement already satisfied: typing-extensions<4.0.0.0,>=3.7.4 in /usr/local/lib/python3.7/dist-packages (from spacy<3.3.0,>=3.2.0->en-core-web-sm==3.2.0) (3.10.0.2)\n",
            "Requirement already satisfied: tqdm<5.0.0,>=4.38.0 in /usr/local/lib/python3.7/dist-packages (from spacy<3.3.0,>=3.2.0->en-core-web-sm==3.2.0) (4.63.0)\n",
            "Requirement already satisfied: numpy>=1.15.0 in /usr/local/lib/python3.7/dist-packages (from spacy<3.3.0,>=3.2.0->en-core-web-sm==3.2.0) (1.21.5)\n",
            "Requirement already satisfied: zipp>=0.5 in /usr/local/lib/python3.7/dist-packages (from catalogue<2.1.0,>=2.0.6->spacy<3.3.0,>=3.2.0->en-core-web-sm==3.2.0) (3.7.0)\n",
            "Requirement already satisfied: pyparsing!=3.0.5,>=2.0.2 in /usr/local/lib/python3.7/dist-packages (from packaging>=20.0->spacy<3.3.0,>=3.2.0->en-core-web-sm==3.2.0) (3.0.7)\n",
            "Requirement already satisfied: smart-open<6.0.0,>=5.0.0 in /usr/local/lib/python3.7/dist-packages (from pathy>=0.3.5->spacy<3.3.0,>=3.2.0->en-core-web-sm==3.2.0) (5.2.1)\n",
            "Requirement already satisfied: urllib3!=1.25.0,!=1.25.1,<1.26,>=1.21.1 in /usr/local/lib/python3.7/dist-packages (from requests<3.0.0,>=2.13.0->spacy<3.3.0,>=3.2.0->en-core-web-sm==3.2.0) (1.24.3)\n",
            "Requirement already satisfied: certifi>=2017.4.17 in /usr/local/lib/python3.7/dist-packages (from requests<3.0.0,>=2.13.0->spacy<3.3.0,>=3.2.0->en-core-web-sm==3.2.0) (2021.10.8)\n",
            "Requirement already satisfied: idna<3,>=2.5 in /usr/local/lib/python3.7/dist-packages (from requests<3.0.0,>=2.13.0->spacy<3.3.0,>=3.2.0->en-core-web-sm==3.2.0) (2.10)\n",
            "Requirement already satisfied: chardet<4,>=3.0.2 in /usr/local/lib/python3.7/dist-packages (from requests<3.0.0,>=2.13.0->spacy<3.3.0,>=3.2.0->en-core-web-sm==3.2.0) (3.0.4)\n",
            "Requirement already satisfied: MarkupSafe>=0.23 in /usr/local/lib/python3.7/dist-packages (from jinja2->spacy<3.3.0,>=3.2.0->en-core-web-sm==3.2.0) (2.0.1)\n",
            "\u001b[33mWARNING: Running pip as the 'root' user can result in broken permissions and conflicting behaviour with the system package manager. It is recommended to use a virtual environment instead: https://pip.pypa.io/warnings/venv\u001b[0m\u001b[33m\n",
            "\u001b[0m\u001b[38;5;2m✔ Download and installation successful\u001b[0m\n",
            "You can now load the package via spacy.load('en_core_web_sm')\n",
            "Collecting git+https://github.com/boudinfl/pke.git\n",
            "  Cloning https://github.com/boudinfl/pke.git to /tmp/pip-req-build-a4807ab7\n",
            "  Running command git clone --filter=blob:none --quiet https://github.com/boudinfl/pke.git /tmp/pip-req-build-a4807ab7\n",
            "  Resolved https://github.com/boudinfl/pke.git to commit 69337af9f9e72a25af6d7991eaa9869f1322dd72\n",
            "  Preparing metadata (setup.py) ... \u001b[?25l\u001b[?25hdone\n",
            "Requirement already satisfied: nltk in /usr/local/lib/python3.7/dist-packages (from pke==2.0.0) (3.2.5)\n",
            "Requirement already satisfied: networkx in /usr/local/lib/python3.7/dist-packages (from pke==2.0.0) (2.6.3)\n",
            "Requirement already satisfied: numpy in /usr/local/lib/python3.7/dist-packages (from pke==2.0.0) (1.21.5)\n",
            "Requirement already satisfied: scipy in /usr/local/lib/python3.7/dist-packages (from pke==2.0.0) (1.4.1)\n",
            "Requirement already satisfied: sklearn in /usr/local/lib/python3.7/dist-packages (from pke==2.0.0) (0.0)\n",
            "Requirement already satisfied: unidecode in /usr/local/lib/python3.7/dist-packages (from pke==2.0.0) (1.3.4)\n",
            "Requirement already satisfied: future in /usr/local/lib/python3.7/dist-packages (from pke==2.0.0) (0.16.0)\n",
            "Requirement already satisfied: joblib in /usr/local/lib/python3.7/dist-packages (from pke==2.0.0) (1.1.0)\n",
            "Requirement already satisfied: spacy>=3.2.3 in /usr/local/lib/python3.7/dist-packages (from pke==2.0.0) (3.2.4)\n",
            "Requirement already satisfied: preshed<3.1.0,>=3.0.2 in /usr/local/lib/python3.7/dist-packages (from spacy>=3.2.3->pke==2.0.0) (3.0.6)\n",
            "Requirement already satisfied: spacy-loggers<2.0.0,>=1.0.0 in /usr/local/lib/python3.7/dist-packages (from spacy>=3.2.3->pke==2.0.0) (1.0.2)\n",
            "Requirement already satisfied: setuptools in /usr/local/lib/python3.7/dist-packages (from spacy>=3.2.3->pke==2.0.0) (62.1.0)\n",
            "Requirement already satisfied: typing-extensions<4.0.0.0,>=3.7.4 in /usr/local/lib/python3.7/dist-packages (from spacy>=3.2.3->pke==2.0.0) (3.10.0.2)\n",
            "Requirement already satisfied: thinc<8.1.0,>=8.0.12 in /usr/local/lib/python3.7/dist-packages (from spacy>=3.2.3->pke==2.0.0) (8.0.15)\n",
            "Requirement already satisfied: pydantic!=1.8,!=1.8.1,<1.9.0,>=1.7.4 in /usr/local/lib/python3.7/dist-packages (from spacy>=3.2.3->pke==2.0.0) (1.8.2)\n",
            "Requirement already satisfied: langcodes<4.0.0,>=3.2.0 in /usr/local/lib/python3.7/dist-packages (from spacy>=3.2.3->pke==2.0.0) (3.3.0)\n",
            "Requirement already satisfied: wasabi<1.1.0,>=0.8.1 in /usr/local/lib/python3.7/dist-packages (from spacy>=3.2.3->pke==2.0.0) (0.9.0)\n",
            "Requirement already satisfied: catalogue<2.1.0,>=2.0.6 in /usr/local/lib/python3.7/dist-packages (from spacy>=3.2.3->pke==2.0.0) (2.0.7)\n",
            "Requirement already satisfied: click<8.1.0 in /usr/local/lib/python3.7/dist-packages (from spacy>=3.2.3->pke==2.0.0) (7.1.2)\n",
            "Requirement already satisfied: typer<0.5.0,>=0.3.0 in /usr/local/lib/python3.7/dist-packages (from spacy>=3.2.3->pke==2.0.0) (0.4.1)\n",
            "Requirement already satisfied: spacy-legacy<3.1.0,>=3.0.8 in /usr/local/lib/python3.7/dist-packages (from spacy>=3.2.3->pke==2.0.0) (3.0.9)\n",
            "Requirement already satisfied: murmurhash<1.1.0,>=0.28.0 in /usr/local/lib/python3.7/dist-packages (from spacy>=3.2.3->pke==2.0.0) (1.0.6)\n",
            "Requirement already satisfied: packaging>=20.0 in /usr/local/lib/python3.7/dist-packages (from spacy>=3.2.3->pke==2.0.0) (21.3)\n",
            "Requirement already satisfied: srsly<3.0.0,>=2.4.1 in /usr/local/lib/python3.7/dist-packages (from spacy>=3.2.3->pke==2.0.0) (2.4.2)\n",
            "Requirement already satisfied: pathy>=0.3.5 in /usr/local/lib/python3.7/dist-packages (from spacy>=3.2.3->pke==2.0.0) (0.6.1)\n",
            "Requirement already satisfied: cymem<2.1.0,>=2.0.2 in /usr/local/lib/python3.7/dist-packages (from spacy>=3.2.3->pke==2.0.0) (2.0.6)\n",
            "Requirement already satisfied: requests<3.0.0,>=2.13.0 in /usr/local/lib/python3.7/dist-packages (from spacy>=3.2.3->pke==2.0.0) (2.23.0)\n",
            "Requirement already satisfied: blis<0.8.0,>=0.4.0 in /usr/local/lib/python3.7/dist-packages (from spacy>=3.2.3->pke==2.0.0) (0.4.1)\n",
            "Requirement already satisfied: tqdm<5.0.0,>=4.38.0 in /usr/local/lib/python3.7/dist-packages (from spacy>=3.2.3->pke==2.0.0) (4.63.0)\n",
            "Requirement already satisfied: jinja2 in /usr/local/lib/python3.7/dist-packages (from spacy>=3.2.3->pke==2.0.0) (2.11.3)\n",
            "Requirement already satisfied: six in /usr/local/lib/python3.7/dist-packages (from nltk->pke==2.0.0) (1.15.0)\n",
            "Requirement already satisfied: scikit-learn in /usr/local/lib/python3.7/dist-packages (from sklearn->pke==2.0.0) (1.0.2)\n",
            "Requirement already satisfied: zipp>=0.5 in /usr/local/lib/python3.7/dist-packages (from catalogue<2.1.0,>=2.0.6->spacy>=3.2.3->pke==2.0.0) (3.7.0)\n",
            "Requirement already satisfied: pyparsing!=3.0.5,>=2.0.2 in /usr/local/lib/python3.7/dist-packages (from packaging>=20.0->spacy>=3.2.3->pke==2.0.0) (3.0.7)\n",
            "Requirement already satisfied: smart-open<6.0.0,>=5.0.0 in /usr/local/lib/python3.7/dist-packages (from pathy>=0.3.5->spacy>=3.2.3->pke==2.0.0) (5.2.1)\n",
            "Requirement already satisfied: urllib3!=1.25.0,!=1.25.1,<1.26,>=1.21.1 in /usr/local/lib/python3.7/dist-packages (from requests<3.0.0,>=2.13.0->spacy>=3.2.3->pke==2.0.0) (1.24.3)\n",
            "Requirement already satisfied: idna<3,>=2.5 in /usr/local/lib/python3.7/dist-packages (from requests<3.0.0,>=2.13.0->spacy>=3.2.3->pke==2.0.0) (2.10)\n",
            "Requirement already satisfied: certifi>=2017.4.17 in /usr/local/lib/python3.7/dist-packages (from requests<3.0.0,>=2.13.0->spacy>=3.2.3->pke==2.0.0) (2021.10.8)\n",
            "Requirement already satisfied: chardet<4,>=3.0.2 in /usr/local/lib/python3.7/dist-packages (from requests<3.0.0,>=2.13.0->spacy>=3.2.3->pke==2.0.0) (3.0.4)\n",
            "Requirement already satisfied: MarkupSafe>=0.23 in /usr/local/lib/python3.7/dist-packages (from jinja2->spacy>=3.2.3->pke==2.0.0) (2.0.1)\n",
            "Requirement already satisfied: threadpoolctl>=2.0.0 in /usr/local/lib/python3.7/dist-packages (from scikit-learn->sklearn->pke==2.0.0) (3.1.0)\n",
            "\u001b[33mWARNING: Running pip as the 'root' user can result in broken permissions and conflicting behaviour with the system package manager. It is recommended to use a virtual environment instead: https://pip.pypa.io/warnings/venv\u001b[0m\u001b[33m\n",
            "\u001b[0mRequirement already satisfied: matplotlib in /usr/local/lib/python3.7/dist-packages (3.2.2)\n",
            "Requirement already satisfied: cycler>=0.10 in /usr/local/lib/python3.7/dist-packages (from matplotlib) (0.11.0)\n",
            "Requirement already satisfied: pyparsing!=2.0.4,!=2.1.2,!=2.1.6,>=2.0.1 in /usr/local/lib/python3.7/dist-packages (from matplotlib) (3.0.7)\n",
            "Requirement already satisfied: kiwisolver>=1.0.1 in /usr/local/lib/python3.7/dist-packages (from matplotlib) (1.4.0)\n",
            "Requirement already satisfied: python-dateutil>=2.1 in /usr/local/lib/python3.7/dist-packages (from matplotlib) (2.8.2)\n",
            "Requirement already satisfied: numpy>=1.11 in /usr/local/lib/python3.7/dist-packages (from matplotlib) (1.21.5)\n",
            "Requirement already satisfied: typing-extensions in /usr/local/lib/python3.7/dist-packages (from kiwisolver>=1.0.1->matplotlib) (3.10.0.2)\n",
            "Requirement already satisfied: six>=1.5 in /usr/local/lib/python3.7/dist-packages (from python-dateutil>=2.1->matplotlib) (1.15.0)\n",
            "\u001b[33mWARNING: Running pip as the 'root' user can result in broken permissions and conflicting behaviour with the system package manager. It is recommended to use a virtual environment instead: https://pip.pypa.io/warnings/venv\u001b[0m\u001b[33m\n",
            "\u001b[0m"
          ]
        }
      ]
    },
    {
      "cell_type": "markdown",
      "source": [
        "# Importing the required libraries"
      ],
      "metadata": {
        "id": "9Jv6VnBdarcw"
      }
    },
    {
      "cell_type": "code",
      "source": [
        "import numpy as np\n",
        "import pandas as pd\n",
        "import pke\n",
        "import spacy\n",
        "spacy.load('en_core_web_sm')\n",
        "import string\n",
        "import nltk\n",
        "nltk.download(\"stopwords\")\n",
        "from nltk.corpus import stopwords\n"
      ],
      "metadata": {
        "id": "GuhfdGs7aeSh",
        "colab": {
          "base_uri": "https://localhost:8080/"
        },
        "outputId": "995361be-9d63-4d9b-8407-8ad21aff5cac"
      },
      "execution_count": null,
      "outputs": [
        {
          "output_type": "stream",
          "name": "stdout",
          "text": [
            "[nltk_data] Downloading package stopwords to /root/nltk_data...\n",
            "[nltk_data]   Package stopwords is already up-to-date!\n"
          ]
        }
      ]
    },
    {
      "cell_type": "markdown",
      "source": [
        "# **Initializing the dataset**"
      ],
      "metadata": {
        "id": "DHw7SO9BYJSK"
      }
    },
    {
      "cell_type": "code",
      "source": [
        "df1 = pd.read_csv(\"kdd_text.csv\")\n",
        "df2 = pd.read_csv(\"kdd_keys.csv\", sep = \"delimiter\")\n",
        "\n",
        "# Merge the two tables\n",
        "\n",
        "df1[\"Key\"] = df2\n",
        "df = df1\n",
        "\n",
        "#Display the dataset\n",
        "df.head()"
      ],
      "metadata": {
        "colab": {
          "base_uri": "https://localhost:8080/",
          "height": 261
        },
        "id": "PMdN2n_9SYIa",
        "outputId": "adda100b-baba-49d0-ab32-fd9c1c0137dc"
      },
      "execution_count": null,
      "outputs": [
        {
          "output_type": "stream",
          "name": "stderr",
          "text": [
            "/usr/local/lib/python3.7/dist-packages/pandas/util/_decorators.py:311: ParserWarning: Falling back to the 'python' engine because the 'c' engine does not support regex separators (separators > 1 char and different from '\\s+' are interpreted as regex); you can avoid this warning by specifying engine='python'.\n",
            "  return func(*args, **kwargs)\n"
          ]
        },
        {
          "output_type": "execute_result",
          "data": {
            "text/plain": [
              "                                                Text  \\\n",
              "0  Variable latent semantic indexing No contact i...   \n",
              "1  Entity discovery and assignment for opinion mi...   \n",
              "2  Stable feature selection via dense feature gro...   \n",
              "3  Consensus group stable feature selection Stabi...   \n",
              "4  COA: finding novel patents through text analys...   \n",
              "\n",
              "                                                 Key  \n",
              "0  linear algebra,lsi,matrix approximation,\"spars...  \n",
              "1                entity discovery,sentiment analysis  \n",
              "2  classification,feature selection,high-dimensio...  \n",
              "3  ensemble,feature selection,high-dimensional da...  \n",
              "4  document ranking,information retrieval,patent ...  "
            ],
            "text/html": [
              "\n",
              "  <div id=\"df-fe2ee820-4240-4948-97e3-a640408fdb9a\">\n",
              "    <div class=\"colab-df-container\">\n",
              "      <div>\n",
              "<style scoped>\n",
              "    .dataframe tbody tr th:only-of-type {\n",
              "        vertical-align: middle;\n",
              "    }\n",
              "\n",
              "    .dataframe tbody tr th {\n",
              "        vertical-align: top;\n",
              "    }\n",
              "\n",
              "    .dataframe thead th {\n",
              "        text-align: right;\n",
              "    }\n",
              "</style>\n",
              "<table border=\"1\" class=\"dataframe\">\n",
              "  <thead>\n",
              "    <tr style=\"text-align: right;\">\n",
              "      <th></th>\n",
              "      <th>Text</th>\n",
              "      <th>Key</th>\n",
              "    </tr>\n",
              "  </thead>\n",
              "  <tbody>\n",
              "    <tr>\n",
              "      <th>0</th>\n",
              "      <td>Variable latent semantic indexing No contact i...</td>\n",
              "      <td>linear algebra,lsi,matrix approximation,\"spars...</td>\n",
              "    </tr>\n",
              "    <tr>\n",
              "      <th>1</th>\n",
              "      <td>Entity discovery and assignment for opinion mi...</td>\n",
              "      <td>entity discovery,sentiment analysis</td>\n",
              "    </tr>\n",
              "    <tr>\n",
              "      <th>2</th>\n",
              "      <td>Stable feature selection via dense feature gro...</td>\n",
              "      <td>classification,feature selection,high-dimensio...</td>\n",
              "    </tr>\n",
              "    <tr>\n",
              "      <th>3</th>\n",
              "      <td>Consensus group stable feature selection Stabi...</td>\n",
              "      <td>ensemble,feature selection,high-dimensional da...</td>\n",
              "    </tr>\n",
              "    <tr>\n",
              "      <th>4</th>\n",
              "      <td>COA: finding novel patents through text analys...</td>\n",
              "      <td>document ranking,information retrieval,patent ...</td>\n",
              "    </tr>\n",
              "  </tbody>\n",
              "</table>\n",
              "</div>\n",
              "      <button class=\"colab-df-convert\" onclick=\"convertToInteractive('df-fe2ee820-4240-4948-97e3-a640408fdb9a')\"\n",
              "              title=\"Convert this dataframe to an interactive table.\"\n",
              "              style=\"display:none;\">\n",
              "        \n",
              "  <svg xmlns=\"http://www.w3.org/2000/svg\" height=\"24px\"viewBox=\"0 0 24 24\"\n",
              "       width=\"24px\">\n",
              "    <path d=\"M0 0h24v24H0V0z\" fill=\"none\"/>\n",
              "    <path d=\"M18.56 5.44l.94 2.06.94-2.06 2.06-.94-2.06-.94-.94-2.06-.94 2.06-2.06.94zm-11 1L8.5 8.5l.94-2.06 2.06-.94-2.06-.94L8.5 2.5l-.94 2.06-2.06.94zm10 10l.94 2.06.94-2.06 2.06-.94-2.06-.94-.94-2.06-.94 2.06-2.06.94z\"/><path d=\"M17.41 7.96l-1.37-1.37c-.4-.4-.92-.59-1.43-.59-.52 0-1.04.2-1.43.59L10.3 9.45l-7.72 7.72c-.78.78-.78 2.05 0 2.83L4 21.41c.39.39.9.59 1.41.59.51 0 1.02-.2 1.41-.59l7.78-7.78 2.81-2.81c.8-.78.8-2.07 0-2.86zM5.41 20L4 18.59l7.72-7.72 1.47 1.35L5.41 20z\"/>\n",
              "  </svg>\n",
              "      </button>\n",
              "      \n",
              "  <style>\n",
              "    .colab-df-container {\n",
              "      display:flex;\n",
              "      flex-wrap:wrap;\n",
              "      gap: 12px;\n",
              "    }\n",
              "\n",
              "    .colab-df-convert {\n",
              "      background-color: #E8F0FE;\n",
              "      border: none;\n",
              "      border-radius: 50%;\n",
              "      cursor: pointer;\n",
              "      display: none;\n",
              "      fill: #1967D2;\n",
              "      height: 32px;\n",
              "      padding: 0 0 0 0;\n",
              "      width: 32px;\n",
              "    }\n",
              "\n",
              "    .colab-df-convert:hover {\n",
              "      background-color: #E2EBFA;\n",
              "      box-shadow: 0px 1px 2px rgba(60, 64, 67, 0.3), 0px 1px 3px 1px rgba(60, 64, 67, 0.15);\n",
              "      fill: #174EA6;\n",
              "    }\n",
              "\n",
              "    [theme=dark] .colab-df-convert {\n",
              "      background-color: #3B4455;\n",
              "      fill: #D2E3FC;\n",
              "    }\n",
              "\n",
              "    [theme=dark] .colab-df-convert:hover {\n",
              "      background-color: #434B5C;\n",
              "      box-shadow: 0px 1px 3px 1px rgba(0, 0, 0, 0.15);\n",
              "      filter: drop-shadow(0px 1px 2px rgba(0, 0, 0, 0.3));\n",
              "      fill: #FFFFFF;\n",
              "    }\n",
              "  </style>\n",
              "\n",
              "      <script>\n",
              "        const buttonEl =\n",
              "          document.querySelector('#df-fe2ee820-4240-4948-97e3-a640408fdb9a button.colab-df-convert');\n",
              "        buttonEl.style.display =\n",
              "          google.colab.kernel.accessAllowed ? 'block' : 'none';\n",
              "\n",
              "        async function convertToInteractive(key) {\n",
              "          const element = document.querySelector('#df-fe2ee820-4240-4948-97e3-a640408fdb9a');\n",
              "          const dataTable =\n",
              "            await google.colab.kernel.invokeFunction('convertToInteractive',\n",
              "                                                     [key], {});\n",
              "          if (!dataTable) return;\n",
              "\n",
              "          const docLinkHtml = 'Like what you see? Visit the ' +\n",
              "            '<a target=\"_blank\" href=https://colab.research.google.com/notebooks/data_table.ipynb>data table notebook</a>'\n",
              "            + ' to learn more about interactive tables.';\n",
              "          element.innerHTML = '';\n",
              "          dataTable['output_type'] = 'display_data';\n",
              "          await google.colab.output.renderOutput(dataTable, element);\n",
              "          const docLink = document.createElement('div');\n",
              "          docLink.innerHTML = docLinkHtml;\n",
              "          element.appendChild(docLink);\n",
              "        }\n",
              "      </script>\n",
              "    </div>\n",
              "  </div>\n",
              "  "
            ]
          },
          "metadata": {},
          "execution_count": 33
        }
      ]
    },
    {
      "cell_type": "markdown",
      "source": [
        "# Implementation of the algorithms:"
      ],
      "metadata": {
        "id": "4lVA4QgjbWDj"
      }
    },
    {
      "cell_type": "markdown",
      "source": [
        "# **Unsupervised**"
      ],
      "metadata": {
        "id": "OkujGEKebbvq"
      }
    },
    {
      "cell_type": "markdown",
      "source": [
        "## **Statistical Methods**"
      ],
      "metadata": {
        "id": "lQ3fFg8ybrDb"
      }
    },
    {
      "cell_type": "markdown",
      "source": [
        "### **TF-IDF algorithm**"
      ],
      "metadata": {
        "id": "_lBHmuBBcc1B"
      }
    },
    {
      "cell_type": "code",
      "source": [
        "# 1. create a TfIdf extractor.\n",
        "extractor = pke.unsupervised.TfIdf()\n",
        "keywords_tfidf = []\n",
        "for index, row in df.iterrows():\n",
        "  \n",
        "  # 2. load the content of the document.\n",
        "  extractor.load_document(input = row[\"Text\"],\n",
        "                          language='en',\n",
        "                          normalization=None)\n",
        "\n",
        "  # 3. select {1-3}-grams not containing punctuation marks as candidates.\n",
        "  extractor.candidate_selection()\n",
        "\n",
        "  # 4. weight the candidates using a `tf` x `idf`\n",
        "  df = pke.load_document_frequency_file(input_file = \"df-semeval2010.tsv.gz\")\n",
        "  extractor.candidate_weighting(df=df)\n",
        "\n",
        "  # 5. get the 3-highest scored candidates as keyphrases\n",
        "  keyphrases = extractor.get_n_best(n=3)\n",
        "  keywords_tfidf.append(keyphrases)\n"
      ],
      "metadata": {
        "id": "PB1SEMrgaQX0"
      },
      "execution_count": null,
      "outputs": []
    },
    {
      "cell_type": "code",
      "source": [
        "with open(\"key_kdd_tfidf.txt\", \"w\") as external_file:\n",
        "  for keyphrase in keywords_tfidf:   \n",
        "    print(keyphrase, file=external_file)\n",
        "  external_file.close()"
      ],
      "metadata": {
        "id": "_EqPNXrBao3-"
      },
      "execution_count": null,
      "outputs": []
    },
    {
      "cell_type": "markdown",
      "source": [
        "### **KP-Miner algorithm**"
      ],
      "metadata": {
        "id": "Y8X-rnIoeIl9"
      }
    },
    {
      "cell_type": "code",
      "source": [
        "# 1. create a KPMiner extractor.\n",
        "extractor = pke.unsupervised.KPMiner()\n",
        "keywords_kpminer = []\n",
        "for index, row in df.iterrows():\n",
        "# 2. load the content of the document.\n",
        "  extractor.load_document(input=row[\"Text\"],\n",
        "                        language='en',\n",
        "                        normalization=None)\n",
        "\n",
        "\n",
        "# 3. select {1-5}-grams that do not contain punctuation marks or\n",
        "#    stopwords as keyphrase candidates. Set the least allowable seen\n",
        "#    frequency to 5 and the number of words after which candidates are\n",
        "#    filtered out to 200.\n",
        "\n",
        "  extractor.candidate_selection(lasf=1, cutoff=400)\n",
        "\n",
        "# 4. weight the candidates using KPMiner weighting function.\n",
        "  df = pke.load_document_frequency_file(input_file='df-semeval2010.tsv.gz')\n",
        "  alpha = 2.3\n",
        "  sigma = 3.0\n",
        "  extractor.candidate_weighting(df=df, alpha=alpha, sigma=sigma)\n",
        "\n",
        "# 5. get the 3-highest scored candidates as keyphrases\n",
        "  keyphrases = extractor.get_n_best(n=3)\n",
        "  keywords_kpminer.append(keyphrases)\n"
      ],
      "metadata": {
        "id": "jXLEahgSeZcF"
      },
      "execution_count": null,
      "outputs": []
    },
    {
      "cell_type": "code",
      "source": [
        "with open(\"key_kdd_KPMiner.txt\", \"w\") as external_file:\n",
        "  for keyphrase in keywords_kpminer:   \n",
        "    print(keyphrase, file=external_file)\n",
        "  external_file.close()"
      ],
      "metadata": {
        "id": "yB5KJ5VIJm1o"
      },
      "execution_count": null,
      "outputs": []
    },
    {
      "cell_type": "markdown",
      "source": [
        "## **Graph-Based Methods**"
      ],
      "metadata": {
        "id": "KkG9jWUUh3Vo"
      }
    },
    {
      "cell_type": "markdown",
      "source": [
        "### **Text Rank algorithm**"
      ],
      "metadata": {
        "id": "cNKdEuNniKEF"
      }
    },
    {
      "cell_type": "code",
      "source": [
        "# define the set of valid Part-of-Speeches\n",
        "pos = {'NOUN', 'PROPN', 'ADJ'}\n",
        "\n",
        "# 1. create a TextRank extractor.\n",
        "extractor = pke.unsupervised.TextRank()\n",
        "\n",
        "keywords_textrank = []\n",
        "for index, row in df.iterrows():\n",
        "\n",
        "  # 2. load the content of the document.\n",
        "  extractor.load_document(input=row[\"Text\"],\n",
        "                          language='en',\n",
        "                          normalization=None)\n",
        "\n",
        "  # 3. build the graph representation of the document and rank the words.\n",
        "  #    Keyphrase candidates are composed from the 33-percent\n",
        "  #    highest-ranked words.\n",
        "  extractor.candidate_weighting(window=2,\n",
        "                                pos=pos,\n",
        "                                top_percent=0.33)\n",
        "\n",
        "  # 4. get the 3-highest scored candidates as keyphrases\n",
        "  keyphrases = extractor.get_n_best(n=3)\n",
        "  keywords_textrank.append(keyphrases)\n"
      ],
      "metadata": {
        "id": "CfOKDe_WiaQz"
      },
      "execution_count": null,
      "outputs": []
    },
    {
      "cell_type": "code",
      "source": [
        "with open(\"key_kdd_textrank.txt\", \"w\") as external_file:\n",
        "  for keyphrase in keywords_textrank:   \n",
        "    print(keyphrase, file=external_file)\n",
        "  external_file.close()"
      ],
      "metadata": {
        "id": "IhgQJuuka5tA"
      },
      "execution_count": null,
      "outputs": []
    },
    {
      "cell_type": "markdown",
      "source": [
        "### **Single Rank algorithm**"
      ],
      "metadata": {
        "id": "16loOd75jhi9"
      }
    },
    {
      "cell_type": "code",
      "source": [
        "# define the set of valid Part-of-Speeches\n",
        "pos = {'NOUN', 'PROPN', 'ADJ'}\n",
        "\n",
        "# 1. create a SingleRank extractor.\n",
        "extractor = pke.unsupervised.SingleRank()\n",
        "\n",
        "keywords_singlerank = []\n",
        "for index, row in df.iterrows():\n",
        "  # 2. load the content of the document.\n",
        "  extractor.load_document(input = row[\"Text\"],\n",
        "                          language='en',\n",
        "                          normalization=None)\n",
        "\n",
        "  # 3. select the longest sequences of nouns and adjectives as candidates.\n",
        "  extractor.candidate_selection(pos=pos)\n",
        "\n",
        "  # 4. weight the candidates using the sum of their word's scores that are\n",
        "  #    computed using random walk. In the graph, nodes are words of\n",
        "  #    certain part-of-speech (nouns and adjectives) that are connected if\n",
        "  #    they occur in a window of 10 words.\n",
        "  extractor.candidate_weighting(window=10,\n",
        "                                pos=pos)\n",
        "\n",
        "  # 5. get the 3-highest scored candidates as keyphrases\n",
        "  keyphrases = extractor.get_n_best(n=3)\n",
        "  keywords_singlerank.append(keyphrases)\n"
      ],
      "metadata": {
        "id": "acU3eyQLjmhb"
      },
      "execution_count": null,
      "outputs": []
    },
    {
      "cell_type": "code",
      "source": [
        "with open(\"key_kdd_singlerank.txt\", \"w\") as external_file:\n",
        "  for keyphrase in keywords_singlerank:   \n",
        "    print(keyphrase, file=external_file)\n",
        "  external_file.close()"
      ],
      "metadata": {
        "id": "c4v-b-JFJ38y"
      },
      "execution_count": null,
      "outputs": []
    },
    {
      "cell_type": "markdown",
      "source": [
        "### **Topic Rank algorithm**"
      ],
      "metadata": {
        "id": "zX-or1wsmjI-"
      }
    },
    {
      "cell_type": "code",
      "source": [
        "# 1. create a TopicRank extractor.\n",
        "extractor = pke.unsupervised.TopicRank()\n",
        "\n",
        "keywords_topicrank = []\n",
        "\n",
        "for index, row in df.iterrows():\n",
        "  # 2. load the content of the document.\n",
        "  extractor.load_document(input = row[\"Text\"])\n",
        "\n",
        "  # 3. select the longest sequences of nouns and adjectives, that do\n",
        "  #    not contain punctuation marks or stopwords as candidates.\n",
        "  pos = {'NOUN', 'PROPN', 'ADJ'}\n",
        "  stoplist = list(string.punctuation)\n",
        "  stoplist += ['-lrb-', '-rrb-', '-lcb-', '-rcb-', '-lsb-', '-rsb-']\n",
        "  stoplist += stopwords.words('english')\n",
        "  extractor.candidate_selection(pos=pos)\n",
        "\n",
        "  # 4. build topics by grouping candidates with HAC (average linkage,\n",
        "  #    threshold of 1/4 of shared stems). Weight the topics using random\n",
        "  #    walk, and select the first occuring candidate from each topic.\n",
        "  extractor.candidate_weighting(threshold=0.74, method='average')\n",
        "\n",
        "  # 5. get the 3-highest scored candidates as keyphrases\n",
        "  keyphrases = extractor.get_n_best(n=3)\n",
        "  keywords_topicrank.append(keyphrases)\n"
      ],
      "metadata": {
        "id": "LMsg7Iz1nB4b"
      },
      "execution_count": null,
      "outputs": []
    },
    {
      "cell_type": "code",
      "source": [
        "with open(\"key_kdd_topicrank.txt\", \"w\") as external_file:\n",
        "  for keyphrase in keywords_topicrank:   \n",
        "    print(keyphrase, file=external_file)\n",
        "  external_file.close()"
      ],
      "metadata": {
        "id": "SQQEfmuYJ-7J"
      },
      "execution_count": null,
      "outputs": []
    },
    {
      "cell_type": "markdown",
      "source": [
        "### **Position Rank algorithm**"
      ],
      "metadata": {
        "id": "mQYVJKWGpRBr"
      }
    },
    {
      "cell_type": "code",
      "source": [
        "# define the valid Part-of-Speeches to occur in the graph\n",
        "pos = {'NOUN', 'PROPN', 'ADJ'}\n",
        "\n",
        "# define the grammar for selecting the keyphrase candidates\n",
        "grammar = \"NP: {<ADJ>*<NOUN|PROPN>+}\"\n",
        "extractor = pke.unsupervised.PositionRank()\n",
        "keywords_positionrank = []\n",
        "for index, row in df.iterrows():\n",
        "# 1. create a PositionRank extractor.\n",
        "\n",
        "# 2. load the content of the document.\n",
        "  extractor.load_document(input=row[\"Text\"],\n",
        "                        language='en',\n",
        "                        normalization=None)\n",
        "\n",
        "# 3. select the noun phrases up to 3 words as keyphrase candidates.\n",
        "  extractor.candidate_selection(grammar=grammar,\n",
        "                              maximum_word_number=3)\n",
        "\n",
        "# 4. weight the candidates using the sum of their word's scores that are\n",
        "#    computed using random walk biaised with the position of the words\n",
        "#    in the document. In the graph, nodes are words (nouns and\n",
        "#    adjectives only) that are connected if they occur in a window of\n",
        "#    10 words.\n",
        "  extractor.candidate_weighting(window=10,\n",
        "                              pos=pos)\n",
        "\n",
        "# 5. get the 3-highest scored candidates as keyphrases\n",
        "  keyphrases = extractor.get_n_best(n=3)\n",
        "  keywords_positionrank.append(keyphrases)\n"
      ],
      "metadata": {
        "id": "7iOLqr3XpYS0"
      },
      "execution_count": null,
      "outputs": []
    },
    {
      "cell_type": "code",
      "source": [
        "with open(\"key_kdd_positionrank.txt\", \"w\") as external_file:\n",
        "  for keyphrase in keywords_positionrank:   \n",
        "    print(keyphrase, file=external_file)\n",
        "  external_file.close()"
      ],
      "metadata": {
        "id": "mQSGbD6VKHH5"
      },
      "execution_count": null,
      "outputs": []
    },
    {
      "cell_type": "markdown",
      "source": [
        "# **Supervised**"
      ],
      "metadata": {
        "id": "9slwquBXqbxc"
      }
    },
    {
      "cell_type": "markdown",
      "source": [
        "## **Binary**"
      ],
      "metadata": {
        "id": "AcsJKe_IrBNJ"
      }
    },
    {
      "cell_type": "markdown",
      "source": [
        "### **KEA algorithm**"
      ],
      "metadata": {
        "id": "-v6QktWgrKye"
      }
    },
    {
      "cell_type": "code",
      "source": [
        "# define a list of stopwords\n",
        "stoplist = stopwords.words('english')\n",
        "\n",
        "# 1. create a Kea extractor.\n",
        "extractor = pke.supervised.Kea()\n",
        "keywords_kea = []\n",
        "for index, row in df.iterrows():\n",
        "# 2. load the content of the document.\n",
        "  extractor.load_document(input=row[\"Text\"],\n",
        "                        language='en',\n",
        "                        normalization=None)\n",
        "\n",
        "# 3. select 1-3 grams that do not start or end with a stopword as\n",
        "#    candidates. Candidates that contain punctuation marks as words\n",
        "#    are discarded.\n",
        "  extractor.candidate_selection()\n",
        "\n",
        "# 4. classify candidates as keyphrase or not keyphrase.\n",
        "  df = pke.load_document_frequency_file(input_file='df-semeval2010.tsv.gz')\n",
        "  model_file = 'Kea-semeval2010.py3.pickle'\n",
        "  extractor.candidate_weighting(model_file=model_file,\n",
        "                              df=df)\n",
        "\n",
        "# 5. get the 3-highest scored candidates as keyphrases\n",
        "  keyphrases = extractor.get_n_best(n=3)\n",
        "  keywords_kea.append(keyphrases)\n"
      ],
      "metadata": {
        "id": "Y2GyMbYQrIIU"
      },
      "execution_count": null,
      "outputs": []
    },
    {
      "cell_type": "code",
      "source": [
        "with open(\"key_kdd_kea.txt\", \"w\") as external_file:\n",
        "  for keyphrase in keywords_kea:   \n",
        "    print(keyphrase, file=external_file)\n",
        "  external_file.close()"
      ],
      "metadata": {
        "id": "dXEIgfVyKUCM"
      },
      "execution_count": null,
      "outputs": []
    },
    {
      "cell_type": "markdown",
      "source": [
        "# **YAKE! algorithm**"
      ],
      "metadata": {
        "id": "d6Y4EiKjr0ek"
      }
    },
    {
      "cell_type": "code",
      "source": [
        "# 1. create a YAKE extractor.\n",
        "extractor = pke.unsupervised.YAKE()\n",
        "\n",
        "keywords_yake = []\n",
        "for index, row in df.iterrows():\n",
        "# 2. load the content of the document.\n",
        "\n",
        "  extractor.load_document(input=row[\"Text\"],language='en')\n",
        "\n",
        "\n",
        "# 3. select {1-3}-grams not containing punctuation marks and not\n",
        "#    beginning/ending with a stopword as candidates.\n",
        "  stoplist = stopwords.words('english')\n",
        "  extractor.candidate_selection(n=3)\n",
        "\n",
        "# 4. weight the candidates using YAKE weighting scheme, a window (in\n",
        "#    words) for computing left/right contexts can be specified.\n",
        "  window = 2\n",
        "  use_stems = False # use stems instead of words for weighting\n",
        "  extractor.candidate_weighting(window=2)\n",
        "\n",
        "# 5. get the 3-highest scored candidates as keyphrases.\n",
        "#    redundant keyphrases are removed from the output using levenshtein\n",
        "#    distance and a threshold.\n",
        "  threshold = 0.8\n",
        "  keyphrases = extractor.get_n_best(n=3, threshold=threshold)\n",
        "  keywords_yake.append(keyphrases)\n",
        "\n"
      ],
      "metadata": {
        "id": "jgemcNzzsCwM"
      },
      "execution_count": null,
      "outputs": []
    },
    {
      "cell_type": "code",
      "source": [
        "with open(\"key_kdd_yake.txt\", \"w\") as external_file:\n",
        "  for keyphrase in keywords_yake:   \n",
        "    print(keyphrase, file=external_file)\n",
        "  external_file.close()"
      ],
      "metadata": {
        "id": "7nl7HtBRKYl0"
      },
      "execution_count": null,
      "outputs": []
    },
    {
      "cell_type": "markdown",
      "source": [
        "# Data Preprocessing"
      ],
      "metadata": {
        "id": "QVZeb-mKFVLu"
      }
    },
    {
      "cell_type": "code",
      "source": [
        "import re"
      ],
      "metadata": {
        "id": "kjDOmxBFy8_Z"
      },
      "execution_count": null,
      "outputs": []
    },
    {
      "cell_type": "code",
      "source": [
        "list=[\"kdd_KPMiner.txt\",\"kdd_positionrank.txt\",\"kdd_yake.txt\",\"kdd_kea.txt\",\"kdd_tfidf.txt\",\"kdd_topicrank.txt\",\"kdd_textrank.txt\",\"kdd_singlerank.txt\"]\n",
        "for file in list:\n",
        "  with open(f'{file}', 'r') as infile,open(f'key_{file}', 'w') as outfile:\n",
        "      data = infile.read()\n",
        "      data = re.sub(r\"[0-9]\", \"\", data)\n",
        "      data = data.replace(\"(\", \"\").replace(\"),\", \"\").replace(\".\",\"\").replace(\"'\",\"\").replace(\"  \",\" \").replace(\"[\",\"\").replace(\"]\",\"\").replace(\", )\",\"\")\n",
        "      outfile.write(data)"
      ],
      "metadata": {
        "id": "ZKfnYbalSgds"
      },
      "execution_count": null,
      "outputs": []
    },
    {
      "cell_type": "code",
      "source": [
        "import pandas as pd\n",
        "df1 = pd.read_csv(\"kdd_text.csv\")\n",
        "df2 = pd.read_csv(\"kdd_keys.csv\", sep = \"delimiter\")\n",
        "df3=pd.read_csv(\"key_kdd_tfidf.txt\",sep = \"delimiter\", header=None)\n",
        "df4=pd.read_csv(\"key_kdd_textrank.txt\",sep = \"delimiter\", header=None)\n",
        "df5=pd.read_csv(\"key_kdd_topicrank.txt\",sep = \"delimiter\", header=None)\n",
        "df6=pd.read_csv(\"key_kdd_singlerank.txt\",sep = \"delimiter\", header=None)\n",
        "df7=pd.read_csv(\"key_kdd_positionrank.txt\",sep = \"delimiter\", header=None)\n",
        "df8=pd.read_csv(\"key_kdd_kea.txt\",sep = \"delimiter\", header=None)\n",
        "df9=pd.read_csv(\"key_kdd_KPMiner.txt\",sep = \"delimiter\", header=None)\n",
        "df10=pd.read_csv(\"key_kdd_yake.txt\",sep = \"delimiter\", header=None)\n",
        "# Merge all the tables\n",
        "\n",
        "df1[\"Key\"] = df2\n",
        "df1[\"key_tfidf\"]=df3\n",
        "df1[\"key_textrank\"]=df4\n",
        "df1[\"key_topicrank\"]=df5\n",
        "df1[\"key_singlerank\"]=df6\n",
        "df1[\"key_positionrank\"]=df7\n",
        "df1[\"key_kea\"]=df8\n",
        "df1[\"key_KPMiner\"]=df9\n",
        "df1[\"key_yake\"]=df10\n",
        "df = df1\n",
        "\n",
        "#Display the dataset\n",
        "df.head()"
      ],
      "metadata": {
        "colab": {
          "base_uri": "https://localhost:8080/",
          "height": 756
        },
        "id": "QFMbs1iLSkRW",
        "outputId": "cc624d9b-90ad-48c8-89bb-f60f0328ad8f"
      },
      "execution_count": null,
      "outputs": [
        {
          "output_type": "stream",
          "name": "stderr",
          "text": [
            "/usr/local/lib/python3.7/dist-packages/pandas/util/_decorators.py:311: ParserWarning: Falling back to the 'python' engine because the 'c' engine does not support regex separators (separators > 1 char and different from '\\s+' are interpreted as regex); you can avoid this warning by specifying engine='python'.\n",
            "  return func(*args, **kwargs)\n"
          ]
        },
        {
          "output_type": "execute_result",
          "data": {
            "text/plain": [
              "                                                Text  \\\n",
              "0  Variable latent semantic indexing No contact i...   \n",
              "1  Entity discovery and assignment for opinion mi...   \n",
              "2  Stable feature selection via dense feature gro...   \n",
              "3  Consensus group stable feature selection Stabi...   \n",
              "4  COA: finding novel patents through text analys...   \n",
              "\n",
              "                                                 Key  \\\n",
              "0  linear algebra,lsi,matrix approximation,\"spars...   \n",
              "1                entity discovery,sentiment analysis   \n",
              "2  classification,feature selection,high-dimensio...   \n",
              "3  ensemble,feature selection,high-dimensional da...   \n",
              "4  document ranking,information retrieval,patent ...   \n",
              "\n",
              "                                           key_tfidf  \\\n",
              "0  variable, variable latent, variable latent sem...   \n",
              "1                 opinion mining, mining, assignment   \n",
              "2              feature, feature selection, selection   \n",
              "3              feature, feature selection, selection   \n",
              "4                        coa, finding, finding novel   \n",
              "\n",
              "                                        key_textrank  \\\n",
              "0                                             latent   \n",
              "1  recent years, important topic, entity discover...   \n",
              "2                  feature groups, feature selection   \n",
              "3                    group stable, sample, selection   \n",
              "4                                      novel patents   \n",
              "\n",
              "                                       key_topicrank  \\\n",
              "0  contact information, variable latent semantic ...   \n",
              "1  opinion mining applications opinion mining, as...   \n",
              "2  classification accuracy, past, selection algor...   \n",
              "3  feature selection, high-dimensional, under-add...   \n",
              "4    text analysis, novel patents, recent years, coa   \n",
              "\n",
              "                                      key_singlerank  \\\n",
              "0  variable latent semantic indexing, contact inf...   \n",
              "1  opinion mining applications opinion mining, op...   \n",
              "2  dense feature groups many, stable feature sele...   \n",
              "3  consensus group stable feature selection stabi...   \n",
              "4    text analysis, novel patents, recent years, coa   \n",
              "\n",
              "                                    key_positionrank  \\\n",
              "0                                contact information   \n",
              "1  opinion mining services, entity discovery, app...   \n",
              "2  stable feature selection, dense feature groups...   \n",
              "3  feature selection, consensus group, under-addr...   \n",
              "4    novel patents, text analysis, recent years, coa   \n",
              "\n",
              "                                             key_kea  \\\n",
              "0  variable, variable latent, variable latent sem...   \n",
              "1  opinion mining, mining, assignment, applicatio...   \n",
              "2  feature, feature selection, selection, stable,...   \n",
              "3  feature, feature selection, selection, consens...   \n",
              "4  coa, finding, finding novel, finding novel pat...   \n",
              "\n",
              "                                         key_KPMiner  \\\n",
              "0  variable, semantic, indexing, information, pro...   \n",
              "1  mining, opinion mining, assignment, applicatio...   \n",
              "2  feature, selection, feature selection, stable,...   \n",
              "3  feature, selection, feature selection, consens...   \n",
              "4  finding novel, finding novel patents, novel pa...   \n",
              "\n",
              "                                            key_yake  \n",
              "0  variable latent semantic, latent semantic inde...  \n",
              "1  entity discovery, opinion mining applications,...  \n",
              "2  improving classification accuracy, stable feat...  \n",
              "3  feature selection stability, consensus group s...  \n",
              "4  finding novel patents, coa, finding novel, rec...  "
            ],
            "text/html": [
              "\n",
              "  <div id=\"df-19bf7158-3ec5-4f96-90bc-03c4b22ffa6f\">\n",
              "    <div class=\"colab-df-container\">\n",
              "      <div>\n",
              "<style scoped>\n",
              "    .dataframe tbody tr th:only-of-type {\n",
              "        vertical-align: middle;\n",
              "    }\n",
              "\n",
              "    .dataframe tbody tr th {\n",
              "        vertical-align: top;\n",
              "    }\n",
              "\n",
              "    .dataframe thead th {\n",
              "        text-align: right;\n",
              "    }\n",
              "</style>\n",
              "<table border=\"1\" class=\"dataframe\">\n",
              "  <thead>\n",
              "    <tr style=\"text-align: right;\">\n",
              "      <th></th>\n",
              "      <th>Text</th>\n",
              "      <th>Key</th>\n",
              "      <th>key_tfidf</th>\n",
              "      <th>key_textrank</th>\n",
              "      <th>key_topicrank</th>\n",
              "      <th>key_singlerank</th>\n",
              "      <th>key_positionrank</th>\n",
              "      <th>key_kea</th>\n",
              "      <th>key_KPMiner</th>\n",
              "      <th>key_yake</th>\n",
              "    </tr>\n",
              "  </thead>\n",
              "  <tbody>\n",
              "    <tr>\n",
              "      <th>0</th>\n",
              "      <td>Variable latent semantic indexing No contact i...</td>\n",
              "      <td>linear algebra,lsi,matrix approximation,\"spars...</td>\n",
              "      <td>variable, variable latent, variable latent sem...</td>\n",
              "      <td>latent</td>\n",
              "      <td>contact information, variable latent semantic ...</td>\n",
              "      <td>variable latent semantic indexing, contact inf...</td>\n",
              "      <td>contact information</td>\n",
              "      <td>variable, variable latent, variable latent sem...</td>\n",
              "      <td>variable, semantic, indexing, information, pro...</td>\n",
              "      <td>variable latent semantic, latent semantic inde...</td>\n",
              "    </tr>\n",
              "    <tr>\n",
              "      <th>1</th>\n",
              "      <td>Entity discovery and assignment for opinion mi...</td>\n",
              "      <td>entity discovery,sentiment analysis</td>\n",
              "      <td>opinion mining, mining, assignment</td>\n",
              "      <td>recent years, important topic, entity discover...</td>\n",
              "      <td>opinion mining applications opinion mining, as...</td>\n",
              "      <td>opinion mining applications opinion mining, op...</td>\n",
              "      <td>opinion mining services, entity discovery, app...</td>\n",
              "      <td>opinion mining, mining, assignment, applicatio...</td>\n",
              "      <td>mining, opinion mining, assignment, applicatio...</td>\n",
              "      <td>entity discovery, opinion mining applications,...</td>\n",
              "    </tr>\n",
              "    <tr>\n",
              "      <th>2</th>\n",
              "      <td>Stable feature selection via dense feature gro...</td>\n",
              "      <td>classification,feature selection,high-dimensio...</td>\n",
              "      <td>feature, feature selection, selection</td>\n",
              "      <td>feature groups, feature selection</td>\n",
              "      <td>classification accuracy, past, selection algor...</td>\n",
              "      <td>dense feature groups many, stable feature sele...</td>\n",
              "      <td>stable feature selection, dense feature groups...</td>\n",
              "      <td>feature, feature selection, selection, stable,...</td>\n",
              "      <td>feature, selection, feature selection, stable,...</td>\n",
              "      <td>improving classification accuracy, stable feat...</td>\n",
              "    </tr>\n",
              "    <tr>\n",
              "      <th>3</th>\n",
              "      <td>Consensus group stable feature selection Stabi...</td>\n",
              "      <td>ensemble,feature selection,high-dimensional da...</td>\n",
              "      <td>feature, feature selection, selection</td>\n",
              "      <td>group stable, sample, selection</td>\n",
              "      <td>feature selection, high-dimensional, under-add...</td>\n",
              "      <td>consensus group stable feature selection stabi...</td>\n",
              "      <td>feature selection, consensus group, under-addr...</td>\n",
              "      <td>feature, feature selection, selection, consens...</td>\n",
              "      <td>feature, selection, feature selection, consens...</td>\n",
              "      <td>feature selection stability, consensus group s...</td>\n",
              "    </tr>\n",
              "    <tr>\n",
              "      <th>4</th>\n",
              "      <td>COA: finding novel patents through text analys...</td>\n",
              "      <td>document ranking,information retrieval,patent ...</td>\n",
              "      <td>coa, finding, finding novel</td>\n",
              "      <td>novel patents</td>\n",
              "      <td>text analysis, novel patents, recent years, coa</td>\n",
              "      <td>text analysis, novel patents, recent years, coa</td>\n",
              "      <td>novel patents, text analysis, recent years, coa</td>\n",
              "      <td>coa, finding, finding novel, finding novel pat...</td>\n",
              "      <td>finding novel, finding novel patents, novel pa...</td>\n",
              "      <td>finding novel patents, coa, finding novel, rec...</td>\n",
              "    </tr>\n",
              "  </tbody>\n",
              "</table>\n",
              "</div>\n",
              "      <button class=\"colab-df-convert\" onclick=\"convertToInteractive('df-19bf7158-3ec5-4f96-90bc-03c4b22ffa6f')\"\n",
              "              title=\"Convert this dataframe to an interactive table.\"\n",
              "              style=\"display:none;\">\n",
              "        \n",
              "  <svg xmlns=\"http://www.w3.org/2000/svg\" height=\"24px\"viewBox=\"0 0 24 24\"\n",
              "       width=\"24px\">\n",
              "    <path d=\"M0 0h24v24H0V0z\" fill=\"none\"/>\n",
              "    <path d=\"M18.56 5.44l.94 2.06.94-2.06 2.06-.94-2.06-.94-.94-2.06-.94 2.06-2.06.94zm-11 1L8.5 8.5l.94-2.06 2.06-.94-2.06-.94L8.5 2.5l-.94 2.06-2.06.94zm10 10l.94 2.06.94-2.06 2.06-.94-2.06-.94-.94-2.06-.94 2.06-2.06.94z\"/><path d=\"M17.41 7.96l-1.37-1.37c-.4-.4-.92-.59-1.43-.59-.52 0-1.04.2-1.43.59L10.3 9.45l-7.72 7.72c-.78.78-.78 2.05 0 2.83L4 21.41c.39.39.9.59 1.41.59.51 0 1.02-.2 1.41-.59l7.78-7.78 2.81-2.81c.8-.78.8-2.07 0-2.86zM5.41 20L4 18.59l7.72-7.72 1.47 1.35L5.41 20z\"/>\n",
              "  </svg>\n",
              "      </button>\n",
              "      \n",
              "  <style>\n",
              "    .colab-df-container {\n",
              "      display:flex;\n",
              "      flex-wrap:wrap;\n",
              "      gap: 12px;\n",
              "    }\n",
              "\n",
              "    .colab-df-convert {\n",
              "      background-color: #E8F0FE;\n",
              "      border: none;\n",
              "      border-radius: 50%;\n",
              "      cursor: pointer;\n",
              "      display: none;\n",
              "      fill: #1967D2;\n",
              "      height: 32px;\n",
              "      padding: 0 0 0 0;\n",
              "      width: 32px;\n",
              "    }\n",
              "\n",
              "    .colab-df-convert:hover {\n",
              "      background-color: #E2EBFA;\n",
              "      box-shadow: 0px 1px 2px rgba(60, 64, 67, 0.3), 0px 1px 3px 1px rgba(60, 64, 67, 0.15);\n",
              "      fill: #174EA6;\n",
              "    }\n",
              "\n",
              "    [theme=dark] .colab-df-convert {\n",
              "      background-color: #3B4455;\n",
              "      fill: #D2E3FC;\n",
              "    }\n",
              "\n",
              "    [theme=dark] .colab-df-convert:hover {\n",
              "      background-color: #434B5C;\n",
              "      box-shadow: 0px 1px 3px 1px rgba(0, 0, 0, 0.15);\n",
              "      filter: drop-shadow(0px 1px 2px rgba(0, 0, 0, 0.3));\n",
              "      fill: #FFFFFF;\n",
              "    }\n",
              "  </style>\n",
              "\n",
              "      <script>\n",
              "        const buttonEl =\n",
              "          document.querySelector('#df-19bf7158-3ec5-4f96-90bc-03c4b22ffa6f button.colab-df-convert');\n",
              "        buttonEl.style.display =\n",
              "          google.colab.kernel.accessAllowed ? 'block' : 'none';\n",
              "\n",
              "        async function convertToInteractive(key) {\n",
              "          const element = document.querySelector('#df-19bf7158-3ec5-4f96-90bc-03c4b22ffa6f');\n",
              "          const dataTable =\n",
              "            await google.colab.kernel.invokeFunction('convertToInteractive',\n",
              "                                                     [key], {});\n",
              "          if (!dataTable) return;\n",
              "\n",
              "          const docLinkHtml = 'Like what you see? Visit the ' +\n",
              "            '<a target=\"_blank\" href=https://colab.research.google.com/notebooks/data_table.ipynb>data table notebook</a>'\n",
              "            + ' to learn more about interactive tables.';\n",
              "          element.innerHTML = '';\n",
              "          dataTable['output_type'] = 'display_data';\n",
              "          await google.colab.output.renderOutput(dataTable, element);\n",
              "          const docLink = document.createElement('div');\n",
              "          docLink.innerHTML = docLinkHtml;\n",
              "          element.appendChild(docLink);\n",
              "        }\n",
              "      </script>\n",
              "    </div>\n",
              "  </div>\n",
              "  "
            ]
          },
          "metadata": {},
          "execution_count": 38
        }
      ]
    },
    {
      "cell_type": "markdown",
      "source": [
        "# Evaluation F1 Score "
      ],
      "metadata": {
        "id": "jBWg4CdebG_l"
      }
    },
    {
      "cell_type": "code",
      "source": [
        "from sklearn.metrics import f1_score\n",
        "\n",
        "df = pd.read_csv(\"kdd_text.csv\")\n",
        "df2 = pd.read_csv(\"kdd_keys.csv\", sep = \"delimiter\")\n",
        "\n",
        "\n",
        "\n",
        "df[\"Key\"] = df2\n",
        "df[\"key_tfidf\"]=[f1_score(k, df3.values.tolist(), average='macro')  for k in df2.values.tolist()]\n",
        "df[\"key_textrank\"]=[f1_score(k, df4.values.tolist(), average='macro')  for k in df2.values.tolist()]\n",
        "df[\"key_topicrank\"]=[f1_score(k, df5.values.tolist(), average='macro')  for k in df2.values.tolist()]\n",
        "df[\"key_singlerank\"]=[f1_score(k, df6.values.tolist(), average='macro')  for k in df2.values.tolist()]\n",
        "df[\"key_positionrank\"]=[f1_score(k, df7.values.tolist(), average='macro')  for k in df2.values.tolist()]\n",
        "df[\"key_kea\"]=[f1_score(k, df8.values.tolist(), average='macro')  for k in df2.values.tolist()]\n",
        "df[\"key_KPMiner\"]=[f1_score(k, df9.values.tolist(), average='macro')  for k in df2.values.tolist()]\n",
        "df[\"key_yake\"]=[f1_score(k, df10.values.tolist(), average='macro')  for k in df2.values.tolist()]\n",
        "df_fin = df\n",
        "\n",
        "#Display the dataset\n",
        "df_fin.head()"
      ],
      "metadata": {
        "colab": {
          "base_uri": "https://localhost:8080/",
          "height": 756
        },
        "id": "6H4QXQV4Ss9o",
        "outputId": "c2ce22eb-d1bd-4c6b-abae-b66190f7a5f6"
      },
      "execution_count": null,
      "outputs": [
        {
          "output_type": "stream",
          "name": "stderr",
          "text": [
            "/usr/local/lib/python3.7/dist-packages/pandas/util/_decorators.py:311: ParserWarning: Falling back to the 'python' engine because the 'c' engine does not support regex separators (separators > 1 char and different from '\\s+' are interpreted as regex); you can avoid this warning by specifying engine='python'.\n",
            "  return func(*args, **kwargs)\n"
          ]
        },
        {
          "output_type": "execute_result",
          "data": {
            "text/plain": [
              "                                                Text  \\\n",
              "0  Variable latent semantic indexing No contact i...   \n",
              "1  Entity discovery and assignment for opinion mi...   \n",
              "2  Stable feature selection via dense feature gro...   \n",
              "3  Consensus group stable feature selection Stabi...   \n",
              "4  COA: finding novel patents through text analys...   \n",
              "\n",
              "                                                 Key  key_tfidf  key_textrank  \\\n",
              "0  linear algebra,lsi,matrix approximation,\"spars...   0.082172      0.353898   \n",
              "1                entity discovery,sentiment analysis   0.442042      0.208452   \n",
              "2  classification,feature selection,high-dimensio...   0.152473      0.329591   \n",
              "3  ensemble,feature selection,high-dimensional da...   0.122999      0.429570   \n",
              "4  document ranking,information retrieval,patent ...   0.295585      0.031678   \n",
              "\n",
              "   key_topicrank  key_singlerank  key_positionrank   key_kea  key_KPMiner  \\\n",
              "0       0.304137        0.281995          0.361046  0.307925     0.373468   \n",
              "1       0.149001        0.207749          0.437782  0.427431     0.161710   \n",
              "2       0.154166        0.444249          0.152825  0.346602     0.166194   \n",
              "3       0.015162        0.415546          0.140861  0.139717     0.021880   \n",
              "4       0.213485        0.403532          0.371025  0.072886     0.356589   \n",
              "\n",
              "   key_yake  \n",
              "0  0.235144  \n",
              "1  0.372706  \n",
              "2  0.266192  \n",
              "3  0.349189  \n",
              "4  0.411840  "
            ],
            "text/html": [
              "\n",
              "  <div id=\"df-72a3e9d9-d697-4543-9c2c-a0cffa6de09e\">\n",
              "    <div class=\"colab-df-container\">\n",
              "      <div>\n",
              "<style scoped>\n",
              "    .dataframe tbody tr th:only-of-type {\n",
              "        vertical-align: middle;\n",
              "    }\n",
              "\n",
              "    .dataframe tbody tr th {\n",
              "        vertical-align: top;\n",
              "    }\n",
              "\n",
              "    .dataframe thead th {\n",
              "        text-align: right;\n",
              "    }\n",
              "</style>\n",
              "<table border=\"1\" class=\"dataframe\">\n",
              "  <thead>\n",
              "    <tr style=\"text-align: right;\">\n",
              "      <th></th>\n",
              "      <th>Text</th>\n",
              "      <th>Key</th>\n",
              "      <th>key_tfidf</th>\n",
              "      <th>key_textrank</th>\n",
              "      <th>key_topicrank</th>\n",
              "      <th>key_singlerank</th>\n",
              "      <th>key_positionrank</th>\n",
              "      <th>key_kea</th>\n",
              "      <th>key_KPMiner</th>\n",
              "      <th>key_yake</th>\n",
              "    </tr>\n",
              "  </thead>\n",
              "  <tbody>\n",
              "    <tr>\n",
              "      <th>0</th>\n",
              "      <td>Variable latent semantic indexing No contact i...</td>\n",
              "      <td>linear algebra,lsi,matrix approximation,\"spars...</td>\n",
              "      <td>0.082172</td>\n",
              "      <td>0.353898</td>\n",
              "      <td>0.304137</td>\n",
              "      <td>0.281995</td>\n",
              "      <td>0.361046</td>\n",
              "      <td>0.307925</td>\n",
              "      <td>0.373468</td>\n",
              "      <td>0.235144</td>\n",
              "    </tr>\n",
              "    <tr>\n",
              "      <th>1</th>\n",
              "      <td>Entity discovery and assignment for opinion mi...</td>\n",
              "      <td>entity discovery,sentiment analysis</td>\n",
              "      <td>0.442042</td>\n",
              "      <td>0.208452</td>\n",
              "      <td>0.149001</td>\n",
              "      <td>0.207749</td>\n",
              "      <td>0.437782</td>\n",
              "      <td>0.427431</td>\n",
              "      <td>0.161710</td>\n",
              "      <td>0.372706</td>\n",
              "    </tr>\n",
              "    <tr>\n",
              "      <th>2</th>\n",
              "      <td>Stable feature selection via dense feature gro...</td>\n",
              "      <td>classification,feature selection,high-dimensio...</td>\n",
              "      <td>0.152473</td>\n",
              "      <td>0.329591</td>\n",
              "      <td>0.154166</td>\n",
              "      <td>0.444249</td>\n",
              "      <td>0.152825</td>\n",
              "      <td>0.346602</td>\n",
              "      <td>0.166194</td>\n",
              "      <td>0.266192</td>\n",
              "    </tr>\n",
              "    <tr>\n",
              "      <th>3</th>\n",
              "      <td>Consensus group stable feature selection Stabi...</td>\n",
              "      <td>ensemble,feature selection,high-dimensional da...</td>\n",
              "      <td>0.122999</td>\n",
              "      <td>0.429570</td>\n",
              "      <td>0.015162</td>\n",
              "      <td>0.415546</td>\n",
              "      <td>0.140861</td>\n",
              "      <td>0.139717</td>\n",
              "      <td>0.021880</td>\n",
              "      <td>0.349189</td>\n",
              "    </tr>\n",
              "    <tr>\n",
              "      <th>4</th>\n",
              "      <td>COA: finding novel patents through text analys...</td>\n",
              "      <td>document ranking,information retrieval,patent ...</td>\n",
              "      <td>0.295585</td>\n",
              "      <td>0.031678</td>\n",
              "      <td>0.213485</td>\n",
              "      <td>0.403532</td>\n",
              "      <td>0.371025</td>\n",
              "      <td>0.072886</td>\n",
              "      <td>0.356589</td>\n",
              "      <td>0.411840</td>\n",
              "    </tr>\n",
              "  </tbody>\n",
              "</table>\n",
              "</div>\n",
              "      <button class=\"colab-df-convert\" onclick=\"convertToInteractive('df-72a3e9d9-d697-4543-9c2c-a0cffa6de09e')\"\n",
              "              title=\"Convert this dataframe to an interactive table.\"\n",
              "              style=\"display:none;\">\n",
              "        \n",
              "  <svg xmlns=\"http://www.w3.org/2000/svg\" height=\"24px\"viewBox=\"0 0 24 24\"\n",
              "       width=\"24px\">\n",
              "    <path d=\"M0 0h24v24H0V0z\" fill=\"none\"/>\n",
              "    <path d=\"M18.56 5.44l.94 2.06.94-2.06 2.06-.94-2.06-.94-.94-2.06-.94 2.06-2.06.94zm-11 1L8.5 8.5l.94-2.06 2.06-.94-2.06-.94L8.5 2.5l-.94 2.06-2.06.94zm10 10l.94 2.06.94-2.06 2.06-.94-2.06-.94-.94-2.06-.94 2.06-2.06.94z\"/><path d=\"M17.41 7.96l-1.37-1.37c-.4-.4-.92-.59-1.43-.59-.52 0-1.04.2-1.43.59L10.3 9.45l-7.72 7.72c-.78.78-.78 2.05 0 2.83L4 21.41c.39.39.9.59 1.41.59.51 0 1.02-.2 1.41-.59l7.78-7.78 2.81-2.81c.8-.78.8-2.07 0-2.86zM5.41 20L4 18.59l7.72-7.72 1.47 1.35L5.41 20z\"/>\n",
              "  </svg>\n",
              "      </button>\n",
              "      \n",
              "  <style>\n",
              "    .colab-df-container {\n",
              "      display:flex;\n",
              "      flex-wrap:wrap;\n",
              "      gap: 12px;\n",
              "    }\n",
              "\n",
              "    .colab-df-convert {\n",
              "      background-color: #E8F0FE;\n",
              "      border: none;\n",
              "      border-radius: 50%;\n",
              "      cursor: pointer;\n",
              "      display: none;\n",
              "      fill: #1967D2;\n",
              "      height: 32px;\n",
              "      padding: 0 0 0 0;\n",
              "      width: 32px;\n",
              "    }\n",
              "\n",
              "    .colab-df-convert:hover {\n",
              "      background-color: #E2EBFA;\n",
              "      box-shadow: 0px 1px 2px rgba(60, 64, 67, 0.3), 0px 1px 3px 1px rgba(60, 64, 67, 0.15);\n",
              "      fill: #174EA6;\n",
              "    }\n",
              "\n",
              "    [theme=dark] .colab-df-convert {\n",
              "      background-color: #3B4455;\n",
              "      fill: #D2E3FC;\n",
              "    }\n",
              "\n",
              "    [theme=dark] .colab-df-convert:hover {\n",
              "      background-color: #434B5C;\n",
              "      box-shadow: 0px 1px 3px 1px rgba(0, 0, 0, 0.15);\n",
              "      filter: drop-shadow(0px 1px 2px rgba(0, 0, 0, 0.3));\n",
              "      fill: #FFFFFF;\n",
              "    }\n",
              "  </style>\n",
              "\n",
              "      <script>\n",
              "        const buttonEl =\n",
              "          document.querySelector('#df-72a3e9d9-d697-4543-9c2c-a0cffa6de09e button.colab-df-convert');\n",
              "        buttonEl.style.display =\n",
              "          google.colab.kernel.accessAllowed ? 'block' : 'none';\n",
              "\n",
              "        async function convertToInteractive(key) {\n",
              "          const element = document.querySelector('#df-72a3e9d9-d697-4543-9c2c-a0cffa6de09e');\n",
              "          const dataTable =\n",
              "            await google.colab.kernel.invokeFunction('convertToInteractive',\n",
              "                                                     [key], {});\n",
              "          if (!dataTable) return;\n",
              "\n",
              "          const docLinkHtml = 'Like what you see? Visit the ' +\n",
              "            '<a target=\"_blank\" href=https://colab.research.google.com/notebooks/data_table.ipynb>data table notebook</a>'\n",
              "            + ' to learn more about interactive tables.';\n",
              "          element.innerHTML = '';\n",
              "          dataTable['output_type'] = 'display_data';\n",
              "          await google.colab.output.renderOutput(dataTable, element);\n",
              "          const docLink = document.createElement('div');\n",
              "          docLink.innerHTML = docLinkHtml;\n",
              "          element.appendChild(docLink);\n",
              "        }\n",
              "      </script>\n",
              "    </div>\n",
              "  </div>\n",
              "  "
            ]
          },
          "metadata": {},
          "execution_count": 19
        }
      ]
    },
    {
      "cell_type": "code",
      "source": [
        "d = {'key_tfidf': [df[\"key_tfidf\"].mean()], 'key_textrank': [df[\"key_textrank\"].mean()], 'key_topicrank': [df[\"key_topicrank\"].mean()], 'key_singlerank': [df[\"key_singlerank\"].mean()], 'key_positionrank': [df[\"key_positionrank\"].mean()], 'key_kea': [df[\"key_kea\"].mean()], 'key_KPMiner': [df[\"key_KPMiner\"].mean()], 'key_yake': [df[\"key_yake\"].mean()]}\n",
        "df_score = pd.DataFrame(data=d)\n",
        "df_score.head()"
      ],
      "metadata": {
        "colab": {
          "base_uri": "https://localhost:8080/",
          "height": 81
        },
        "id": "tBVDO9Ry6yFg",
        "outputId": "44e49d9b-9579-4c56-f95a-0dfc61019674"
      },
      "execution_count": 2,
      "outputs": [
        {
          "output_type": "execute_result",
          "data": {
            "text/plain": [
              "   key_tfidf  key_textrank  key_topicrank  key_singlerank  key_positionrank  \\\n",
              "0   0.160129       0.09219        0.08576        0.102147          0.132144   \n",
              "\n",
              "   key_kea  key_KPMiner  key_yake  \n",
              "0  0.19872     0.048817   0.18357  "
            ],
            "text/html": [
              "\n",
              "  <div id=\"df-48a73e76-a613-468f-b6e5-3b0266761eda\">\n",
              "    <div class=\"colab-df-container\">\n",
              "      <div>\n",
              "<style scoped>\n",
              "    .dataframe tbody tr th:only-of-type {\n",
              "        vertical-align: middle;\n",
              "    }\n",
              "\n",
              "    .dataframe tbody tr th {\n",
              "        vertical-align: top;\n",
              "    }\n",
              "\n",
              "    .dataframe thead th {\n",
              "        text-align: right;\n",
              "    }\n",
              "</style>\n",
              "<table border=\"1\" class=\"dataframe\">\n",
              "  <thead>\n",
              "    <tr style=\"text-align: right;\">\n",
              "      <th></th>\n",
              "      <th>key_tfidf</th>\n",
              "      <th>key_textrank</th>\n",
              "      <th>key_topicrank</th>\n",
              "      <th>key_singlerank</th>\n",
              "      <th>key_positionrank</th>\n",
              "      <th>key_kea</th>\n",
              "      <th>key_KPMiner</th>\n",
              "      <th>key_yake</th>\n",
              "    </tr>\n",
              "  </thead>\n",
              "  <tbody>\n",
              "    <tr>\n",
              "      <th>0</th>\n",
              "      <td>0.160129</td>\n",
              "      <td>0.09219</td>\n",
              "      <td>0.08576</td>\n",
              "      <td>0.102147</td>\n",
              "      <td>0.132144</td>\n",
              "      <td>0.19872</td>\n",
              "      <td>0.048817</td>\n",
              "      <td>0.18357</td>\n",
              "    </tr>\n",
              "  </tbody>\n",
              "</table>\n",
              "</div>\n",
              "      <button class=\"colab-df-convert\" onclick=\"convertToInteractive('df-48a73e76-a613-468f-b6e5-3b0266761eda')\"\n",
              "              title=\"Convert this dataframe to an interactive table.\"\n",
              "              style=\"display:none;\">\n",
              "        \n",
              "  <svg xmlns=\"http://www.w3.org/2000/svg\" height=\"24px\"viewBox=\"0 0 24 24\"\n",
              "       width=\"24px\">\n",
              "    <path d=\"M0 0h24v24H0V0z\" fill=\"none\"/>\n",
              "    <path d=\"M18.56 5.44l.94 2.06.94-2.06 2.06-.94-2.06-.94-.94-2.06-.94 2.06-2.06.94zm-11 1L8.5 8.5l.94-2.06 2.06-.94-2.06-.94L8.5 2.5l-.94 2.06-2.06.94zm10 10l.94 2.06.94-2.06 2.06-.94-2.06-.94-.94-2.06-.94 2.06-2.06.94z\"/><path d=\"M17.41 7.96l-1.37-1.37c-.4-.4-.92-.59-1.43-.59-.52 0-1.04.2-1.43.59L10.3 9.45l-7.72 7.72c-.78.78-.78 2.05 0 2.83L4 21.41c.39.39.9.59 1.41.59.51 0 1.02-.2 1.41-.59l7.78-7.78 2.81-2.81c.8-.78.8-2.07 0-2.86zM5.41 20L4 18.59l7.72-7.72 1.47 1.35L5.41 20z\"/>\n",
              "  </svg>\n",
              "      </button>\n",
              "      \n",
              "  <style>\n",
              "    .colab-df-container {\n",
              "      display:flex;\n",
              "      flex-wrap:wrap;\n",
              "      gap: 12px;\n",
              "    }\n",
              "\n",
              "    .colab-df-convert {\n",
              "      background-color: #E8F0FE;\n",
              "      border: none;\n",
              "      border-radius: 50%;\n",
              "      cursor: pointer;\n",
              "      display: none;\n",
              "      fill: #1967D2;\n",
              "      height: 32px;\n",
              "      padding: 0 0 0 0;\n",
              "      width: 32px;\n",
              "    }\n",
              "\n",
              "    .colab-df-convert:hover {\n",
              "      background-color: #E2EBFA;\n",
              "      box-shadow: 0px 1px 2px rgba(60, 64, 67, 0.3), 0px 1px 3px 1px rgba(60, 64, 67, 0.15);\n",
              "      fill: #174EA6;\n",
              "    }\n",
              "\n",
              "    [theme=dark] .colab-df-convert {\n",
              "      background-color: #3B4455;\n",
              "      fill: #D2E3FC;\n",
              "    }\n",
              "\n",
              "    [theme=dark] .colab-df-convert:hover {\n",
              "      background-color: #434B5C;\n",
              "      box-shadow: 0px 1px 3px 1px rgba(0, 0, 0, 0.15);\n",
              "      filter: drop-shadow(0px 1px 2px rgba(0, 0, 0, 0.3));\n",
              "      fill: #FFFFFF;\n",
              "    }\n",
              "  </style>\n",
              "\n",
              "      <script>\n",
              "        const buttonEl =\n",
              "          document.querySelector('#df-48a73e76-a613-468f-b6e5-3b0266761eda button.colab-df-convert');\n",
              "        buttonEl.style.display =\n",
              "          google.colab.kernel.accessAllowed ? 'block' : 'none';\n",
              "\n",
              "        async function convertToInteractive(key) {\n",
              "          const element = document.querySelector('#df-48a73e76-a613-468f-b6e5-3b0266761eda');\n",
              "          const dataTable =\n",
              "            await google.colab.kernel.invokeFunction('convertToInteractive',\n",
              "                                                     [key], {});\n",
              "          if (!dataTable) return;\n",
              "\n",
              "          const docLinkHtml = 'Like what you see? Visit the ' +\n",
              "            '<a target=\"_blank\" href=https://colab.research.google.com/notebooks/data_table.ipynb>data table notebook</a>'\n",
              "            + ' to learn more about interactive tables.';\n",
              "          element.innerHTML = '';\n",
              "          dataTable['output_type'] = 'display_data';\n",
              "          await google.colab.output.renderOutput(dataTable, element);\n",
              "          const docLink = document.createElement('div');\n",
              "          docLink.innerHTML = docLinkHtml;\n",
              "          element.appendChild(docLink);\n",
              "        }\n",
              "      </script>\n",
              "    </div>\n",
              "  </div>\n",
              "  "
            ]
          },
          "metadata": {},
          "execution_count": 2
        }
      ]
    }
  ]
}