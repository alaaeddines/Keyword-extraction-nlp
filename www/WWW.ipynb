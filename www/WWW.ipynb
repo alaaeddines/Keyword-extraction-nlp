{
  "nbformat": 4,
  "nbformat_minor": 0,
  "metadata": {
    "colab": {
      "name": "WWW.ipynb",
      "provenance": [],
      "collapsed_sections": []
    },
    "kernelspec": {
      "name": "python3",
      "display_name": "Python 3"
    },
    "language_info": {
      "name": "python"
    }
  },
  "cells": [
    {
      "cell_type": "markdown",
      "source": [
        "## Installing the required dependencies"
      ],
      "metadata": {
        "id": "ZpG9s236aJ0A"
      }
    },
    {
      "cell_type": "code",
      "source": [
        "!pip install -U pip setuptools wheel\n",
        "\n",
        "!pip install -U spacy\n",
        "\n",
        "!python -m spacy download en_core_web_sm\n",
        "\n",
        "!pip install git+https://github.com/boudinfl/pke.git\n",
        "!pip install matplotlib"
      ],
      "metadata": {
        "colab": {
          "base_uri": "https://localhost:8080/",
          "height": 1000
        },
        "id": "UN-FsbzPY7vV",
        "outputId": "c98494ed-664d-4fc5-b9a8-18a1e4ad57bf"
      },
      "execution_count": null,
      "outputs": [
        {
          "output_type": "stream",
          "name": "stdout",
          "text": [
            "Requirement already satisfied: pip in /usr/local/lib/python3.7/dist-packages (21.1.3)\n",
            "Collecting pip\n",
            "  Downloading pip-22.0.4-py3-none-any.whl (2.1 MB)\n",
            "\u001b[K     |████████████████████████████████| 2.1 MB 4.2 MB/s \n",
            "\u001b[?25hRequirement already satisfied: setuptools in /usr/local/lib/python3.7/dist-packages (57.4.0)\n",
            "Collecting setuptools\n",
            "  Downloading setuptools-62.1.0-py3-none-any.whl (1.1 MB)\n",
            "\u001b[K     |████████████████████████████████| 1.1 MB 33.2 MB/s \n",
            "\u001b[?25hRequirement already satisfied: wheel in /usr/local/lib/python3.7/dist-packages (0.37.1)\n",
            "Installing collected packages: setuptools, pip\n",
            "  Attempting uninstall: setuptools\n",
            "    Found existing installation: setuptools 57.4.0\n",
            "    Uninstalling setuptools-57.4.0:\n",
            "      Successfully uninstalled setuptools-57.4.0\n",
            "  Attempting uninstall: pip\n",
            "    Found existing installation: pip 21.1.3\n",
            "    Uninstalling pip-21.1.3:\n",
            "      Successfully uninstalled pip-21.1.3\n",
            "\u001b[31mERROR: pip's dependency resolver does not currently take into account all the packages that are installed. This behaviour is the source of the following dependency conflicts.\n",
            "tensorflow 2.8.0 requires tf-estimator-nightly==2.8.0.dev2021122109, which is not installed.\n",
            "datascience 0.10.6 requires folium==0.2.1, but you have folium 0.8.3 which is incompatible.\u001b[0m\n",
            "Successfully installed pip-22.0.4 setuptools-62.1.0\n"
          ]
        },
        {
          "output_type": "display_data",
          "data": {
            "application/vnd.colab-display-data+json": {
              "pip_warning": {
                "packages": [
                  "pkg_resources"
                ]
              }
            }
          },
          "metadata": {}
        },
        {
          "output_type": "stream",
          "name": "stdout",
          "text": [
            "Requirement already satisfied: spacy in /usr/local/lib/python3.7/dist-packages (2.2.4)\n",
            "Collecting spacy\n",
            "  Downloading spacy-3.2.4-cp37-cp37m-manylinux_2_17_x86_64.manylinux2014_x86_64.whl (6.0 MB)\n",
            "\u001b[2K     \u001b[90m━━━━━━━━━━━━━━━━━━━━━━━━━━━━━━━━━━━━━━━━\u001b[0m \u001b[32m6.0/6.0 MB\u001b[0m \u001b[31m40.3 MB/s\u001b[0m eta \u001b[36m0:00:00\u001b[0m\n",
            "\u001b[?25hRequirement already satisfied: typing-extensions<4.0.0.0,>=3.7.4 in /usr/local/lib/python3.7/dist-packages (from spacy) (3.10.0.2)\n",
            "Requirement already satisfied: tqdm<5.0.0,>=4.38.0 in /usr/local/lib/python3.7/dist-packages (from spacy) (4.63.0)\n",
            "Requirement already satisfied: requests<3.0.0,>=2.13.0 in /usr/local/lib/python3.7/dist-packages (from spacy) (2.23.0)\n",
            "Requirement already satisfied: wasabi<1.1.0,>=0.8.1 in /usr/local/lib/python3.7/dist-packages (from spacy) (0.9.0)\n",
            "Requirement already satisfied: murmurhash<1.1.0,>=0.28.0 in /usr/local/lib/python3.7/dist-packages (from spacy) (1.0.6)\n",
            "Requirement already satisfied: preshed<3.1.0,>=3.0.2 in /usr/local/lib/python3.7/dist-packages (from spacy) (3.0.6)\n",
            "Collecting srsly<3.0.0,>=2.4.1\n",
            "  Downloading srsly-2.4.2-cp37-cp37m-manylinux_2_17_x86_64.manylinux2014_x86_64.whl (451 kB)\n",
            "\u001b[2K     \u001b[90m━━━━━━━━━━━━━━━━━━━━━━━━━━━━━━━━━━━━━━\u001b[0m \u001b[32m452.0/452.0 KB\u001b[0m \u001b[31m31.0 MB/s\u001b[0m eta \u001b[36m0:00:00\u001b[0m\n",
            "\u001b[?25hCollecting thinc<8.1.0,>=8.0.12\n",
            "  Downloading thinc-8.0.15-cp37-cp37m-manylinux_2_17_x86_64.manylinux2014_x86_64.whl (653 kB)\n",
            "\u001b[2K     \u001b[90m━━━━━━━━━━━━━━━━━━━━━━━━━━━━━━━━━━━━━━\u001b[0m \u001b[32m653.3/653.3 KB\u001b[0m \u001b[31m40.7 MB/s\u001b[0m eta \u001b[36m0:00:00\u001b[0m\n",
            "\u001b[?25hCollecting pydantic!=1.8,!=1.8.1,<1.9.0,>=1.7.4\n",
            "  Downloading pydantic-1.8.2-cp37-cp37m-manylinux2014_x86_64.whl (10.1 MB)\n",
            "\u001b[2K     \u001b[90m━━━━━━━━━━━━━━━━━━━━━━━━━━━━━━━━━━━━━━━━\u001b[0m \u001b[32m10.1/10.1 MB\u001b[0m \u001b[31m64.1 MB/s\u001b[0m eta \u001b[36m0:00:00\u001b[0m\n",
            "\u001b[?25hRequirement already satisfied: blis<0.8.0,>=0.4.0 in /usr/local/lib/python3.7/dist-packages (from spacy) (0.4.1)\n",
            "Collecting typer<0.5.0,>=0.3.0\n",
            "  Downloading typer-0.4.1-py3-none-any.whl (27 kB)\n",
            "Collecting spacy-legacy<3.1.0,>=3.0.8\n",
            "  Downloading spacy_legacy-3.0.9-py2.py3-none-any.whl (20 kB)\n",
            "Requirement already satisfied: numpy>=1.15.0 in /usr/local/lib/python3.7/dist-packages (from spacy) (1.21.5)\n",
            "Requirement already satisfied: cymem<2.1.0,>=2.0.2 in /usr/local/lib/python3.7/dist-packages (from spacy) (2.0.6)\n",
            "Collecting catalogue<2.1.0,>=2.0.6\n",
            "  Downloading catalogue-2.0.7-py3-none-any.whl (17 kB)\n",
            "Collecting langcodes<4.0.0,>=3.2.0\n",
            "  Downloading langcodes-3.3.0-py3-none-any.whl (181 kB)\n",
            "\u001b[2K     \u001b[90m━━━━━━━━━━━━━━━━━━━━━━━━━━━━━━━━━━━━━━\u001b[0m \u001b[32m181.6/181.6 KB\u001b[0m \u001b[31m15.7 MB/s\u001b[0m eta \u001b[36m0:00:00\u001b[0m\n",
            "\u001b[?25hRequirement already satisfied: jinja2 in /usr/local/lib/python3.7/dist-packages (from spacy) (2.11.3)\n",
            "Requirement already satisfied: setuptools in /usr/local/lib/python3.7/dist-packages (from spacy) (62.1.0)\n",
            "Requirement already satisfied: click<8.1.0 in /usr/local/lib/python3.7/dist-packages (from spacy) (7.1.2)\n",
            "Collecting spacy-loggers<2.0.0,>=1.0.0\n",
            "  Downloading spacy_loggers-1.0.2-py3-none-any.whl (7.2 kB)\n",
            "Collecting pathy>=0.3.5\n",
            "  Downloading pathy-0.6.1-py3-none-any.whl (42 kB)\n",
            "\u001b[2K     \u001b[90m━━━━━━━━━━━━━━━━━━━━━━━━━━━━━━━━━━━━━━━━\u001b[0m \u001b[32m42.8/42.8 KB\u001b[0m \u001b[31m3.5 MB/s\u001b[0m eta \u001b[36m0:00:00\u001b[0m\n",
            "\u001b[?25hRequirement already satisfied: packaging>=20.0 in /usr/local/lib/python3.7/dist-packages (from spacy) (21.3)\n",
            "Requirement already satisfied: zipp>=0.5 in /usr/local/lib/python3.7/dist-packages (from catalogue<2.1.0,>=2.0.6->spacy) (3.7.0)\n",
            "Requirement already satisfied: pyparsing!=3.0.5,>=2.0.2 in /usr/local/lib/python3.7/dist-packages (from packaging>=20.0->spacy) (3.0.7)\n",
            "Requirement already satisfied: smart-open<6.0.0,>=5.0.0 in /usr/local/lib/python3.7/dist-packages (from pathy>=0.3.5->spacy) (5.2.1)\n",
            "Requirement already satisfied: chardet<4,>=3.0.2 in /usr/local/lib/python3.7/dist-packages (from requests<3.0.0,>=2.13.0->spacy) (3.0.4)\n",
            "Requirement already satisfied: idna<3,>=2.5 in /usr/local/lib/python3.7/dist-packages (from requests<3.0.0,>=2.13.0->spacy) (2.10)\n",
            "Requirement already satisfied: urllib3!=1.25.0,!=1.25.1,<1.26,>=1.21.1 in /usr/local/lib/python3.7/dist-packages (from requests<3.0.0,>=2.13.0->spacy) (1.24.3)\n",
            "Requirement already satisfied: certifi>=2017.4.17 in /usr/local/lib/python3.7/dist-packages (from requests<3.0.0,>=2.13.0->spacy) (2021.10.8)\n",
            "Requirement already satisfied: MarkupSafe>=0.23 in /usr/local/lib/python3.7/dist-packages (from jinja2->spacy) (2.0.1)\n",
            "Installing collected packages: typer, spacy-loggers, spacy-legacy, pydantic, langcodes, catalogue, srsly, pathy, thinc, spacy\n",
            "  Attempting uninstall: catalogue\n",
            "    Found existing installation: catalogue 1.0.0\n",
            "    Uninstalling catalogue-1.0.0:\n",
            "      Successfully uninstalled catalogue-1.0.0\n",
            "  Attempting uninstall: srsly\n",
            "    Found existing installation: srsly 1.0.5\n",
            "    Uninstalling srsly-1.0.5:\n",
            "      Successfully uninstalled srsly-1.0.5\n",
            "  Attempting uninstall: thinc\n",
            "    Found existing installation: thinc 7.4.0\n",
            "    Uninstalling thinc-7.4.0:\n",
            "      Successfully uninstalled thinc-7.4.0\n",
            "  Attempting uninstall: spacy\n",
            "    Found existing installation: spacy 2.2.4\n",
            "    Uninstalling spacy-2.2.4:\n",
            "      Successfully uninstalled spacy-2.2.4\n",
            "Successfully installed catalogue-2.0.7 langcodes-3.3.0 pathy-0.6.1 pydantic-1.8.2 spacy-3.2.4 spacy-legacy-3.0.9 spacy-loggers-1.0.2 srsly-2.4.2 thinc-8.0.15 typer-0.4.1\n",
            "\u001b[33mWARNING: Running pip as the 'root' user can result in broken permissions and conflicting behaviour with the system package manager. It is recommended to use a virtual environment instead: https://pip.pypa.io/warnings/venv\u001b[0m\u001b[33m\n",
            "\u001b[0mCollecting en-core-web-sm==3.2.0\n",
            "  Downloading https://github.com/explosion/spacy-models/releases/download/en_core_web_sm-3.2.0/en_core_web_sm-3.2.0-py3-none-any.whl (13.9 MB)\n",
            "\u001b[2K     \u001b[90m━━━━━━━━━━━━━━━━━━━━━━━━━━━━━━━━━━━━━━━━\u001b[0m \u001b[32m13.9/13.9 MB\u001b[0m \u001b[31m10.5 MB/s\u001b[0m eta \u001b[36m0:00:00\u001b[0m\n",
            "\u001b[?25hRequirement already satisfied: spacy<3.3.0,>=3.2.0 in /usr/local/lib/python3.7/dist-packages (from en-core-web-sm==3.2.0) (3.2.4)\n",
            "Requirement already satisfied: langcodes<4.0.0,>=3.2.0 in /usr/local/lib/python3.7/dist-packages (from spacy<3.3.0,>=3.2.0->en-core-web-sm==3.2.0) (3.3.0)\n",
            "Requirement already satisfied: spacy-loggers<2.0.0,>=1.0.0 in /usr/local/lib/python3.7/dist-packages (from spacy<3.3.0,>=3.2.0->en-core-web-sm==3.2.0) (1.0.2)\n",
            "Requirement already satisfied: numpy>=1.15.0 in /usr/local/lib/python3.7/dist-packages (from spacy<3.3.0,>=3.2.0->en-core-web-sm==3.2.0) (1.21.5)\n",
            "Requirement already satisfied: preshed<3.1.0,>=3.0.2 in /usr/local/lib/python3.7/dist-packages (from spacy<3.3.0,>=3.2.0->en-core-web-sm==3.2.0) (3.0.6)\n",
            "Requirement already satisfied: click<8.1.0 in /usr/local/lib/python3.7/dist-packages (from spacy<3.3.0,>=3.2.0->en-core-web-sm==3.2.0) (7.1.2)\n",
            "Requirement already satisfied: requests<3.0.0,>=2.13.0 in /usr/local/lib/python3.7/dist-packages (from spacy<3.3.0,>=3.2.0->en-core-web-sm==3.2.0) (2.23.0)\n",
            "Requirement already satisfied: typer<0.5.0,>=0.3.0 in /usr/local/lib/python3.7/dist-packages (from spacy<3.3.0,>=3.2.0->en-core-web-sm==3.2.0) (0.4.1)\n",
            "Requirement already satisfied: thinc<8.1.0,>=8.0.12 in /usr/local/lib/python3.7/dist-packages (from spacy<3.3.0,>=3.2.0->en-core-web-sm==3.2.0) (8.0.15)\n",
            "Requirement already satisfied: wasabi<1.1.0,>=0.8.1 in /usr/local/lib/python3.7/dist-packages (from spacy<3.3.0,>=3.2.0->en-core-web-sm==3.2.0) (0.9.0)\n",
            "Requirement already satisfied: packaging>=20.0 in /usr/local/lib/python3.7/dist-packages (from spacy<3.3.0,>=3.2.0->en-core-web-sm==3.2.0) (21.3)\n",
            "Requirement already satisfied: setuptools in /usr/local/lib/python3.7/dist-packages (from spacy<3.3.0,>=3.2.0->en-core-web-sm==3.2.0) (62.1.0)\n",
            "Requirement already satisfied: jinja2 in /usr/local/lib/python3.7/dist-packages (from spacy<3.3.0,>=3.2.0->en-core-web-sm==3.2.0) (2.11.3)\n",
            "Requirement already satisfied: srsly<3.0.0,>=2.4.1 in /usr/local/lib/python3.7/dist-packages (from spacy<3.3.0,>=3.2.0->en-core-web-sm==3.2.0) (2.4.2)\n",
            "Requirement already satisfied: pydantic!=1.8,!=1.8.1,<1.9.0,>=1.7.4 in /usr/local/lib/python3.7/dist-packages (from spacy<3.3.0,>=3.2.0->en-core-web-sm==3.2.0) (1.8.2)\n",
            "Requirement already satisfied: murmurhash<1.1.0,>=0.28.0 in /usr/local/lib/python3.7/dist-packages (from spacy<3.3.0,>=3.2.0->en-core-web-sm==3.2.0) (1.0.6)\n",
            "Requirement already satisfied: tqdm<5.0.0,>=4.38.0 in /usr/local/lib/python3.7/dist-packages (from spacy<3.3.0,>=3.2.0->en-core-web-sm==3.2.0) (4.63.0)\n",
            "Requirement already satisfied: pathy>=0.3.5 in /usr/local/lib/python3.7/dist-packages (from spacy<3.3.0,>=3.2.0->en-core-web-sm==3.2.0) (0.6.1)\n",
            "Requirement already satisfied: catalogue<2.1.0,>=2.0.6 in /usr/local/lib/python3.7/dist-packages (from spacy<3.3.0,>=3.2.0->en-core-web-sm==3.2.0) (2.0.7)\n",
            "Requirement already satisfied: blis<0.8.0,>=0.4.0 in /usr/local/lib/python3.7/dist-packages (from spacy<3.3.0,>=3.2.0->en-core-web-sm==3.2.0) (0.4.1)\n",
            "Requirement already satisfied: typing-extensions<4.0.0.0,>=3.7.4 in /usr/local/lib/python3.7/dist-packages (from spacy<3.3.0,>=3.2.0->en-core-web-sm==3.2.0) (3.10.0.2)\n",
            "Requirement already satisfied: cymem<2.1.0,>=2.0.2 in /usr/local/lib/python3.7/dist-packages (from spacy<3.3.0,>=3.2.0->en-core-web-sm==3.2.0) (2.0.6)\n",
            "Requirement already satisfied: spacy-legacy<3.1.0,>=3.0.8 in /usr/local/lib/python3.7/dist-packages (from spacy<3.3.0,>=3.2.0->en-core-web-sm==3.2.0) (3.0.9)\n",
            "Requirement already satisfied: zipp>=0.5 in /usr/local/lib/python3.7/dist-packages (from catalogue<2.1.0,>=2.0.6->spacy<3.3.0,>=3.2.0->en-core-web-sm==3.2.0) (3.7.0)\n",
            "Requirement already satisfied: pyparsing!=3.0.5,>=2.0.2 in /usr/local/lib/python3.7/dist-packages (from packaging>=20.0->spacy<3.3.0,>=3.2.0->en-core-web-sm==3.2.0) (3.0.7)\n",
            "Requirement already satisfied: smart-open<6.0.0,>=5.0.0 in /usr/local/lib/python3.7/dist-packages (from pathy>=0.3.5->spacy<3.3.0,>=3.2.0->en-core-web-sm==3.2.0) (5.2.1)\n",
            "Requirement already satisfied: urllib3!=1.25.0,!=1.25.1,<1.26,>=1.21.1 in /usr/local/lib/python3.7/dist-packages (from requests<3.0.0,>=2.13.0->spacy<3.3.0,>=3.2.0->en-core-web-sm==3.2.0) (1.24.3)\n",
            "Requirement already satisfied: certifi>=2017.4.17 in /usr/local/lib/python3.7/dist-packages (from requests<3.0.0,>=2.13.0->spacy<3.3.0,>=3.2.0->en-core-web-sm==3.2.0) (2021.10.8)\n",
            "Requirement already satisfied: chardet<4,>=3.0.2 in /usr/local/lib/python3.7/dist-packages (from requests<3.0.0,>=2.13.0->spacy<3.3.0,>=3.2.0->en-core-web-sm==3.2.0) (3.0.4)\n",
            "Requirement already satisfied: idna<3,>=2.5 in /usr/local/lib/python3.7/dist-packages (from requests<3.0.0,>=2.13.0->spacy<3.3.0,>=3.2.0->en-core-web-sm==3.2.0) (2.10)\n",
            "Requirement already satisfied: MarkupSafe>=0.23 in /usr/local/lib/python3.7/dist-packages (from jinja2->spacy<3.3.0,>=3.2.0->en-core-web-sm==3.2.0) (2.0.1)\n",
            "Installing collected packages: en-core-web-sm\n",
            "  Attempting uninstall: en-core-web-sm\n",
            "    Found existing installation: en-core-web-sm 2.2.5\n",
            "    Uninstalling en-core-web-sm-2.2.5:\n",
            "      Successfully uninstalled en-core-web-sm-2.2.5\n",
            "Successfully installed en-core-web-sm-3.2.0\n",
            "\u001b[33mWARNING: Running pip as the 'root' user can result in broken permissions and conflicting behaviour with the system package manager. It is recommended to use a virtual environment instead: https://pip.pypa.io/warnings/venv\u001b[0m\u001b[33m\n",
            "\u001b[0m\u001b[38;5;2m✔ Download and installation successful\u001b[0m\n",
            "You can now load the package via spacy.load('en_core_web_sm')\n",
            "Collecting git+https://github.com/boudinfl/pke.git\n",
            "  Cloning https://github.com/boudinfl/pke.git to /tmp/pip-req-build-fs4il1ld\n",
            "  Running command git clone --filter=blob:none --quiet https://github.com/boudinfl/pke.git /tmp/pip-req-build-fs4il1ld\n",
            "  Resolved https://github.com/boudinfl/pke.git to commit 69337af9f9e72a25af6d7991eaa9869f1322dd72\n",
            "  Preparing metadata (setup.py) ... \u001b[?25l\u001b[?25hdone\n",
            "Requirement already satisfied: nltk in /usr/local/lib/python3.7/dist-packages (from pke==2.0.0) (3.2.5)\n",
            "Requirement already satisfied: networkx in /usr/local/lib/python3.7/dist-packages (from pke==2.0.0) (2.6.3)\n",
            "Requirement already satisfied: numpy in /usr/local/lib/python3.7/dist-packages (from pke==2.0.0) (1.21.5)\n",
            "Requirement already satisfied: scipy in /usr/local/lib/python3.7/dist-packages (from pke==2.0.0) (1.4.1)\n",
            "Requirement already satisfied: sklearn in /usr/local/lib/python3.7/dist-packages (from pke==2.0.0) (0.0)\n",
            "Collecting unidecode\n",
            "  Downloading Unidecode-1.3.4-py3-none-any.whl (235 kB)\n",
            "\u001b[2K     \u001b[90m━━━━━━━━━━━━━━━━━━━━━━━━━━━━━━━━━━━━━━━\u001b[0m \u001b[32m235.9/235.9 KB\u001b[0m \u001b[31m4.9 MB/s\u001b[0m eta \u001b[36m0:00:00\u001b[0m\n",
            "\u001b[?25hRequirement already satisfied: future in /usr/local/lib/python3.7/dist-packages (from pke==2.0.0) (0.16.0)\n",
            "Requirement already satisfied: joblib in /usr/local/lib/python3.7/dist-packages (from pke==2.0.0) (1.1.0)\n",
            "Requirement already satisfied: spacy>=3.2.3 in /usr/local/lib/python3.7/dist-packages (from pke==2.0.0) (3.2.4)\n",
            "Requirement already satisfied: spacy-legacy<3.1.0,>=3.0.8 in /usr/local/lib/python3.7/dist-packages (from spacy>=3.2.3->pke==2.0.0) (3.0.9)\n",
            "Requirement already satisfied: requests<3.0.0,>=2.13.0 in /usr/local/lib/python3.7/dist-packages (from spacy>=3.2.3->pke==2.0.0) (2.23.0)\n",
            "Requirement already satisfied: srsly<3.0.0,>=2.4.1 in /usr/local/lib/python3.7/dist-packages (from spacy>=3.2.3->pke==2.0.0) (2.4.2)\n",
            "Requirement already satisfied: pydantic!=1.8,!=1.8.1,<1.9.0,>=1.7.4 in /usr/local/lib/python3.7/dist-packages (from spacy>=3.2.3->pke==2.0.0) (1.8.2)\n",
            "Requirement already satisfied: wasabi<1.1.0,>=0.8.1 in /usr/local/lib/python3.7/dist-packages (from spacy>=3.2.3->pke==2.0.0) (0.9.0)\n",
            "Requirement already satisfied: cymem<2.1.0,>=2.0.2 in /usr/local/lib/python3.7/dist-packages (from spacy>=3.2.3->pke==2.0.0) (2.0.6)\n",
            "Requirement already satisfied: click<8.1.0 in /usr/local/lib/python3.7/dist-packages (from spacy>=3.2.3->pke==2.0.0) (7.1.2)\n",
            "Requirement already satisfied: typer<0.5.0,>=0.3.0 in /usr/local/lib/python3.7/dist-packages (from spacy>=3.2.3->pke==2.0.0) (0.4.1)\n",
            "Requirement already satisfied: blis<0.8.0,>=0.4.0 in /usr/local/lib/python3.7/dist-packages (from spacy>=3.2.3->pke==2.0.0) (0.4.1)\n",
            "Requirement already satisfied: langcodes<4.0.0,>=3.2.0 in /usr/local/lib/python3.7/dist-packages (from spacy>=3.2.3->pke==2.0.0) (3.3.0)\n",
            "Requirement already satisfied: setuptools in /usr/local/lib/python3.7/dist-packages (from spacy>=3.2.3->pke==2.0.0) (62.1.0)\n",
            "Requirement already satisfied: catalogue<2.1.0,>=2.0.6 in /usr/local/lib/python3.7/dist-packages (from spacy>=3.2.3->pke==2.0.0) (2.0.7)\n",
            "Requirement already satisfied: packaging>=20.0 in /usr/local/lib/python3.7/dist-packages (from spacy>=3.2.3->pke==2.0.0) (21.3)\n",
            "Requirement already satisfied: preshed<3.1.0,>=3.0.2 in /usr/local/lib/python3.7/dist-packages (from spacy>=3.2.3->pke==2.0.0) (3.0.6)\n",
            "Requirement already satisfied: murmurhash<1.1.0,>=0.28.0 in /usr/local/lib/python3.7/dist-packages (from spacy>=3.2.3->pke==2.0.0) (1.0.6)\n",
            "Requirement already satisfied: thinc<8.1.0,>=8.0.12 in /usr/local/lib/python3.7/dist-packages (from spacy>=3.2.3->pke==2.0.0) (8.0.15)\n",
            "Requirement already satisfied: pathy>=0.3.5 in /usr/local/lib/python3.7/dist-packages (from spacy>=3.2.3->pke==2.0.0) (0.6.1)\n",
            "Requirement already satisfied: typing-extensions<4.0.0.0,>=3.7.4 in /usr/local/lib/python3.7/dist-packages (from spacy>=3.2.3->pke==2.0.0) (3.10.0.2)\n",
            "Requirement already satisfied: jinja2 in /usr/local/lib/python3.7/dist-packages (from spacy>=3.2.3->pke==2.0.0) (2.11.3)\n",
            "Requirement already satisfied: tqdm<5.0.0,>=4.38.0 in /usr/local/lib/python3.7/dist-packages (from spacy>=3.2.3->pke==2.0.0) (4.63.0)\n",
            "Requirement already satisfied: spacy-loggers<2.0.0,>=1.0.0 in /usr/local/lib/python3.7/dist-packages (from spacy>=3.2.3->pke==2.0.0) (1.0.2)\n",
            "Requirement already satisfied: six in /usr/local/lib/python3.7/dist-packages (from nltk->pke==2.0.0) (1.15.0)\n",
            "Requirement already satisfied: scikit-learn in /usr/local/lib/python3.7/dist-packages (from sklearn->pke==2.0.0) (1.0.2)\n",
            "Requirement already satisfied: zipp>=0.5 in /usr/local/lib/python3.7/dist-packages (from catalogue<2.1.0,>=2.0.6->spacy>=3.2.3->pke==2.0.0) (3.7.0)\n",
            "Requirement already satisfied: pyparsing!=3.0.5,>=2.0.2 in /usr/local/lib/python3.7/dist-packages (from packaging>=20.0->spacy>=3.2.3->pke==2.0.0) (3.0.7)\n",
            "Requirement already satisfied: smart-open<6.0.0,>=5.0.0 in /usr/local/lib/python3.7/dist-packages (from pathy>=0.3.5->spacy>=3.2.3->pke==2.0.0) (5.2.1)\n",
            "Requirement already satisfied: chardet<4,>=3.0.2 in /usr/local/lib/python3.7/dist-packages (from requests<3.0.0,>=2.13.0->spacy>=3.2.3->pke==2.0.0) (3.0.4)\n",
            "Requirement already satisfied: urllib3!=1.25.0,!=1.25.1,<1.26,>=1.21.1 in /usr/local/lib/python3.7/dist-packages (from requests<3.0.0,>=2.13.0->spacy>=3.2.3->pke==2.0.0) (1.24.3)\n",
            "Requirement already satisfied: certifi>=2017.4.17 in /usr/local/lib/python3.7/dist-packages (from requests<3.0.0,>=2.13.0->spacy>=3.2.3->pke==2.0.0) (2021.10.8)\n",
            "Requirement already satisfied: idna<3,>=2.5 in /usr/local/lib/python3.7/dist-packages (from requests<3.0.0,>=2.13.0->spacy>=3.2.3->pke==2.0.0) (2.10)\n",
            "Requirement already satisfied: MarkupSafe>=0.23 in /usr/local/lib/python3.7/dist-packages (from jinja2->spacy>=3.2.3->pke==2.0.0) (2.0.1)\n",
            "Requirement already satisfied: threadpoolctl>=2.0.0 in /usr/local/lib/python3.7/dist-packages (from scikit-learn->sklearn->pke==2.0.0) (3.1.0)\n",
            "Building wheels for collected packages: pke\n",
            "  Building wheel for pke (setup.py) ... \u001b[?25l\u001b[?25hdone\n",
            "  Created wheel for pke: filename=pke-2.0.0-py3-none-any.whl size=6160197 sha256=52c884c30e2049688a9fdcd937f032fe14c82165c0a1586ee523e85499d8096a\n",
            "  Stored in directory: /tmp/pip-ephem-wheel-cache-ew_6ixwu/wheels/fa/b3/09/612ee93bf3ee4164bcd5783e742942cdfc892a86039d3e0a33\n",
            "Successfully built pke\n",
            "Installing collected packages: unidecode, pke\n",
            "Successfully installed pke-2.0.0 unidecode-1.3.4\n",
            "\u001b[33mWARNING: Running pip as the 'root' user can result in broken permissions and conflicting behaviour with the system package manager. It is recommended to use a virtual environment instead: https://pip.pypa.io/warnings/venv\u001b[0m\u001b[33m\n",
            "\u001b[0mRequirement already satisfied: matplotlib in /usr/local/lib/python3.7/dist-packages (3.2.2)\n",
            "Requirement already satisfied: python-dateutil>=2.1 in /usr/local/lib/python3.7/dist-packages (from matplotlib) (2.8.2)\n",
            "Requirement already satisfied: numpy>=1.11 in /usr/local/lib/python3.7/dist-packages (from matplotlib) (1.21.5)\n",
            "Requirement already satisfied: cycler>=0.10 in /usr/local/lib/python3.7/dist-packages (from matplotlib) (0.11.0)\n",
            "Requirement already satisfied: pyparsing!=2.0.4,!=2.1.2,!=2.1.6,>=2.0.1 in /usr/local/lib/python3.7/dist-packages (from matplotlib) (3.0.7)\n",
            "Requirement already satisfied: kiwisolver>=1.0.1 in /usr/local/lib/python3.7/dist-packages (from matplotlib) (1.4.0)\n",
            "Requirement already satisfied: typing-extensions in /usr/local/lib/python3.7/dist-packages (from kiwisolver>=1.0.1->matplotlib) (3.10.0.2)\n",
            "Requirement already satisfied: six>=1.5 in /usr/local/lib/python3.7/dist-packages (from python-dateutil>=2.1->matplotlib) (1.15.0)\n",
            "\u001b[33mWARNING: Running pip as the 'root' user can result in broken permissions and conflicting behaviour with the system package manager. It is recommended to use a virtual environment instead: https://pip.pypa.io/warnings/venv\u001b[0m\u001b[33m\n",
            "\u001b[0m"
          ]
        }
      ]
    },
    {
      "cell_type": "markdown",
      "source": [
        "# Importing the required libraries"
      ],
      "metadata": {
        "id": "9Jv6VnBdarcw"
      }
    },
    {
      "cell_type": "code",
      "source": [
        "import numpy as np\n",
        "import pandas as pd\n",
        "import pke\n",
        "import spacy\n",
        "spacy.load('en_core_web_sm')\n",
        "import string\n",
        "import nltk\n",
        "nltk.download(\"stopwords\")\n",
        "from nltk.corpus import stopwords\n"
      ],
      "metadata": {
        "id": "GuhfdGs7aeSh",
        "colab": {
          "base_uri": "https://localhost:8080/"
        },
        "outputId": "a2deb4aa-c356-4f65-a898-c37fa014c1dc"
      },
      "execution_count": null,
      "outputs": [
        {
          "output_type": "stream",
          "name": "stdout",
          "text": [
            "[nltk_data] Downloading package stopwords to /root/nltk_data...\n",
            "[nltk_data]   Unzipping corpora/stopwords.zip.\n"
          ]
        }
      ]
    },
    {
      "cell_type": "markdown",
      "source": [
        "# **Initializing the dataset**"
      ],
      "metadata": {
        "id": "DHw7SO9BYJSK"
      }
    },
    {
      "cell_type": "code",
      "source": [
        "df1 = pd.read_csv(\"www_text.csv\")\n",
        "df2 = pd.read_csv(\"www_keys.csv\", sep = \"delimiter\")\n",
        "\n",
        "# Merge the two tables\n",
        "\n",
        "df1[\"Key\"] = df2\n",
        "df = df1\n",
        "\n",
        "#Display the dataset\n",
        "df.head()"
      ],
      "metadata": {
        "colab": {
          "base_uri": "https://localhost:8080/",
          "height": 261
        },
        "id": "PMdN2n_9SYIa",
        "outputId": "c0dfd932-98f7-4b03-f1cd-5920b6d48387"
      },
      "execution_count": null,
      "outputs": [
        {
          "output_type": "stream",
          "name": "stderr",
          "text": [
            "/usr/local/lib/python3.7/dist-packages/pandas/util/_decorators.py:311: ParserWarning: Falling back to the 'python' engine because the 'c' engine does not support regex separators (separators > 1 char and different from '\\s+' are interpreted as regex); you can avoid this warning by specifying engine='python'.\n",
            "  return func(*args, **kwargs)\n"
          ]
        },
        {
          "output_type": "execute_result",
          "data": {
            "text/plain": [
              "                                                Text  \\\n",
              "0  Autonomous resource provisioning for multi-ser...   \n",
              "1  Collaborative filtering for orkut communities:...   \n",
              "2  A trust management framework for service-orien...   \n",
              "3  A client-server architecture for state-depende...   \n",
              "4  Rapid development of spreadsheet-based web mas...   \n",
              "\n",
              "                                                 Key  \n",
              "0    multi-service application,resource provisioning  \n",
              "1  association rule mining,collaborative filterin...  \n",
              "2  distributed systems,reputation,security and pr...  \n",
              "3                patterns,rich internet applications  \n",
              "4  component model,graphical user interfaces,inte...  "
            ],
            "text/html": [
              "\n",
              "  <div id=\"df-8d3822e8-6b7d-4615-a810-af701df4e615\">\n",
              "    <div class=\"colab-df-container\">\n",
              "      <div>\n",
              "<style scoped>\n",
              "    .dataframe tbody tr th:only-of-type {\n",
              "        vertical-align: middle;\n",
              "    }\n",
              "\n",
              "    .dataframe tbody tr th {\n",
              "        vertical-align: top;\n",
              "    }\n",
              "\n",
              "    .dataframe thead th {\n",
              "        text-align: right;\n",
              "    }\n",
              "</style>\n",
              "<table border=\"1\" class=\"dataframe\">\n",
              "  <thead>\n",
              "    <tr style=\"text-align: right;\">\n",
              "      <th></th>\n",
              "      <th>Text</th>\n",
              "      <th>Key</th>\n",
              "    </tr>\n",
              "  </thead>\n",
              "  <tbody>\n",
              "    <tr>\n",
              "      <th>0</th>\n",
              "      <td>Autonomous resource provisioning for multi-ser...</td>\n",
              "      <td>multi-service application,resource provisioning</td>\n",
              "    </tr>\n",
              "    <tr>\n",
              "      <th>1</th>\n",
              "      <td>Collaborative filtering for orkut communities:...</td>\n",
              "      <td>association rule mining,collaborative filterin...</td>\n",
              "    </tr>\n",
              "    <tr>\n",
              "      <th>2</th>\n",
              "      <td>A trust management framework for service-orien...</td>\n",
              "      <td>distributed systems,reputation,security and pr...</td>\n",
              "    </tr>\n",
              "    <tr>\n",
              "      <th>3</th>\n",
              "      <td>A client-server architecture for state-depende...</td>\n",
              "      <td>patterns,rich internet applications</td>\n",
              "    </tr>\n",
              "    <tr>\n",
              "      <th>4</th>\n",
              "      <td>Rapid development of spreadsheet-based web mas...</td>\n",
              "      <td>component model,graphical user interfaces,inte...</td>\n",
              "    </tr>\n",
              "  </tbody>\n",
              "</table>\n",
              "</div>\n",
              "      <button class=\"colab-df-convert\" onclick=\"convertToInteractive('df-8d3822e8-6b7d-4615-a810-af701df4e615')\"\n",
              "              title=\"Convert this dataframe to an interactive table.\"\n",
              "              style=\"display:none;\">\n",
              "        \n",
              "  <svg xmlns=\"http://www.w3.org/2000/svg\" height=\"24px\"viewBox=\"0 0 24 24\"\n",
              "       width=\"24px\">\n",
              "    <path d=\"M0 0h24v24H0V0z\" fill=\"none\"/>\n",
              "    <path d=\"M18.56 5.44l.94 2.06.94-2.06 2.06-.94-2.06-.94-.94-2.06-.94 2.06-2.06.94zm-11 1L8.5 8.5l.94-2.06 2.06-.94-2.06-.94L8.5 2.5l-.94 2.06-2.06.94zm10 10l.94 2.06.94-2.06 2.06-.94-2.06-.94-.94-2.06-.94 2.06-2.06.94z\"/><path d=\"M17.41 7.96l-1.37-1.37c-.4-.4-.92-.59-1.43-.59-.52 0-1.04.2-1.43.59L10.3 9.45l-7.72 7.72c-.78.78-.78 2.05 0 2.83L4 21.41c.39.39.9.59 1.41.59.51 0 1.02-.2 1.41-.59l7.78-7.78 2.81-2.81c.8-.78.8-2.07 0-2.86zM5.41 20L4 18.59l7.72-7.72 1.47 1.35L5.41 20z\"/>\n",
              "  </svg>\n",
              "      </button>\n",
              "      \n",
              "  <style>\n",
              "    .colab-df-container {\n",
              "      display:flex;\n",
              "      flex-wrap:wrap;\n",
              "      gap: 12px;\n",
              "    }\n",
              "\n",
              "    .colab-df-convert {\n",
              "      background-color: #E8F0FE;\n",
              "      border: none;\n",
              "      border-radius: 50%;\n",
              "      cursor: pointer;\n",
              "      display: none;\n",
              "      fill: #1967D2;\n",
              "      height: 32px;\n",
              "      padding: 0 0 0 0;\n",
              "      width: 32px;\n",
              "    }\n",
              "\n",
              "    .colab-df-convert:hover {\n",
              "      background-color: #E2EBFA;\n",
              "      box-shadow: 0px 1px 2px rgba(60, 64, 67, 0.3), 0px 1px 3px 1px rgba(60, 64, 67, 0.15);\n",
              "      fill: #174EA6;\n",
              "    }\n",
              "\n",
              "    [theme=dark] .colab-df-convert {\n",
              "      background-color: #3B4455;\n",
              "      fill: #D2E3FC;\n",
              "    }\n",
              "\n",
              "    [theme=dark] .colab-df-convert:hover {\n",
              "      background-color: #434B5C;\n",
              "      box-shadow: 0px 1px 3px 1px rgba(0, 0, 0, 0.15);\n",
              "      filter: drop-shadow(0px 1px 2px rgba(0, 0, 0, 0.3));\n",
              "      fill: #FFFFFF;\n",
              "    }\n",
              "  </style>\n",
              "\n",
              "      <script>\n",
              "        const buttonEl =\n",
              "          document.querySelector('#df-8d3822e8-6b7d-4615-a810-af701df4e615 button.colab-df-convert');\n",
              "        buttonEl.style.display =\n",
              "          google.colab.kernel.accessAllowed ? 'block' : 'none';\n",
              "\n",
              "        async function convertToInteractive(key) {\n",
              "          const element = document.querySelector('#df-8d3822e8-6b7d-4615-a810-af701df4e615');\n",
              "          const dataTable =\n",
              "            await google.colab.kernel.invokeFunction('convertToInteractive',\n",
              "                                                     [key], {});\n",
              "          if (!dataTable) return;\n",
              "\n",
              "          const docLinkHtml = 'Like what you see? Visit the ' +\n",
              "            '<a target=\"_blank\" href=https://colab.research.google.com/notebooks/data_table.ipynb>data table notebook</a>'\n",
              "            + ' to learn more about interactive tables.';\n",
              "          element.innerHTML = '';\n",
              "          dataTable['output_type'] = 'display_data';\n",
              "          await google.colab.output.renderOutput(dataTable, element);\n",
              "          const docLink = document.createElement('div');\n",
              "          docLink.innerHTML = docLinkHtml;\n",
              "          element.appendChild(docLink);\n",
              "        }\n",
              "      </script>\n",
              "    </div>\n",
              "  </div>\n",
              "  "
            ]
          },
          "metadata": {},
          "execution_count": 6
        }
      ]
    },
    {
      "cell_type": "markdown",
      "source": [
        "# Implementation of the algorithms:"
      ],
      "metadata": {
        "id": "4lVA4QgjbWDj"
      }
    },
    {
      "cell_type": "markdown",
      "source": [
        "# **Unsupervised**"
      ],
      "metadata": {
        "id": "OkujGEKebbvq"
      }
    },
    {
      "cell_type": "markdown",
      "source": [
        "## **Statistical Methods**"
      ],
      "metadata": {
        "id": "lQ3fFg8ybrDb"
      }
    },
    {
      "cell_type": "markdown",
      "source": [
        "### **TF-IDF algorithm**"
      ],
      "metadata": {
        "id": "_lBHmuBBcc1B"
      }
    },
    {
      "cell_type": "code",
      "source": [
        "# 1. create a TfIdf extractor.\n",
        "extractor = pke.unsupervised.TfIdf()\n",
        "keywords_tfidf = []\n",
        "for index, row in df.iterrows():\n",
        "  \n",
        "  # 2. load the content of the document.\n",
        "  extractor.load_document(input = row[\"Text\"],\n",
        "                          language='en',\n",
        "                          normalization=None)\n",
        "\n",
        "  # 3. select {1-3}-grams not containing punctuation marks as candidates.\n",
        "  extractor.candidate_selection()\n",
        "\n",
        "  # 4. weight the candidates using a `tf` x `idf`\n",
        "  df = pke.load_document_frequency_file(input_file = \"df-semeval2010.tsv.gz\")\n",
        "  extractor.candidate_weighting(df=df)\n",
        "\n",
        "  # 5. get the 3-highest scored candidates as keyphrases\n",
        "  keyphrases = extractor.get_n_best(n=3)\n",
        "  keywords_tfidf.append(keyphrases)\n"
      ],
      "metadata": {
        "id": "PB1SEMrgaQX0"
      },
      "execution_count": null,
      "outputs": []
    },
    {
      "cell_type": "code",
      "source": [
        "with open(\"key_www_tfidf.txt\", \"w\") as external_file:\n",
        "  for keyphrase in keywords_tfidf:   \n",
        "    print(keyphrase, file=external_file)\n",
        "  external_file.close()"
      ],
      "metadata": {
        "id": "_EqPNXrBao3-"
      },
      "execution_count": null,
      "outputs": []
    },
    {
      "cell_type": "markdown",
      "source": [
        "### **KP-Miner algorithm**"
      ],
      "metadata": {
        "id": "Y8X-rnIoeIl9"
      }
    },
    {
      "cell_type": "code",
      "source": [
        "# 1. create a KPMiner extractor.\n",
        "extractor = pke.unsupervised.KPMiner()\n",
        "keywords_kpminer = []\n",
        "for index, row in df.iterrows():\n",
        "# 2. load the content of the document.\n",
        "  extractor.load_document(input=row[\"Text\"],\n",
        "                        language='en',\n",
        "                        normalization=None)\n",
        "\n",
        "\n",
        "# 3. select {1-5}-grams that do not contain punctuation marks or\n",
        "#    stopwords as keyphrase candidates. Set the least allowable seen\n",
        "#    frequency to 5 and the number of words after which candidates are\n",
        "#    filtered out to 200.\n",
        "\n",
        "  extractor.candidate_selection(lasf=1, cutoff=400)\n",
        "\n",
        "# 4. weight the candidates using KPMiner weighting function.\n",
        "  df = pke.load_document_frequency_file(input_file='df-semeval2010.tsv.gz')\n",
        "  alpha = 2.3\n",
        "  sigma = 3.0\n",
        "  extractor.candidate_weighting(df=df, alpha=alpha, sigma=sigma)\n",
        "\n",
        "# 5. get the 3-highest scored candidates as keyphrases\n",
        "  keyphrases = extractor.get_n_best(n=3)\n",
        "  keywords_kpminer.append(keyphrases)\n"
      ],
      "metadata": {
        "id": "jXLEahgSeZcF"
      },
      "execution_count": null,
      "outputs": []
    },
    {
      "cell_type": "code",
      "source": [
        "with open(\"key_www_KPMiner.txt\", \"w\") as external_file:\n",
        "  for keyphrase in keywords_kpminer:   \n",
        "    print(keyphrase, file=external_file)\n",
        "  external_file.close()"
      ],
      "metadata": {
        "id": "yB5KJ5VIJm1o"
      },
      "execution_count": null,
      "outputs": []
    },
    {
      "cell_type": "markdown",
      "source": [
        "## **Graph-Based Methods**"
      ],
      "metadata": {
        "id": "KkG9jWUUh3Vo"
      }
    },
    {
      "cell_type": "markdown",
      "source": [
        "### **Text Rank algorithm**"
      ],
      "metadata": {
        "id": "cNKdEuNniKEF"
      }
    },
    {
      "cell_type": "code",
      "source": [
        "# define the set of valid Part-of-Speeches\n",
        "pos = {'NOUN', 'PROPN', 'ADJ'}\n",
        "\n",
        "# 1. create a TextRank extractor.\n",
        "extractor = pke.unsupervised.TextRank()\n",
        "\n",
        "keywords_textrank = []\n",
        "for index, row in df.iterrows():\n",
        "\n",
        "  # 2. load the content of the document.\n",
        "  extractor.load_document(input=row[\"Text\"],\n",
        "                          language='en',\n",
        "                          normalization=None)\n",
        "\n",
        "  # 3. build the graph representation of the document and rank the words.\n",
        "  #    Keyphrase candidates are composed from the 33-percent\n",
        "  #    highest-ranked words.\n",
        "  extractor.candidate_weighting(window=2,\n",
        "                                pos=pos,\n",
        "                                top_percent=0.33)\n",
        "\n",
        "  # 4. get the 3-highest scored candidates as keyphrases\n",
        "  keyphrases = extractor.get_n_best(n=3)\n",
        "  keywords_textrank.append(keyphrases)\n"
      ],
      "metadata": {
        "id": "CfOKDe_WiaQz"
      },
      "execution_count": null,
      "outputs": []
    },
    {
      "cell_type": "code",
      "source": [
        "with open(\"key_www_textrank.txt\", \"w\") as external_file:\n",
        "  for keyphrase in keywords_textrank:   \n",
        "    print(keyphrase, file=external_file)\n",
        "  external_file.close()"
      ],
      "metadata": {
        "id": "IhgQJuuka5tA"
      },
      "execution_count": null,
      "outputs": []
    },
    {
      "cell_type": "markdown",
      "source": [
        "### **Single Rank algorithm**"
      ],
      "metadata": {
        "id": "16loOd75jhi9"
      }
    },
    {
      "cell_type": "code",
      "source": [
        "# define the set of valid Part-of-Speeches\n",
        "pos = {'NOUN', 'PROPN', 'ADJ'}\n",
        "\n",
        "# 1. create a SingleRank extractor.\n",
        "extractor = pke.unsupervised.SingleRank()\n",
        "\n",
        "keywords_singlerank = []\n",
        "for index, row in df.iterrows():\n",
        "  # 2. load the content of the document.\n",
        "  extractor.load_document(input = row[\"Text\"],\n",
        "                          language='en',\n",
        "                          normalization=None)\n",
        "\n",
        "  # 3. select the longest sequences of nouns and adjectives as candidates.\n",
        "  extractor.candidate_selection(pos=pos)\n",
        "\n",
        "  # 4. weight the candidates using the sum of their word's scores that are\n",
        "  #    computed using random walk. In the graph, nodes are words of\n",
        "  #    certain part-of-speech (nouns and adjectives) that are connected if\n",
        "  #    they occur in a window of 10 words.\n",
        "  extractor.candidate_weighting(window=10,\n",
        "                                pos=pos)\n",
        "\n",
        "  # 5. get the 3-highest scored candidates as keyphrases\n",
        "  keyphrases = extractor.get_n_best(n=3)\n",
        "  keywords_singlerank.append(keyphrases)\n"
      ],
      "metadata": {
        "id": "acU3eyQLjmhb"
      },
      "execution_count": null,
      "outputs": []
    },
    {
      "cell_type": "code",
      "source": [
        "with open(\"key_www_singlerank.txt\", \"w\") as external_file:\n",
        "  for keyphrase in keywords_singlerank:   \n",
        "    print(keyphrase, file=external_file)\n",
        "  external_file.close()"
      ],
      "metadata": {
        "id": "c4v-b-JFJ38y"
      },
      "execution_count": null,
      "outputs": []
    },
    {
      "cell_type": "markdown",
      "source": [
        "### **Topic Rank algorithm**"
      ],
      "metadata": {
        "id": "zX-or1wsmjI-"
      }
    },
    {
      "cell_type": "code",
      "source": [
        "# 1. create a TopicRank extractor.\n",
        "extractor = pke.unsupervised.TopicRank()\n",
        "\n",
        "keywords_topicrank = []\n",
        "\n",
        "for index, row in df.iterrows():\n",
        "  # 2. load the content of the document.\n",
        "  extractor.load_document(input = row[\"Text\"])\n",
        "\n",
        "  # 3. select the longest sequences of nouns and adjectives, that do\n",
        "  #    not contain punctuation marks or stopwords as candidates.\n",
        "  pos = {'NOUN', 'PROPN', 'ADJ'}\n",
        "  stoplist = list(string.punctuation)\n",
        "  stoplist += ['-lrb-', '-rrb-', '-lcb-', '-rcb-', '-lsb-', '-rsb-']\n",
        "  stoplist += stopwords.words('english')\n",
        "  extractor.candidate_selection(pos=pos)\n",
        "\n",
        "  # 4. build topics by grouping candidates with HAC (average linkage,\n",
        "  #    threshold of 1/4 of shared stems). Weight the topics using random\n",
        "  #    walk, and select the first occuring candidate from each topic.\n",
        "  extractor.candidate_weighting(threshold=0.74, method='average')\n",
        "\n",
        "  # 5. get the 3-highest scored candidates as keyphrases\n",
        "  keyphrases = extractor.get_n_best(n=3)\n",
        "  keywords_topicrank.append(keyphrases)\n"
      ],
      "metadata": {
        "id": "LMsg7Iz1nB4b"
      },
      "execution_count": null,
      "outputs": []
    },
    {
      "cell_type": "code",
      "source": [
        "with open(\"key_www_topicrank.txt\", \"w\") as external_file:\n",
        "  for keyphrase in keywords_topicrank:   \n",
        "    print(keyphrase, file=external_file)\n",
        "  external_file.close()"
      ],
      "metadata": {
        "id": "SQQEfmuYJ-7J"
      },
      "execution_count": null,
      "outputs": []
    },
    {
      "cell_type": "markdown",
      "source": [
        "### **Position Rank algorithm**"
      ],
      "metadata": {
        "id": "mQYVJKWGpRBr"
      }
    },
    {
      "cell_type": "code",
      "source": [
        "# define the valid Part-of-Speeches to occur in the graph\n",
        "pos = {'NOUN', 'PROPN', 'ADJ'}\n",
        "\n",
        "# define the grammar for selecting the keyphrase candidates\n",
        "grammar = \"NP: {<ADJ>*<NOUN|PROPN>+}\"\n",
        "extractor = pke.unsupervised.PositionRank()\n",
        "keywords_positionrank = []\n",
        "for index, row in df.iterrows():\n",
        "# 1. create a PositionRank extractor.\n",
        "\n",
        "# 2. load the content of the document.\n",
        "  extractor.load_document(input=row[\"Text\"],\n",
        "                        language='en',\n",
        "                        normalization=None)\n",
        "\n",
        "# 3. select the noun phrases up to 3 words as keyphrase candidates.\n",
        "  extractor.candidate_selection(grammar=grammar,\n",
        "                              maximum_word_number=3)\n",
        "\n",
        "# 4. weight the candidates using the sum of their word's scores that are\n",
        "#    computed using random walk biaised with the position of the words\n",
        "#    in the document. In the graph, nodes are words (nouns and\n",
        "#    adjectives only) that are connected if they occur in a window of\n",
        "#    10 words.\n",
        "  extractor.candidate_weighting(window=10,\n",
        "                              pos=pos)\n",
        "\n",
        "# 5. get the 3-highest scored candidates as keyphrases\n",
        "  keyphrases = extractor.get_n_best(n=3)\n",
        "  keywords_positionrank.append(keyphrases)\n"
      ],
      "metadata": {
        "id": "7iOLqr3XpYS0"
      },
      "execution_count": null,
      "outputs": []
    },
    {
      "cell_type": "code",
      "source": [
        "with open(\"key_www_positionrank.txt\", \"w\") as external_file:\n",
        "  for keyphrase in keywords_positionrank:   \n",
        "    print(keyphrase, file=external_file)\n",
        "  external_file.close()"
      ],
      "metadata": {
        "id": "mQSGbD6VKHH5"
      },
      "execution_count": null,
      "outputs": []
    },
    {
      "cell_type": "markdown",
      "source": [
        "# **Supervised**"
      ],
      "metadata": {
        "id": "9slwquBXqbxc"
      }
    },
    {
      "cell_type": "markdown",
      "source": [
        "## **Binary**"
      ],
      "metadata": {
        "id": "AcsJKe_IrBNJ"
      }
    },
    {
      "cell_type": "markdown",
      "source": [
        "### **KEA algorithm**"
      ],
      "metadata": {
        "id": "-v6QktWgrKye"
      }
    },
    {
      "cell_type": "code",
      "source": [
        "# define a list of stopwords\n",
        "stoplist = stopwords.words('english')\n",
        "\n",
        "# 1. create a Kea extractor.\n",
        "extractor = pke.supervised.Kea()\n",
        "keywords_kea = []\n",
        "for index, row in df.iterrows():\n",
        "# 2. load the content of the document.\n",
        "  extractor.load_document(input=row[\"Text\"],\n",
        "                        language='en',\n",
        "                        normalization=None)\n",
        "\n",
        "# 3. select 1-3 grams that do not start or end with a stopword as\n",
        "#    candidates. Candidates that contain punctuation marks as words\n",
        "#    are discarded.\n",
        "  extractor.candidate_selection()\n",
        "\n",
        "# 4. classify candidates as keyphrase or not keyphrase.\n",
        "  df = pke.load_document_frequency_file(input_file='df-semeval2010.tsv.gz')\n",
        "  model_file = 'Kea-semeval2010.py3.pickle'\n",
        "  extractor.candidate_weighting(model_file=model_file,\n",
        "                              df=df)\n",
        "\n",
        "# 5. get the 3-highest scored candidates as keyphrases\n",
        "  keyphrases = extractor.get_n_best(n=3)\n",
        "  keywords_kea.append(keyphrases)\n"
      ],
      "metadata": {
        "id": "Y2GyMbYQrIIU"
      },
      "execution_count": null,
      "outputs": []
    },
    {
      "cell_type": "code",
      "source": [
        "with open(\"key_www_kea.txt\", \"w\") as external_file:\n",
        "  for keyphrase in keywords_kea:   \n",
        "    print(keyphrase, file=external_file)\n",
        "  external_file.close()"
      ],
      "metadata": {
        "id": "dXEIgfVyKUCM"
      },
      "execution_count": null,
      "outputs": []
    },
    {
      "cell_type": "markdown",
      "source": [
        "# **YAKE! algorithm**"
      ],
      "metadata": {
        "id": "d6Y4EiKjr0ek"
      }
    },
    {
      "cell_type": "code",
      "source": [
        "# 1. create a YAKE extractor.\n",
        "extractor = pke.unsupervised.YAKE()\n",
        "\n",
        "keywords_yake = []\n",
        "for index, row in df.iterrows():\n",
        "# 2. load the content of the document.\n",
        "\n",
        "  extractor.load_document(input=row[\"Text\"],language='en')\n",
        "\n",
        "\n",
        "# 3. select {1-3}-grams not containing punctuation marks and not\n",
        "#    beginning/ending with a stopword as candidates.\n",
        "  stoplist = stopwords.words('english')\n",
        "  extractor.candidate_selection(n=3)\n",
        "\n",
        "# 4. weight the candidates using YAKE weighting scheme, a window (in\n",
        "#    words) for computing left/right contexts can be specified.\n",
        "  window = 2\n",
        "  use_stems = False # use stems instead of words for weighting\n",
        "  extractor.candidate_weighting(window=2)\n",
        "\n",
        "# 5. get the 3-highest scored candidates as keyphrases.\n",
        "#    redundant keyphrases are removed from the output using levenshtein\n",
        "#    distance and a threshold.\n",
        "  threshold = 0.8\n",
        "  keyphrases = extractor.get_n_best(n=3, threshold=threshold)\n",
        "  keywords_yake.append(keyphrases)\n",
        "\n"
      ],
      "metadata": {
        "id": "jgemcNzzsCwM"
      },
      "execution_count": null,
      "outputs": []
    },
    {
      "cell_type": "code",
      "source": [
        "with open(\"key_www_yake.txt\", \"w\") as external_file:\n",
        "  for keyphrase in keywords_yake:   \n",
        "    print(keyphrase, file=external_file)\n",
        "  external_file.close()"
      ],
      "metadata": {
        "id": "7nl7HtBRKYl0"
      },
      "execution_count": null,
      "outputs": []
    },
    {
      "cell_type": "markdown",
      "source": [
        "# Data Preprocessing"
      ],
      "metadata": {
        "id": "QVZeb-mKFVLu"
      }
    },
    {
      "cell_type": "code",
      "source": [
        "import re"
      ],
      "metadata": {
        "id": "kjDOmxBFy8_Z"
      },
      "execution_count": null,
      "outputs": []
    },
    {
      "cell_type": "code",
      "source": [
        "list=[\"www_KPMiner.txt\",\"www_positionrank.txt\",\"www_yake.txt\",\"www_kea.txt\",\"www_tfidf.txt\",\"www_topicrank.txt\",\"www_textrank.txt\",\"www_singlerank.txt\"]\n",
        "for file in list:\n",
        "  with open(f'{file}', 'r') as infile,open(f'key_{file}', 'w') as outfile:\n",
        "      data = infile.read()\n",
        "      data = re.sub(r\"[0-9]\", \"\", data)\n",
        "      data = data.replace(\"(\", \"\").replace(\"),\", \"\").replace(\".\",\"\").replace(\"'\",\"\").replace(\"  \",\" \").replace(\"[\",\"\").replace(\"]\",\"\").replace(\", )\",\"\")\n",
        "      outfile.write(data)"
      ],
      "metadata": {
        "id": "ZKfnYbalSgds"
      },
      "execution_count": null,
      "outputs": []
    },
    {
      "cell_type": "code",
      "source": [
        "import pandas as pd\n",
        "df1 = pd.read_csv(\"www_text.csv\")\n",
        "df2 = pd.read_csv(\"www_keys.csv\", sep = \"delimiter\")\n",
        "df3=pd.read_csv(\"key_www_tfidf.txt\",sep = \"delimiter\", header=None)\n",
        "df4=pd.read_csv(\"key_www_textrank.txt\",sep = \"delimiter\", header=None)\n",
        "df5=pd.read_csv(\"key_www_topicrank.txt\",sep = \"delimiter\", header=None)\n",
        "df6=pd.read_csv(\"key_www_singlerank.txt\",sep = \"delimiter\", header=None)\n",
        "df7=pd.read_csv(\"key_www_positionrank.txt\",sep = \"delimiter\", header=None)\n",
        "df8=pd.read_csv(\"key_www_kea.txt\",sep = \"delimiter\", header=None)\n",
        "df9=pd.read_csv(\"key_www_KPMiner.txt\",sep = \"delimiter\", header=None)\n",
        "df10=pd.read_csv(\"key_www_yake.txt\",sep = \"delimiter\", header=None)\n",
        "# Merge all the tables\n",
        "\n",
        "df1[\"Key\"] = df2\n",
        "df1[\"key_tfidf\"]=df3\n",
        "df1[\"key_textrank\"]=df4\n",
        "df1[\"key_topicrank\"]=df5\n",
        "df1[\"key_singlerank\"]=df6\n",
        "df1[\"key_positionrank\"]=df7\n",
        "df1[\"key_kea\"]=df8\n",
        "df1[\"key_KPMiner\"]=df9\n",
        "df1[\"key_yake\"]=df10\n",
        "df = df1\n",
        "\n",
        "#Display the dataset\n",
        "df.head()"
      ],
      "metadata": {
        "colab": {
          "base_uri": "https://localhost:8080/",
          "height": 548
        },
        "id": "QFMbs1iLSkRW",
        "outputId": "401a8219-a237-4758-c8ca-07ffe01fbcfc"
      },
      "execution_count": null,
      "outputs": [
        {
          "output_type": "stream",
          "name": "stderr",
          "text": [
            "/usr/local/lib/python3.7/dist-packages/pandas/util/_decorators.py:311: ParserWarning: Falling back to the 'python' engine because the 'c' engine does not support regex separators (separators > 1 char and different from '\\s+' are interpreted as regex); you can avoid this warning by specifying engine='python'.\n",
            "  return func(*args, **kwargs)\n"
          ]
        },
        {
          "output_type": "execute_result",
          "data": {
            "text/plain": [
              "                                                Text  \\\n",
              "0  Autonomous resource provisioning for multi-ser...   \n",
              "1  Collaborative filtering for orkut communities:...   \n",
              "2  A trust management framework for service-orien...   \n",
              "3  A client-server architecture for state-depende...   \n",
              "4  Rapid development of spreadsheet-based web mas...   \n",
              "\n",
              "                                                 Key  \\\n",
              "0    multi-service application,resource provisioning   \n",
              "1  association rule mining,collaborative filterin...   \n",
              "2  distributed systems,reputation,security and pr...   \n",
              "3                patterns,rich internet applications   \n",
              "4  component model,graphical user interfaces,inte...   \n",
              "\n",
              "                                           key_tfidf  \\\n",
              "0      resource, resource provisioning, provisioning   \n",
              "1  communities, collaborative, collaborative filt...   \n",
              "2      management, reputation, reputation management   \n",
              "3  client-server, client-server architecture, arc...   \n",
              "4                               mashups, sites, apis   \n",
              "\n",
              "                                        key_textrank  \\\n",
              "0  web applications, resource, web, applications,...   \n",
              "1  latent behavior, collaborative filtering, netw...   \n",
              "2  environments many reputation management, reput...   \n",
              "3                                enterprise, dynamic   \n",
              "4            web sites, networking sites, web, rapid   \n",
              "\n",
              "                                       key_topicrank  \\\n",
              "0  web application, pre-defined sla, end-to-end r...   \n",
              "1  orkut communities, user latent behavior users,...   \n",
              "2  reputation management, entity, previous work, ...   \n",
              "3  web, state-dependent dynamic visualizations, s...   \n",
              "4  spreadsheet-based web mashups, rapid developme...   \n",
              "\n",
              "                                      key_singlerank  \\\n",
              "0  multi-service web applications dynamic resourc...   \n",
              "1  user latent behavior users, orkut communities,...   \n",
              "2  service-oriented environments many reputation ...   \n",
              "3  state-dependent dynamic visualizations, sophis...   \n",
              "4  spreadsheet-based web mashups, web sites, soci...   \n",
              "\n",
              "                                    key_positionrank  \\\n",
              "0  autonomous resource provisioning, dynamic reso...   \n",
              "1  orkut communities, collaborative filtering, so...   \n",
              "2  trust management framework, reputation managem...   \n",
              "3  state-dependent dynamic visualizations, sophis...   \n",
              "4  spreadsheet-based web mashups, web sites, soci...   \n",
              "\n",
              "                                             key_kea  \\\n",
              "0  resource, resource provisioning, provisioning,...   \n",
              "1  communities, collaborative, collaborative filt...   \n",
              "2  management, reputation, reputation management,...   \n",
              "3  client-server, client-server architecture, arc...   \n",
              "4  mashups, sites, apis, rapid, rapid development...   \n",
              "\n",
              "                                         key_KPMiner  \\\n",
              "0  resource, provisioning, applications, resource...   \n",
              "1  communities, collaborative filtering, orkut co...   \n",
              "2  management, reputation, reputation management,...   \n",
              "3  client-server architecture, state-dependent dy...   \n",
              "4  mashups, sites, apis, rapid development, sprea...   \n",
              "\n",
              "                                            key_yake  \n",
              "0  dynamic resource provisioning, autonomous reso...  \n",
              "1  latent behavior users, user latent behavior, s...  \n",
              "2  trust management framework, scoring function, ...  \n",
              "3  state-dependent dynamic visualizations, sophis...  \n",
              "4  assembling existing functionalities, social ne...  "
            ],
            "text/html": [
              "\n",
              "  <div id=\"df-1e8221ef-01db-4089-a1d3-9cedd7766a3d\">\n",
              "    <div class=\"colab-df-container\">\n",
              "      <div>\n",
              "<style scoped>\n",
              "    .dataframe tbody tr th:only-of-type {\n",
              "        vertical-align: middle;\n",
              "    }\n",
              "\n",
              "    .dataframe tbody tr th {\n",
              "        vertical-align: top;\n",
              "    }\n",
              "\n",
              "    .dataframe thead th {\n",
              "        text-align: right;\n",
              "    }\n",
              "</style>\n",
              "<table border=\"1\" class=\"dataframe\">\n",
              "  <thead>\n",
              "    <tr style=\"text-align: right;\">\n",
              "      <th></th>\n",
              "      <th>Text</th>\n",
              "      <th>Key</th>\n",
              "      <th>key_tfidf</th>\n",
              "      <th>key_textrank</th>\n",
              "      <th>key_topicrank</th>\n",
              "      <th>key_singlerank</th>\n",
              "      <th>key_positionrank</th>\n",
              "      <th>key_kea</th>\n",
              "      <th>key_KPMiner</th>\n",
              "      <th>key_yake</th>\n",
              "    </tr>\n",
              "  </thead>\n",
              "  <tbody>\n",
              "    <tr>\n",
              "      <th>0</th>\n",
              "      <td>Autonomous resource provisioning for multi-ser...</td>\n",
              "      <td>multi-service application,resource provisioning</td>\n",
              "      <td>resource, resource provisioning, provisioning</td>\n",
              "      <td>web applications, resource, web, applications,...</td>\n",
              "      <td>web application, pre-defined sla, end-to-end r...</td>\n",
              "      <td>multi-service web applications dynamic resourc...</td>\n",
              "      <td>autonomous resource provisioning, dynamic reso...</td>\n",
              "      <td>resource, resource provisioning, provisioning,...</td>\n",
              "      <td>resource, provisioning, applications, resource...</td>\n",
              "      <td>dynamic resource provisioning, autonomous reso...</td>\n",
              "    </tr>\n",
              "    <tr>\n",
              "      <th>1</th>\n",
              "      <td>Collaborative filtering for orkut communities:...</td>\n",
              "      <td>association rule mining,collaborative filterin...</td>\n",
              "      <td>communities, collaborative, collaborative filt...</td>\n",
              "      <td>latent behavior, collaborative filtering, netw...</td>\n",
              "      <td>orkut communities, user latent behavior users,...</td>\n",
              "      <td>user latent behavior users, orkut communities,...</td>\n",
              "      <td>orkut communities, collaborative filtering, so...</td>\n",
              "      <td>communities, collaborative, collaborative filt...</td>\n",
              "      <td>communities, collaborative filtering, orkut co...</td>\n",
              "      <td>latent behavior users, user latent behavior, s...</td>\n",
              "    </tr>\n",
              "    <tr>\n",
              "      <th>2</th>\n",
              "      <td>A trust management framework for service-orien...</td>\n",
              "      <td>distributed systems,reputation,security and pr...</td>\n",
              "      <td>management, reputation, reputation management</td>\n",
              "      <td>environments many reputation management, reput...</td>\n",
              "      <td>reputation management, entity, previous work, ...</td>\n",
              "      <td>service-oriented environments many reputation ...</td>\n",
              "      <td>trust management framework, reputation managem...</td>\n",
              "      <td>management, reputation, reputation management,...</td>\n",
              "      <td>management, reputation, reputation management,...</td>\n",
              "      <td>trust management framework, scoring function, ...</td>\n",
              "    </tr>\n",
              "    <tr>\n",
              "      <th>3</th>\n",
              "      <td>A client-server architecture for state-depende...</td>\n",
              "      <td>patterns,rich internet applications</td>\n",
              "      <td>client-server, client-server architecture, arc...</td>\n",
              "      <td>enterprise, dynamic</td>\n",
              "      <td>web, state-dependent dynamic visualizations, s...</td>\n",
              "      <td>state-dependent dynamic visualizations, sophis...</td>\n",
              "      <td>state-dependent dynamic visualizations, sophis...</td>\n",
              "      <td>client-server, client-server architecture, arc...</td>\n",
              "      <td>client-server architecture, state-dependent dy...</td>\n",
              "      <td>state-dependent dynamic visualizations, sophis...</td>\n",
              "    </tr>\n",
              "    <tr>\n",
              "      <th>4</th>\n",
              "      <td>Rapid development of spreadsheet-based web mas...</td>\n",
              "      <td>component model,graphical user interfaces,inte...</td>\n",
              "      <td>mashups, sites, apis</td>\n",
              "      <td>web sites, networking sites, web, rapid</td>\n",
              "      <td>spreadsheet-based web mashups, rapid developme...</td>\n",
              "      <td>spreadsheet-based web mashups, web sites, soci...</td>\n",
              "      <td>spreadsheet-based web mashups, web sites, soci...</td>\n",
              "      <td>mashups, sites, apis, rapid, rapid development...</td>\n",
              "      <td>mashups, sites, apis, rapid development, sprea...</td>\n",
              "      <td>assembling existing functionalities, social ne...</td>\n",
              "    </tr>\n",
              "  </tbody>\n",
              "</table>\n",
              "</div>\n",
              "      <button class=\"colab-df-convert\" onclick=\"convertToInteractive('df-1e8221ef-01db-4089-a1d3-9cedd7766a3d')\"\n",
              "              title=\"Convert this dataframe to an interactive table.\"\n",
              "              style=\"display:none;\">\n",
              "        \n",
              "  <svg xmlns=\"http://www.w3.org/2000/svg\" height=\"24px\"viewBox=\"0 0 24 24\"\n",
              "       width=\"24px\">\n",
              "    <path d=\"M0 0h24v24H0V0z\" fill=\"none\"/>\n",
              "    <path d=\"M18.56 5.44l.94 2.06.94-2.06 2.06-.94-2.06-.94-.94-2.06-.94 2.06-2.06.94zm-11 1L8.5 8.5l.94-2.06 2.06-.94-2.06-.94L8.5 2.5l-.94 2.06-2.06.94zm10 10l.94 2.06.94-2.06 2.06-.94-2.06-.94-.94-2.06-.94 2.06-2.06.94z\"/><path d=\"M17.41 7.96l-1.37-1.37c-.4-.4-.92-.59-1.43-.59-.52 0-1.04.2-1.43.59L10.3 9.45l-7.72 7.72c-.78.78-.78 2.05 0 2.83L4 21.41c.39.39.9.59 1.41.59.51 0 1.02-.2 1.41-.59l7.78-7.78 2.81-2.81c.8-.78.8-2.07 0-2.86zM5.41 20L4 18.59l7.72-7.72 1.47 1.35L5.41 20z\"/>\n",
              "  </svg>\n",
              "      </button>\n",
              "      \n",
              "  <style>\n",
              "    .colab-df-container {\n",
              "      display:flex;\n",
              "      flex-wrap:wrap;\n",
              "      gap: 12px;\n",
              "    }\n",
              "\n",
              "    .colab-df-convert {\n",
              "      background-color: #E8F0FE;\n",
              "      border: none;\n",
              "      border-radius: 50%;\n",
              "      cursor: pointer;\n",
              "      display: none;\n",
              "      fill: #1967D2;\n",
              "      height: 32px;\n",
              "      padding: 0 0 0 0;\n",
              "      width: 32px;\n",
              "    }\n",
              "\n",
              "    .colab-df-convert:hover {\n",
              "      background-color: #E2EBFA;\n",
              "      box-shadow: 0px 1px 2px rgba(60, 64, 67, 0.3), 0px 1px 3px 1px rgba(60, 64, 67, 0.15);\n",
              "      fill: #174EA6;\n",
              "    }\n",
              "\n",
              "    [theme=dark] .colab-df-convert {\n",
              "      background-color: #3B4455;\n",
              "      fill: #D2E3FC;\n",
              "    }\n",
              "\n",
              "    [theme=dark] .colab-df-convert:hover {\n",
              "      background-color: #434B5C;\n",
              "      box-shadow: 0px 1px 3px 1px rgba(0, 0, 0, 0.15);\n",
              "      filter: drop-shadow(0px 1px 2px rgba(0, 0, 0, 0.3));\n",
              "      fill: #FFFFFF;\n",
              "    }\n",
              "  </style>\n",
              "\n",
              "      <script>\n",
              "        const buttonEl =\n",
              "          document.querySelector('#df-1e8221ef-01db-4089-a1d3-9cedd7766a3d button.colab-df-convert');\n",
              "        buttonEl.style.display =\n",
              "          google.colab.kernel.accessAllowed ? 'block' : 'none';\n",
              "\n",
              "        async function convertToInteractive(key) {\n",
              "          const element = document.querySelector('#df-1e8221ef-01db-4089-a1d3-9cedd7766a3d');\n",
              "          const dataTable =\n",
              "            await google.colab.kernel.invokeFunction('convertToInteractive',\n",
              "                                                     [key], {});\n",
              "          if (!dataTable) return;\n",
              "\n",
              "          const docLinkHtml = 'Like what you see? Visit the ' +\n",
              "            '<a target=\"_blank\" href=https://colab.research.google.com/notebooks/data_table.ipynb>data table notebook</a>'\n",
              "            + ' to learn more about interactive tables.';\n",
              "          element.innerHTML = '';\n",
              "          dataTable['output_type'] = 'display_data';\n",
              "          await google.colab.output.renderOutput(dataTable, element);\n",
              "          const docLink = document.createElement('div');\n",
              "          docLink.innerHTML = docLinkHtml;\n",
              "          element.appendChild(docLink);\n",
              "        }\n",
              "      </script>\n",
              "    </div>\n",
              "  </div>\n",
              "  "
            ]
          },
          "metadata": {},
          "execution_count": 12
        }
      ]
    },
    {
      "cell_type": "markdown",
      "source": [
        "# Evaluation F1 Score "
      ],
      "metadata": {
        "id": "jBWg4CdebG_l"
      }
    },
    {
      "cell_type": "code",
      "source": [
        "from sklearn.metrics import f1_score\n",
        "\n",
        "df = pd.read_csv(\"www_text.csv\")\n",
        "df2 = pd.read_csv(\"www_keys.csv\", sep = \"delimiter\")\n",
        "\n",
        "\n",
        "\n",
        "df[\"Key\"] = df2\n",
        "df[\"key_tfidf\"]=[f1_score(k, df3.values.tolist(), average='macro')  for k in df2.values.tolist()]\n",
        "df[\"key_textrank\"]=[f1_score(k, df4.values.tolist(), average='macro')  for k in df2.values.tolist()]\n",
        "df[\"key_topicrank\"]=[f1_score(k, df5.values.tolist(), average='macro')  for k in df2.values.tolist()]\n",
        "df[\"key_singlerank\"]=[f1_score(k, df6.values.tolist(), average='macro')  for k in df2.values.tolist()]\n",
        "df[\"key_positionrank\"]=[f1_score(k, df7.values.tolist(), average='macro')  for k in df2.values.tolist()]\n",
        "df[\"key_kea\"]=[f1_score(k, df8.values.tolist(), average='macro')  for k in df2.values.tolist()]\n",
        "df[\"key_KPMiner\"]=[f1_score(k, df9.values.tolist(), average='macro')  for k in df2.values.tolist()]\n",
        "df[\"key_yake\"]=[f1_score(k, df10.values.tolist(), average='macro')  for k in df2.values.tolist()]\n",
        "df_fin = df\n",
        "\n",
        "#Display the dataset\n",
        "df_fin.head()"
      ],
      "metadata": {
        "colab": {
          "base_uri": "https://localhost:8080/",
          "height": 305
        },
        "id": "6H4QXQV4Ss9o",
        "outputId": "8b5a4dd1-a876-4e78-8715-d4680426d1bb"
      },
      "execution_count": null,
      "outputs": [
        {
          "output_type": "stream",
          "name": "stderr",
          "text": [
            "/usr/local/lib/python3.7/dist-packages/pandas/util/_decorators.py:311: ParserWarning: Falling back to the 'python' engine because the 'c' engine does not support regex separators (separators > 1 char and different from '\\s+' are interpreted as regex); you can avoid this warning by specifying engine='python'.\n",
            "  return func(*args, **kwargs)\n"
          ]
        },
        {
          "output_type": "execute_result",
          "data": {
            "text/plain": [
              "                                                Text  \\\n",
              "0  Autonomous resource provisioning for multi-ser...   \n",
              "1  Collaborative filtering for orkut communities:...   \n",
              "2  A trust management framework for service-orien...   \n",
              "3  A client-server architecture for state-depende...   \n",
              "4  Rapid development of spreadsheet-based web mas...   \n",
              "\n",
              "                                                 Key  key_tfidf  key_textrank  \\\n",
              "0    multi-service application,resource provisioning   0.151692      0.002534   \n",
              "1  association rule mining,collaborative filterin...   0.177852      0.178275   \n",
              "2  distributed systems,reputation,security and pr...   0.266717      0.395543   \n",
              "3                patterns,rich internet applications   0.071725      0.251334   \n",
              "4  component model,graphical user interfaces,inte...   0.308461      0.362926   \n",
              "\n",
              "   key_topicrank  key_singlerank  key_positionrank   key_kea  key_KPMiner  \\\n",
              "0       0.186242        0.312154          0.190092  0.281513     0.362015   \n",
              "1       0.234805        0.445987          0.327046  0.082596     0.383321   \n",
              "2       0.173589        0.380328          0.157830  0.279216     0.316630   \n",
              "3       0.206449        0.165931          0.241118  0.158551     0.117267   \n",
              "4       0.258690        0.388427          0.058740  0.201567     0.196575   \n",
              "\n",
              "   key_yake  \n",
              "0  0.178760  \n",
              "1  0.307297  \n",
              "2  0.263442  \n",
              "3  0.027660  \n",
              "4  0.079176  "
            ],
            "text/html": [
              "\n",
              "  <div id=\"df-6ac56577-21b0-4e19-ae01-29edd5c5372b\">\n",
              "    <div class=\"colab-df-container\">\n",
              "      <div>\n",
              "<style scoped>\n",
              "    .dataframe tbody tr th:only-of-type {\n",
              "        vertical-align: middle;\n",
              "    }\n",
              "\n",
              "    .dataframe tbody tr th {\n",
              "        vertical-align: top;\n",
              "    }\n",
              "\n",
              "    .dataframe thead th {\n",
              "        text-align: right;\n",
              "    }\n",
              "</style>\n",
              "<table border=\"1\" class=\"dataframe\">\n",
              "  <thead>\n",
              "    <tr style=\"text-align: right;\">\n",
              "      <th></th>\n",
              "      <th>Text</th>\n",
              "      <th>Key</th>\n",
              "      <th>key_tfidf</th>\n",
              "      <th>key_textrank</th>\n",
              "      <th>key_topicrank</th>\n",
              "      <th>key_singlerank</th>\n",
              "      <th>key_positionrank</th>\n",
              "      <th>key_kea</th>\n",
              "      <th>key_KPMiner</th>\n",
              "      <th>key_yake</th>\n",
              "    </tr>\n",
              "  </thead>\n",
              "  <tbody>\n",
              "    <tr>\n",
              "      <th>0</th>\n",
              "      <td>Autonomous resource provisioning for multi-ser...</td>\n",
              "      <td>multi-service application,resource provisioning</td>\n",
              "      <td>0.151692</td>\n",
              "      <td>0.002534</td>\n",
              "      <td>0.186242</td>\n",
              "      <td>0.312154</td>\n",
              "      <td>0.190092</td>\n",
              "      <td>0.281513</td>\n",
              "      <td>0.362015</td>\n",
              "      <td>0.178760</td>\n",
              "    </tr>\n",
              "    <tr>\n",
              "      <th>1</th>\n",
              "      <td>Collaborative filtering for orkut communities:...</td>\n",
              "      <td>association rule mining,collaborative filterin...</td>\n",
              "      <td>0.177852</td>\n",
              "      <td>0.178275</td>\n",
              "      <td>0.234805</td>\n",
              "      <td>0.445987</td>\n",
              "      <td>0.327046</td>\n",
              "      <td>0.082596</td>\n",
              "      <td>0.383321</td>\n",
              "      <td>0.307297</td>\n",
              "    </tr>\n",
              "    <tr>\n",
              "      <th>2</th>\n",
              "      <td>A trust management framework for service-orien...</td>\n",
              "      <td>distributed systems,reputation,security and pr...</td>\n",
              "      <td>0.266717</td>\n",
              "      <td>0.395543</td>\n",
              "      <td>0.173589</td>\n",
              "      <td>0.380328</td>\n",
              "      <td>0.157830</td>\n",
              "      <td>0.279216</td>\n",
              "      <td>0.316630</td>\n",
              "      <td>0.263442</td>\n",
              "    </tr>\n",
              "    <tr>\n",
              "      <th>3</th>\n",
              "      <td>A client-server architecture for state-depende...</td>\n",
              "      <td>patterns,rich internet applications</td>\n",
              "      <td>0.071725</td>\n",
              "      <td>0.251334</td>\n",
              "      <td>0.206449</td>\n",
              "      <td>0.165931</td>\n",
              "      <td>0.241118</td>\n",
              "      <td>0.158551</td>\n",
              "      <td>0.117267</td>\n",
              "      <td>0.027660</td>\n",
              "    </tr>\n",
              "    <tr>\n",
              "      <th>4</th>\n",
              "      <td>Rapid development of spreadsheet-based web mas...</td>\n",
              "      <td>component model,graphical user interfaces,inte...</td>\n",
              "      <td>0.308461</td>\n",
              "      <td>0.362926</td>\n",
              "      <td>0.258690</td>\n",
              "      <td>0.388427</td>\n",
              "      <td>0.058740</td>\n",
              "      <td>0.201567</td>\n",
              "      <td>0.196575</td>\n",
              "      <td>0.079176</td>\n",
              "    </tr>\n",
              "  </tbody>\n",
              "</table>\n",
              "</div>\n",
              "      <button class=\"colab-df-convert\" onclick=\"convertToInteractive('df-6ac56577-21b0-4e19-ae01-29edd5c5372b')\"\n",
              "              title=\"Convert this dataframe to an interactive table.\"\n",
              "              style=\"display:none;\">\n",
              "        \n",
              "  <svg xmlns=\"http://www.w3.org/2000/svg\" height=\"24px\"viewBox=\"0 0 24 24\"\n",
              "       width=\"24px\">\n",
              "    <path d=\"M0 0h24v24H0V0z\" fill=\"none\"/>\n",
              "    <path d=\"M18.56 5.44l.94 2.06.94-2.06 2.06-.94-2.06-.94-.94-2.06-.94 2.06-2.06.94zm-11 1L8.5 8.5l.94-2.06 2.06-.94-2.06-.94L8.5 2.5l-.94 2.06-2.06.94zm10 10l.94 2.06.94-2.06 2.06-.94-2.06-.94-.94-2.06-.94 2.06-2.06.94z\"/><path d=\"M17.41 7.96l-1.37-1.37c-.4-.4-.92-.59-1.43-.59-.52 0-1.04.2-1.43.59L10.3 9.45l-7.72 7.72c-.78.78-.78 2.05 0 2.83L4 21.41c.39.39.9.59 1.41.59.51 0 1.02-.2 1.41-.59l7.78-7.78 2.81-2.81c.8-.78.8-2.07 0-2.86zM5.41 20L4 18.59l7.72-7.72 1.47 1.35L5.41 20z\"/>\n",
              "  </svg>\n",
              "      </button>\n",
              "      \n",
              "  <style>\n",
              "    .colab-df-container {\n",
              "      display:flex;\n",
              "      flex-wrap:wrap;\n",
              "      gap: 12px;\n",
              "    }\n",
              "\n",
              "    .colab-df-convert {\n",
              "      background-color: #E8F0FE;\n",
              "      border: none;\n",
              "      border-radius: 50%;\n",
              "      cursor: pointer;\n",
              "      display: none;\n",
              "      fill: #1967D2;\n",
              "      height: 32px;\n",
              "      padding: 0 0 0 0;\n",
              "      width: 32px;\n",
              "    }\n",
              "\n",
              "    .colab-df-convert:hover {\n",
              "      background-color: #E2EBFA;\n",
              "      box-shadow: 0px 1px 2px rgba(60, 64, 67, 0.3), 0px 1px 3px 1px rgba(60, 64, 67, 0.15);\n",
              "      fill: #174EA6;\n",
              "    }\n",
              "\n",
              "    [theme=dark] .colab-df-convert {\n",
              "      background-color: #3B4455;\n",
              "      fill: #D2E3FC;\n",
              "    }\n",
              "\n",
              "    [theme=dark] .colab-df-convert:hover {\n",
              "      background-color: #434B5C;\n",
              "      box-shadow: 0px 1px 3px 1px rgba(0, 0, 0, 0.15);\n",
              "      filter: drop-shadow(0px 1px 2px rgba(0, 0, 0, 0.3));\n",
              "      fill: #FFFFFF;\n",
              "    }\n",
              "  </style>\n",
              "\n",
              "      <script>\n",
              "        const buttonEl =\n",
              "          document.querySelector('#df-6ac56577-21b0-4e19-ae01-29edd5c5372b button.colab-df-convert');\n",
              "        buttonEl.style.display =\n",
              "          google.colab.kernel.accessAllowed ? 'block' : 'none';\n",
              "\n",
              "        async function convertToInteractive(key) {\n",
              "          const element = document.querySelector('#df-6ac56577-21b0-4e19-ae01-29edd5c5372b');\n",
              "          const dataTable =\n",
              "            await google.colab.kernel.invokeFunction('convertToInteractive',\n",
              "                                                     [key], {});\n",
              "          if (!dataTable) return;\n",
              "\n",
              "          const docLinkHtml = 'Like what you see? Visit the ' +\n",
              "            '<a target=\"_blank\" href=https://colab.research.google.com/notebooks/data_table.ipynb>data table notebook</a>'\n",
              "            + ' to learn more about interactive tables.';\n",
              "          element.innerHTML = '';\n",
              "          dataTable['output_type'] = 'display_data';\n",
              "          await google.colab.output.renderOutput(dataTable, element);\n",
              "          const docLink = document.createElement('div');\n",
              "          docLink.innerHTML = docLinkHtml;\n",
              "          element.appendChild(docLink);\n",
              "        }\n",
              "      </script>\n",
              "    </div>\n",
              "  </div>\n",
              "  "
            ]
          },
          "metadata": {},
          "execution_count": 16
        }
      ]
    },
    {
      "cell_type": "code",
      "source": [
        "\n",
        "d = {'key_tfidf': [df[\"key_tfidf\"].mean()], 'key_textrank': [df[\"key_textrank\"].mean()], 'key_topicrank': [df[\"key_topicrank\"].mean()], 'key_singlerank': [df[\"key_singlerank\"].mean()], 'key_positionrank': [df[\"key_positionrank\"].mean()], 'key_kea': [df[\"key_kea\"].mean()], 'key_KPMiner': [df[\"key_KPMiner\"].mean()], 'key_yake': [df[\"key_yake\"].mean()]}\n",
        "df_score = pd.DataFrame(data=d)\n",
        "df_score.head()\n"
      ],
      "metadata": {
        "id": "DvkWIt2Whl3s",
        "colab": {
          "base_uri": "https://localhost:8080/",
          "height": 81
        },
        "outputId": "9251058f-257c-4796-f69b-9ce7a260add4"
      },
      "execution_count": 2,
      "outputs": [
        {
          "output_type": "execute_result",
          "data": {
            "text/plain": [
              "   key_tfidf  key_textrank  key_topicrank  key_singlerank  key_positionrank  \\\n",
              "0   0.144365      0.086412        0.09963        0.093423          0.140874   \n",
              "\n",
              "   key_kea  key_KPMiner  key_yake  \n",
              "0  0.04271     0.098211  0.173127  "
            ],
            "text/html": [
              "\n",
              "  <div id=\"df-317366a6-8663-422d-971d-5767a34fcf26\">\n",
              "    <div class=\"colab-df-container\">\n",
              "      <div>\n",
              "<style scoped>\n",
              "    .dataframe tbody tr th:only-of-type {\n",
              "        vertical-align: middle;\n",
              "    }\n",
              "\n",
              "    .dataframe tbody tr th {\n",
              "        vertical-align: top;\n",
              "    }\n",
              "\n",
              "    .dataframe thead th {\n",
              "        text-align: right;\n",
              "    }\n",
              "</style>\n",
              "<table border=\"1\" class=\"dataframe\">\n",
              "  <thead>\n",
              "    <tr style=\"text-align: right;\">\n",
              "      <th></th>\n",
              "      <th>key_tfidf</th>\n",
              "      <th>key_textrank</th>\n",
              "      <th>key_topicrank</th>\n",
              "      <th>key_singlerank</th>\n",
              "      <th>key_positionrank</th>\n",
              "      <th>key_kea</th>\n",
              "      <th>key_KPMiner</th>\n",
              "      <th>key_yake</th>\n",
              "    </tr>\n",
              "  </thead>\n",
              "  <tbody>\n",
              "    <tr>\n",
              "      <th>0</th>\n",
              "      <td>0.144365</td>\n",
              "      <td>0.086412</td>\n",
              "      <td>0.09963</td>\n",
              "      <td>0.093423</td>\n",
              "      <td>0.140874</td>\n",
              "      <td>0.04271</td>\n",
              "      <td>0.098211</td>\n",
              "      <td>0.173127</td>\n",
              "    </tr>\n",
              "  </tbody>\n",
              "</table>\n",
              "</div>\n",
              "      <button class=\"colab-df-convert\" onclick=\"convertToInteractive('df-317366a6-8663-422d-971d-5767a34fcf26')\"\n",
              "              title=\"Convert this dataframe to an interactive table.\"\n",
              "              style=\"display:none;\">\n",
              "        \n",
              "  <svg xmlns=\"http://www.w3.org/2000/svg\" height=\"24px\"viewBox=\"0 0 24 24\"\n",
              "       width=\"24px\">\n",
              "    <path d=\"M0 0h24v24H0V0z\" fill=\"none\"/>\n",
              "    <path d=\"M18.56 5.44l.94 2.06.94-2.06 2.06-.94-2.06-.94-.94-2.06-.94 2.06-2.06.94zm-11 1L8.5 8.5l.94-2.06 2.06-.94-2.06-.94L8.5 2.5l-.94 2.06-2.06.94zm10 10l.94 2.06.94-2.06 2.06-.94-2.06-.94-.94-2.06-.94 2.06-2.06.94z\"/><path d=\"M17.41 7.96l-1.37-1.37c-.4-.4-.92-.59-1.43-.59-.52 0-1.04.2-1.43.59L10.3 9.45l-7.72 7.72c-.78.78-.78 2.05 0 2.83L4 21.41c.39.39.9.59 1.41.59.51 0 1.02-.2 1.41-.59l7.78-7.78 2.81-2.81c.8-.78.8-2.07 0-2.86zM5.41 20L4 18.59l7.72-7.72 1.47 1.35L5.41 20z\"/>\n",
              "  </svg>\n",
              "      </button>\n",
              "      \n",
              "  <style>\n",
              "    .colab-df-container {\n",
              "      display:flex;\n",
              "      flex-wrap:wrap;\n",
              "      gap: 12px;\n",
              "    }\n",
              "\n",
              "    .colab-df-convert {\n",
              "      background-color: #E8F0FE;\n",
              "      border: none;\n",
              "      border-radius: 50%;\n",
              "      cursor: pointer;\n",
              "      display: none;\n",
              "      fill: #1967D2;\n",
              "      height: 32px;\n",
              "      padding: 0 0 0 0;\n",
              "      width: 32px;\n",
              "    }\n",
              "\n",
              "    .colab-df-convert:hover {\n",
              "      background-color: #E2EBFA;\n",
              "      box-shadow: 0px 1px 2px rgba(60, 64, 67, 0.3), 0px 1px 3px 1px rgba(60, 64, 67, 0.15);\n",
              "      fill: #174EA6;\n",
              "    }\n",
              "\n",
              "    [theme=dark] .colab-df-convert {\n",
              "      background-color: #3B4455;\n",
              "      fill: #D2E3FC;\n",
              "    }\n",
              "\n",
              "    [theme=dark] .colab-df-convert:hover {\n",
              "      background-color: #434B5C;\n",
              "      box-shadow: 0px 1px 3px 1px rgba(0, 0, 0, 0.15);\n",
              "      filter: drop-shadow(0px 1px 2px rgba(0, 0, 0, 0.3));\n",
              "      fill: #FFFFFF;\n",
              "    }\n",
              "  </style>\n",
              "\n",
              "      <script>\n",
              "        const buttonEl =\n",
              "          document.querySelector('#df-317366a6-8663-422d-971d-5767a34fcf26 button.colab-df-convert');\n",
              "        buttonEl.style.display =\n",
              "          google.colab.kernel.accessAllowed ? 'block' : 'none';\n",
              "\n",
              "        async function convertToInteractive(key) {\n",
              "          const element = document.querySelector('#df-317366a6-8663-422d-971d-5767a34fcf26');\n",
              "          const dataTable =\n",
              "            await google.colab.kernel.invokeFunction('convertToInteractive',\n",
              "                                                     [key], {});\n",
              "          if (!dataTable) return;\n",
              "\n",
              "          const docLinkHtml = 'Like what you see? Visit the ' +\n",
              "            '<a target=\"_blank\" href=https://colab.research.google.com/notebooks/data_table.ipynb>data table notebook</a>'\n",
              "            + ' to learn more about interactive tables.';\n",
              "          element.innerHTML = '';\n",
              "          dataTable['output_type'] = 'display_data';\n",
              "          await google.colab.output.renderOutput(dataTable, element);\n",
              "          const docLink = document.createElement('div');\n",
              "          docLink.innerHTML = docLinkHtml;\n",
              "          element.appendChild(docLink);\n",
              "        }\n",
              "      </script>\n",
              "    </div>\n",
              "  </div>\n",
              "  "
            ]
          },
          "metadata": {},
          "execution_count": 2
        }
      ]
    }
  ]
}